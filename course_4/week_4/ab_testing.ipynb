{
 "cells": [
  {
   "cell_type": "code",
   "execution_count": 30,
   "metadata": {},
   "outputs": [],
   "source": [
    "import pandas as pd\n",
    "import numpy as np\n",
    "from scipy import stats\n",
    "import matplotlib.pyplot as plt\n",
    "import statsmodels.stats.multitest as smm"
   ]
  },
  {
   "cell_type": "code",
   "execution_count": 2,
   "metadata": {},
   "outputs": [],
   "source": [
    "data = pd.read_csv('ab_browser_test.csv')"
   ]
  },
  {
   "cell_type": "code",
   "execution_count": 3,
   "metadata": {},
   "outputs": [
    {
     "data": {
      "text/html": [
       "<div>\n",
       "<style scoped>\n",
       "    .dataframe tbody tr th:only-of-type {\n",
       "        vertical-align: middle;\n",
       "    }\n",
       "\n",
       "    .dataframe tbody tr th {\n",
       "        vertical-align: top;\n",
       "    }\n",
       "\n",
       "    .dataframe thead th {\n",
       "        text-align: right;\n",
       "    }\n",
       "</style>\n",
       "<table border=\"1\" class=\"dataframe\">\n",
       "  <thead>\n",
       "    <tr style=\"text-align: right;\">\n",
       "      <th></th>\n",
       "      <th>userID</th>\n",
       "      <th>browser</th>\n",
       "      <th>slot</th>\n",
       "      <th>n_clicks</th>\n",
       "      <th>n_queries</th>\n",
       "      <th>n_nonclk_queries</th>\n",
       "    </tr>\n",
       "  </thead>\n",
       "  <tbody>\n",
       "    <tr>\n",
       "      <th>0</th>\n",
       "      <td>1</td>\n",
       "      <td>Browser #2</td>\n",
       "      <td>exp</td>\n",
       "      <td>23</td>\n",
       "      <td>32</td>\n",
       "      <td>19</td>\n",
       "    </tr>\n",
       "    <tr>\n",
       "      <th>1</th>\n",
       "      <td>3</td>\n",
       "      <td>Browser #4</td>\n",
       "      <td>exp</td>\n",
       "      <td>3</td>\n",
       "      <td>4</td>\n",
       "      <td>2</td>\n",
       "    </tr>\n",
       "    <tr>\n",
       "      <th>2</th>\n",
       "      <td>5</td>\n",
       "      <td>Browser #4</td>\n",
       "      <td>exp</td>\n",
       "      <td>29</td>\n",
       "      <td>35</td>\n",
       "      <td>16</td>\n",
       "    </tr>\n",
       "    <tr>\n",
       "      <th>3</th>\n",
       "      <td>6</td>\n",
       "      <td>Browser #4</td>\n",
       "      <td>control</td>\n",
       "      <td>12</td>\n",
       "      <td>6</td>\n",
       "      <td>0</td>\n",
       "    </tr>\n",
       "    <tr>\n",
       "      <th>4</th>\n",
       "      <td>7</td>\n",
       "      <td>Browser #4</td>\n",
       "      <td>exp</td>\n",
       "      <td>54</td>\n",
       "      <td>68</td>\n",
       "      <td>30</td>\n",
       "    </tr>\n",
       "  </tbody>\n",
       "</table>\n",
       "</div>"
      ],
      "text/plain": [
       "   userID     browser     slot  n_clicks  n_queries  n_nonclk_queries\n",
       "0       1  Browser #2      exp        23         32                19\n",
       "1       3  Browser #4      exp         3          4                 2\n",
       "2       5  Browser #4      exp        29         35                16\n",
       "3       6  Browser #4  control        12          6                 0\n",
       "4       7  Browser #4      exp        54         68                30"
      ]
     },
     "execution_count": 3,
     "metadata": {},
     "output_type": "execute_result"
    }
   ],
   "source": [
    "data.head()"
   ]
  },
  {
   "cell_type": "code",
   "execution_count": 4,
   "metadata": {},
   "outputs": [],
   "source": [
    "exp_clicks = data[data['slot'] == 'exp'].groupby(['userID', 'browser'])['n_clicks'].apply(pd.Series)\n",
    "control_clicks = data[data['slot'] == 'control'].groupby(['userID', 'browser'])['n_clicks'].apply(pd.Series)"
   ]
  },
  {
   "cell_type": "code",
   "execution_count": 5,
   "metadata": {},
   "outputs": [
    {
     "data": {
      "text/plain": [
       "array([23,  3, 29, ...,  4,  4,  3], dtype=int64)"
      ]
     },
     "execution_count": 5,
     "metadata": {},
     "output_type": "execute_result"
    }
   ],
   "source": [
    "exp_clicks.values"
   ]
  },
  {
   "cell_type": "code",
   "execution_count": 6,
   "metadata": {},
   "outputs": [],
   "source": [
    "ans1 = (\n",
    "    exp_clicks.sum()/\n",
    "    control_clicks.sum() - 1\n",
    ") * 100"
   ]
  },
  {
   "cell_type": "code",
   "execution_count": 7,
   "metadata": {},
   "outputs": [
    {
     "data": {
      "text/plain": [
       "1.6135689824415822"
      ]
     },
     "execution_count": 7,
     "metadata": {},
     "output_type": "execute_result"
    }
   ],
   "source": [
    "ans1"
   ]
  },
  {
   "cell_type": "code",
   "execution_count": 9,
   "metadata": {},
   "outputs": [],
   "source": [
    "def get_bootstrap_samples(data, n_samples):\n",
    "    indices = np.random.randint(0, len(data), (n_samples, len(data)))\n",
    "    samples = data[indices]\n",
    "    return samples"
   ]
  },
  {
   "cell_type": "code",
   "execution_count": 10,
   "metadata": {},
   "outputs": [],
   "source": [
    "def stat_intervals(stat, alpha):\n",
    "    boundaries = np.percentile(stat, [100 * alpha / 2., 100 * (1 - alpha / 2.)])\n",
    "    return boundaries"
   ]
  },
  {
   "cell_type": "code",
   "execution_count": 19,
   "metadata": {},
   "outputs": [
    {
     "name": "stdout",
     "output_type": "stream",
     "text": [
      "difference between medians: 1.0\n",
      "95% confidence interval for the difference between medians [1. 1.]\n"
     ]
    }
   ],
   "source": [
    "np.random.seed(0)\n",
    "print(\"difference between medians:\", np.median(exp_clicks) - np.median(control_clicks))\n",
    "exp_median = list(map(np.median, get_bootstrap_samples(exp_clicks.values, 500)))\n",
    "control_median = list(map(np.median, get_bootstrap_samples(control_clicks.values, 500)))\n",
    "delta_median = list(map(lambda x: x[0] - x[1], zip(exp_median, control_median)))\n",
    "print(\"95% confidence interval for the difference between medians\",  stat_intervals(delta_median, 0.05))"
   ]
  },
  {
   "cell_type": "code",
   "execution_count": 20,
   "metadata": {},
   "outputs": [
    {
     "name": "stdout",
     "output_type": "stream",
     "text": [
      "difference between means: 0.3030947340656329\n",
      "95% confidence interval for the difference between means [0.19960335 0.40496719]\n"
     ]
    }
   ],
   "source": [
    "np.random.seed(0)\n",
    "print(\"difference between means:\", np.mean(exp_clicks) - np.mean(control_clicks))\n",
    "exp_mean = list(map(np.mean, get_bootstrap_samples(exp_clicks.values, 500)))\n",
    "control_mean = list(map(np.mean, get_bootstrap_samples(control_clicks.values, 500)))\n",
    "control_var = list(map(np.var, get_bootstrap_samples(control_clicks.values, 500)))\n",
    "delta_mean = list(map(lambda x: x[0] - x[1], zip(exp_mean, control_mean)))\n",
    "print(\"95% confidence interval for the difference between means\",  stat_intervals(delta_mean, 0.05))"
   ]
  },
  {
   "cell_type": "code",
   "execution_count": 24,
   "metadata": {},
   "outputs": [
    {
     "data": {
      "text/plain": [
       "((array([-2.99209858e+00, -2.71015927e+00, -2.55162541e+00, -2.43921385e+00,\n",
       "         -2.35113311e+00, -2.27822091e+00, -2.21572267e+00, -2.16084152e+00,\n",
       "         -2.11178767e+00, -2.06734403e+00, -2.02664403e+00, -1.98904794e+00,\n",
       "         -1.95406954e+00, -1.92133033e+00, -1.89052965e+00, -1.86142459e+00,\n",
       "         -1.83381593e+00, -1.80753820e+00, -1.78245240e+00, -1.75844061e+00,\n",
       "         -1.73540186e+00, -1.71324904e+00, -1.69190643e+00, -1.67130780e+00,\n",
       "         -1.65139483e+00, -1.63211595e+00, -1.61342528e+00, -1.59528183e+00,\n",
       "         -1.57764883e+00, -1.56049314e+00, -1.54378481e+00, -1.52749667e+00,\n",
       "         -1.51160399e+00, -1.49608418e+00, -1.48091659e+00, -1.46608224e+00,\n",
       "         -1.45156367e+00, -1.43734479e+00, -1.42341071e+00, -1.40974764e+00,\n",
       "         -1.39634279e+00, -1.38318426e+00, -1.37026095e+00, -1.35756253e+00,\n",
       "         -1.34507932e+00, -1.33280226e+00, -1.32072287e+00, -1.30883317e+00,\n",
       "         -1.29712567e+00, -1.28559331e+00, -1.27422944e+00, -1.26302778e+00,\n",
       "         -1.25198239e+00, -1.24108768e+00, -1.23033831e+00, -1.21972926e+00,\n",
       "         -1.20925574e+00, -1.19891322e+00, -1.18869738e+00, -1.17860411e+00,\n",
       "         -1.16862950e+00, -1.15876983e+00, -1.14902154e+00, -1.13938123e+00,\n",
       "         -1.12984566e+00, -1.12041173e+00, -1.11107648e+00, -1.10183707e+00,\n",
       "         -1.09269077e+00, -1.08363498e+00, -1.07466719e+00, -1.06578501e+00,\n",
       "         -1.05698612e+00, -1.04826831e+00, -1.03962946e+00, -1.03106750e+00,\n",
       "         -1.02258046e+00, -1.01416645e+00, -1.00582364e+00, -9.97550247e-01,\n",
       "         -9.89344581e-01, -9.81204996e-01, -9.73129904e-01, -9.65117774e-01,\n",
       "         -9.57167125e-01, -9.49276525e-01, -9.41444591e-01, -9.33669982e-01,\n",
       "         -9.25951403e-01, -9.18287599e-01, -9.10677353e-01, -9.03119487e-01,\n",
       "         -8.95612861e-01, -8.88156365e-01, -8.80748927e-01, -8.73389502e-01,\n",
       "         -8.66077081e-01, -8.58810678e-01, -8.51589342e-01, -8.44412143e-01,\n",
       "         -8.37278180e-01, -8.30186576e-01, -8.23136480e-01, -8.16127061e-01,\n",
       "         -8.09157513e-01, -8.02227049e-01, -7.95334905e-01, -7.88480336e-01,\n",
       "         -7.81662614e-01, -7.74881033e-01, -7.68134903e-01, -7.61423551e-01,\n",
       "         -7.54746322e-01, -7.48102575e-01, -7.41491685e-01, -7.34913044e-01,\n",
       "         -7.28366057e-01, -7.21850142e-01, -7.15364731e-01, -7.08909270e-01,\n",
       "         -7.02483218e-01, -6.96086043e-01, -6.89717230e-01, -6.83376271e-01,\n",
       "         -6.77062670e-01, -6.70775943e-01, -6.64515617e-01, -6.58281226e-01,\n",
       "         -6.52072317e-01, -6.45888445e-01, -6.39729174e-01, -6.33594076e-01,\n",
       "         -6.27482735e-01, -6.21394740e-01, -6.15329690e-01, -6.09287191e-01,\n",
       "         -6.03266856e-01, -5.97268307e-01, -5.91291174e-01, -5.85335090e-01,\n",
       "         -5.79399700e-01, -5.73484651e-01, -5.67589599e-01, -5.61714207e-01,\n",
       "         -5.55858142e-01, -5.50021077e-01, -5.44202692e-01, -5.38402673e-01,\n",
       "         -5.32620709e-01, -5.26856497e-01, -5.21109737e-01, -5.15380136e-01,\n",
       "         -5.09667405e-01, -5.03971258e-01, -4.98291417e-01, -4.92627606e-01,\n",
       "         -4.86979553e-01, -4.81346993e-01, -4.75729663e-01, -4.70127305e-01,\n",
       "         -4.64539663e-01, -4.58966488e-01, -4.53407532e-01, -4.47862553e-01,\n",
       "         -4.42331309e-01, -4.36813566e-01, -4.31309089e-01, -4.25817651e-01,\n",
       "         -4.20339023e-01, -4.14872983e-01, -4.09419311e-01, -4.03977788e-01,\n",
       "         -3.98548202e-01, -3.93130339e-01, -3.87723992e-01, -3.82328953e-01,\n",
       "         -3.76945020e-01, -3.71571992e-01, -3.66209669e-01, -3.60857856e-01,\n",
       "         -3.55516359e-01, -3.50184986e-01, -3.44863547e-01, -3.39551857e-01,\n",
       "         -3.34249730e-01, -3.28956983e-01, -3.23673435e-01, -3.18398908e-01,\n",
       "         -3.13133223e-01, -3.07876207e-01, -3.02627686e-01, -2.97387487e-01,\n",
       "         -2.92155443e-01, -2.86931384e-01, -2.81715143e-01, -2.76506557e-01,\n",
       "         -2.71305462e-01, -2.66111695e-01, -2.60925097e-01, -2.55745509e-01,\n",
       "         -2.50572773e-01, -2.45406732e-01, -2.40247233e-01, -2.35094122e-01,\n",
       "         -2.29947246e-01, -2.24806454e-01, -2.19671596e-01, -2.14542524e-01,\n",
       "         -2.09419090e-01, -2.04301147e-01, -1.99188550e-01, -1.94081154e-01,\n",
       "         -1.88978816e-01, -1.83881393e-01, -1.78788743e-01, -1.73700727e-01,\n",
       "         -1.68617203e-01, -1.63538032e-01, -1.58463078e-01, -1.53392201e-01,\n",
       "         -1.48325265e-01, -1.43262135e-01, -1.38202675e-01, -1.33146749e-01,\n",
       "         -1.28094226e-01, -1.23044970e-01, -1.17998849e-01, -1.12955731e-01,\n",
       "         -1.07915484e-01, -1.02877978e-01, -9.78430801e-02, -9.28106619e-02,\n",
       "         -8.77805930e-02, -8.27527442e-02, -7.77269864e-02, -7.27031911e-02,\n",
       "         -6.76812301e-02, -6.26609755e-02, -5.76422995e-02, -5.26250751e-02,\n",
       "         -4.76091750e-02, -4.25944724e-02, -3.75808407e-02, -3.25681535e-02,\n",
       "         -2.75562846e-02, -2.25451077e-02, -1.75344969e-02, -1.25243263e-02,\n",
       "         -7.51447003e-03, -2.50480239e-03,  2.50480239e-03,  7.51447003e-03,\n",
       "          1.25243263e-02,  1.75344969e-02,  2.25451077e-02,  2.75562846e-02,\n",
       "          3.25681535e-02,  3.75808407e-02,  4.25944724e-02,  4.76091750e-02,\n",
       "          5.26250751e-02,  5.76422995e-02,  6.26609755e-02,  6.76812301e-02,\n",
       "          7.27031911e-02,  7.77269864e-02,  8.27527442e-02,  8.77805930e-02,\n",
       "          9.28106619e-02,  9.78430801e-02,  1.02877978e-01,  1.07915484e-01,\n",
       "          1.12955731e-01,  1.17998849e-01,  1.23044970e-01,  1.28094226e-01,\n",
       "          1.33146749e-01,  1.38202675e-01,  1.43262135e-01,  1.48325265e-01,\n",
       "          1.53392201e-01,  1.58463078e-01,  1.63538032e-01,  1.68617203e-01,\n",
       "          1.73700727e-01,  1.78788743e-01,  1.83881393e-01,  1.88978816e-01,\n",
       "          1.94081154e-01,  1.99188550e-01,  2.04301147e-01,  2.09419090e-01,\n",
       "          2.14542524e-01,  2.19671596e-01,  2.24806454e-01,  2.29947246e-01,\n",
       "          2.35094122e-01,  2.40247233e-01,  2.45406732e-01,  2.50572773e-01,\n",
       "          2.55745509e-01,  2.60925097e-01,  2.66111695e-01,  2.71305462e-01,\n",
       "          2.76506557e-01,  2.81715143e-01,  2.86931384e-01,  2.92155443e-01,\n",
       "          2.97387487e-01,  3.02627686e-01,  3.07876207e-01,  3.13133223e-01,\n",
       "          3.18398908e-01,  3.23673435e-01,  3.28956983e-01,  3.34249730e-01,\n",
       "          3.39551857e-01,  3.44863547e-01,  3.50184986e-01,  3.55516359e-01,\n",
       "          3.60857856e-01,  3.66209669e-01,  3.71571992e-01,  3.76945020e-01,\n",
       "          3.82328953e-01,  3.87723992e-01,  3.93130339e-01,  3.98548202e-01,\n",
       "          4.03977788e-01,  4.09419311e-01,  4.14872983e-01,  4.20339023e-01,\n",
       "          4.25817651e-01,  4.31309089e-01,  4.36813566e-01,  4.42331309e-01,\n",
       "          4.47862553e-01,  4.53407532e-01,  4.58966488e-01,  4.64539663e-01,\n",
       "          4.70127305e-01,  4.75729663e-01,  4.81346993e-01,  4.86979553e-01,\n",
       "          4.92627606e-01,  4.98291417e-01,  5.03971258e-01,  5.09667405e-01,\n",
       "          5.15380136e-01,  5.21109737e-01,  5.26856497e-01,  5.32620709e-01,\n",
       "          5.38402673e-01,  5.44202692e-01,  5.50021077e-01,  5.55858142e-01,\n",
       "          5.61714207e-01,  5.67589599e-01,  5.73484651e-01,  5.79399700e-01,\n",
       "          5.85335090e-01,  5.91291174e-01,  5.97268307e-01,  6.03266856e-01,\n",
       "          6.09287191e-01,  6.15329690e-01,  6.21394740e-01,  6.27482735e-01,\n",
       "          6.33594076e-01,  6.39729174e-01,  6.45888445e-01,  6.52072317e-01,\n",
       "          6.58281226e-01,  6.64515617e-01,  6.70775943e-01,  6.77062670e-01,\n",
       "          6.83376271e-01,  6.89717230e-01,  6.96086043e-01,  7.02483218e-01,\n",
       "          7.08909270e-01,  7.15364731e-01,  7.21850142e-01,  7.28366057e-01,\n",
       "          7.34913044e-01,  7.41491685e-01,  7.48102575e-01,  7.54746322e-01,\n",
       "          7.61423551e-01,  7.68134903e-01,  7.74881033e-01,  7.81662614e-01,\n",
       "          7.88480336e-01,  7.95334905e-01,  8.02227049e-01,  8.09157513e-01,\n",
       "          8.16127061e-01,  8.23136480e-01,  8.30186576e-01,  8.37278180e-01,\n",
       "          8.44412143e-01,  8.51589342e-01,  8.58810678e-01,  8.66077081e-01,\n",
       "          8.73389502e-01,  8.80748927e-01,  8.88156365e-01,  8.95612861e-01,\n",
       "          9.03119487e-01,  9.10677353e-01,  9.18287599e-01,  9.25951403e-01,\n",
       "          9.33669982e-01,  9.41444591e-01,  9.49276525e-01,  9.57167125e-01,\n",
       "          9.65117774e-01,  9.73129904e-01,  9.81204996e-01,  9.89344581e-01,\n",
       "          9.97550247e-01,  1.00582364e+00,  1.01416645e+00,  1.02258046e+00,\n",
       "          1.03106750e+00,  1.03962946e+00,  1.04826831e+00,  1.05698612e+00,\n",
       "          1.06578501e+00,  1.07466719e+00,  1.08363498e+00,  1.09269077e+00,\n",
       "          1.10183707e+00,  1.11107648e+00,  1.12041173e+00,  1.12984566e+00,\n",
       "          1.13938123e+00,  1.14902154e+00,  1.15876983e+00,  1.16862950e+00,\n",
       "          1.17860411e+00,  1.18869738e+00,  1.19891322e+00,  1.20925574e+00,\n",
       "          1.21972926e+00,  1.23033831e+00,  1.24108768e+00,  1.25198239e+00,\n",
       "          1.26302778e+00,  1.27422944e+00,  1.28559331e+00,  1.29712567e+00,\n",
       "          1.30883317e+00,  1.32072287e+00,  1.33280226e+00,  1.34507932e+00,\n",
       "          1.35756253e+00,  1.37026095e+00,  1.38318426e+00,  1.39634279e+00,\n",
       "          1.40974764e+00,  1.42341071e+00,  1.43734479e+00,  1.45156367e+00,\n",
       "          1.46608224e+00,  1.48091659e+00,  1.49608418e+00,  1.51160399e+00,\n",
       "          1.52749667e+00,  1.54378481e+00,  1.56049314e+00,  1.57764883e+00,\n",
       "          1.59528183e+00,  1.61342528e+00,  1.63211595e+00,  1.65139483e+00,\n",
       "          1.67130780e+00,  1.69190643e+00,  1.71324904e+00,  1.73540186e+00,\n",
       "          1.75844061e+00,  1.78245240e+00,  1.80753820e+00,  1.83381593e+00,\n",
       "          1.86142459e+00,  1.89052965e+00,  1.92133033e+00,  1.95406954e+00,\n",
       "          1.98904794e+00,  2.02664403e+00,  2.06734403e+00,  2.11178767e+00,\n",
       "          2.16084152e+00,  2.21572267e+00,  2.27822091e+00,  2.35113311e+00,\n",
       "          2.43921385e+00,  2.55162541e+00,  2.71015927e+00,  2.99209858e+00]),\n",
       "  array([11.17120125, 11.18500882, 11.18748638, 11.18912403, 11.1907898 ,\n",
       "         11.19600849, 11.20214089, 11.20214792, 11.2030054 , 11.20511045,\n",
       "         11.20569382, 11.20576059, 11.20579222, 11.20767587, 11.20978092,\n",
       "         11.21077897, 11.21103903, 11.21279265, 11.21284537, 11.21313354,\n",
       "         11.21453222, 11.2158571 , 11.21620501, 11.21633504, 11.21636667,\n",
       "         11.21772669, 11.21811326, 11.21924837, 11.21988797, 11.22030616,\n",
       "         11.22152913, 11.22187353, 11.22320192, 11.22375015, 11.22513126,\n",
       "         11.2254124 , 11.22545457, 11.22676188, 11.22677242, 11.22685325,\n",
       "         11.22729956, 11.22747879, 11.22752799, 11.22755259, 11.22939407,\n",
       "         11.22980875, 11.22989661, 11.23031129, 11.23090169, 11.23143586,\n",
       "         11.23200869, 11.23223009, 11.2329224 , 11.2331684 , 11.23324923,\n",
       "         11.23348117, 11.23444759, 11.23479902, 11.2354351 , 11.23545267,\n",
       "         11.23559676, 11.23609578, 11.2369111 , 11.23738552, 11.23756826,\n",
       "         11.23758584, 11.23768424, 11.23769478, 11.23797943, 11.23808486,\n",
       "         11.23816921, 11.23818678, 11.23867175, 11.24015125, 11.24045348,\n",
       "         11.24156048, 11.24158156, 11.24174673, 11.2421579 , 11.24265693,\n",
       "         11.24365498, 11.24374284, 11.24398884, 11.24418915, 11.24457572,\n",
       "         11.24475495, 11.24518369, 11.24547186, 11.24616417, 11.24619932,\n",
       "         11.2464664 , 11.24656129, 11.24704977, 11.24709194, 11.24715168,\n",
       "         11.24715168, 11.24741525, 11.24825868, 11.24838871, 11.24839925,\n",
       "         11.24844493, 11.24856793, 11.24862416, 11.2496187 , 11.24976279,\n",
       "         11.25039184, 11.2505043 , 11.25053241, 11.25114741, 11.25128798,\n",
       "         11.25129852, 11.25141098, 11.25164995, 11.25188189, 11.25189595,\n",
       "         11.25211383, 11.25213492, 11.2523036 , 11.25249338, 11.25253906,\n",
       "         11.25306972, 11.25316812, 11.25338951, 11.25342114, 11.25371283,\n",
       "         11.25375851, 11.2538288 , 11.25397991, 11.25403263, 11.25448597,\n",
       "         11.25458085, 11.25460194, 11.25499202, 11.25509745, 11.25516774,\n",
       "         11.25567028, 11.25612713, 11.25616579, 11.25636962, 11.2563907 ,\n",
       "         11.25639773, 11.25642233, 11.25647856, 11.25656993, 11.25686864,\n",
       "         11.25731496, 11.25737821, 11.25761367, 11.25816892, 11.2582357 ,\n",
       "         11.25843601, 11.25859415, 11.25871715, 11.25872418, 11.25882961,\n",
       "         11.25888232, 11.25897721, 11.25914589, 11.25942703, 11.25951138,\n",
       "         11.259543  , 11.25973629, 11.25993309, 11.26033723, 11.26038292,\n",
       "         11.26082923, 11.2609944 , 11.26122634, 11.26122634, 11.26124743,\n",
       "         11.26149694, 11.26164454, 11.26206625, 11.26227359, 11.26243174,\n",
       "         11.26253716, 11.26279371, 11.26285696, 11.26289562, 11.26296942,\n",
       "         11.2633841 , 11.2634579 , 11.26427673, 11.26504987, 11.26510258,\n",
       "         11.26515178, 11.26552078, 11.26556998, 11.26581598, 11.26624823,\n",
       "         11.26671915, 11.2668808 , 11.26722872, 11.26741497, 11.26768557,\n",
       "         11.26794563, 11.26805106, 11.26847628, 11.26860982, 11.26866605,\n",
       "         11.26888042, 11.26950948, 11.26969925, 11.26974845, 11.26999093,\n",
       "         11.2701807 , 11.27034236, 11.27077462, 11.27158641, 11.27193433,\n",
       "         11.27213464, 11.27214518, 11.27253175, 11.27259852, 11.27350169,\n",
       "         11.27371255, 11.27404992, 11.27417994, 11.27440837, 11.27448217,\n",
       "         11.27454543, 11.27467897, 11.27490388, 11.27490388, 11.27499877,\n",
       "         11.27517097, 11.27519205, 11.27526585, 11.27579651, 11.27587031,\n",
       "         11.27594059, 11.27628851, 11.27634825, 11.27666102, 11.27688242,\n",
       "         11.2770265 , 11.2771249 , 11.2771987 , 11.27720925, 11.27730062,\n",
       "         11.27775396, 11.27790156, 11.27856927, 11.2787977 , 11.27895233,\n",
       "         11.27895584, 11.27935998, 11.27963058, 11.28012961, 11.28028775,\n",
       "         11.28037561, 11.28063215, 11.28085355, 11.2808676 , 11.28087112,\n",
       "         11.28099763, 11.28108549, 11.28134203, 11.28269151, 11.28270908,\n",
       "         11.28364388, 11.28382662, 11.28386176, 11.28396719, 11.28400585,\n",
       "         11.28443107, 11.28443107, 11.28463842, 11.28489496, 11.2852499 ,\n",
       "         11.2856927 , 11.2861109 , 11.28641664, 11.28647287, 11.28672589,\n",
       "         11.28707381, 11.28717221, 11.28756229, 11.28761149, 11.28770286,\n",
       "         11.28798049, 11.28801212, 11.28811403, 11.28820892, 11.28833192,\n",
       "         11.28860251, 11.28866226, 11.28885203, 11.2889188 , 11.28905937,\n",
       "         11.28909451, 11.28925968, 11.28984657, 11.28994145, 11.29009959,\n",
       "         11.29022611, 11.29039479, 11.29045454, 11.29045805, 11.29047562,\n",
       "         11.29064079, 11.29064782, 11.29072865, 11.29115388, 11.2917513 ,\n",
       "         11.29207813, 11.29221519, 11.29236981, 11.29251741, 11.2925631 ,\n",
       "         11.29284073, 11.29312538, 11.29329055, 11.29362089, 11.29363847,\n",
       "         11.29375795, 11.29391258, 11.29451001, 11.29468572, 11.29475249,\n",
       "         11.2958384 , 11.29602817, 11.29635148, 11.29635851, 11.29643583,\n",
       "         11.29668885, 11.29699108, 11.29715274, 11.29742334, 11.29774665,\n",
       "         11.2982773 , 11.29853385, 11.29862522, 11.29890987, 11.29897313,\n",
       "         11.2990891 , 11.29932807, 11.29935619, 11.2997779 , 11.29979196,\n",
       "         11.30008364, 11.30021015, 11.30027341, 11.30041047, 11.30082515,\n",
       "         11.30086029, 11.30109575, 11.30182672, 11.30208677, 11.30212192,\n",
       "         11.30229412, 11.30257174, 11.30258932, 11.30265609, 11.30288451,\n",
       "         11.3029302 , 11.30293371, 11.30306726, 11.3030778 , 11.30318674,\n",
       "         11.30328866, 11.30335894, 11.30372794, 11.3040372 , 11.30405477,\n",
       "         11.30413911, 11.30451865, 11.30459948, 11.30461354, 11.30500011,\n",
       "         11.30528828, 11.30528828, 11.30542182, 11.30549562, 11.30578027,\n",
       "         11.30583299, 11.30592084, 11.30615982, 11.30658504, 11.30661316,\n",
       "         11.30694701, 11.3072633 , 11.30732304, 11.3074355 , 11.30754795,\n",
       "         11.30815592, 11.30868658, 11.30876389, 11.3087674 , 11.30887635,\n",
       "         11.30930509, 11.30966354, 11.3097268 , 11.31000091, 11.31000443,\n",
       "         11.31044723, 11.31074242, 11.31093571, 11.31111494, 11.31159288,\n",
       "         11.31182833, 11.31206379, 11.31214111, 11.31232736, 11.31283342,\n",
       "         11.31409855, 11.3142567 , 11.31470652, 11.31472058, 11.31478735,\n",
       "         11.31504038, 11.31533206, 11.31548318, 11.31562375, 11.31604195,\n",
       "         11.31640392, 11.31677994, 11.31717003, 11.31756363, 11.31768663,\n",
       "         11.31809077, 11.31832974, 11.31842462, 11.31862142, 11.31912396,\n",
       "         11.31929616, 11.31957379, 11.31963002, 11.32044533, 11.32085298,\n",
       "         11.32099707, 11.3215453 , 11.32199864, 11.32235006, 11.32329892,\n",
       "         11.32335866, 11.3233692 , 11.3236644 , 11.32560428, 11.32596976,\n",
       "         11.32604005, 11.32663396, 11.32676047, 11.32682725, 11.3273579 ,\n",
       "         11.32740007, 11.32753361, 11.32762499, 11.32799398, 11.32925561,\n",
       "         11.32933644, 11.33013769, 11.33049614, 11.33096003, 11.33228491,\n",
       "         11.33269608, 11.33281556, 11.33292099, 11.33391905, 11.33401393,\n",
       "         11.33455864, 11.33475193, 11.33488547, 11.33491358, 11.3351385 ,\n",
       "         11.3352861 , 11.33605572, 11.33646689, 11.33987222, 11.34001982,\n",
       "         11.34109519, 11.3413693 , 11.34174181, 11.34278907, 11.343882  ,\n",
       "         11.3441772 , 11.34554074, 11.34730139, 11.34739276, 11.3484857 ,\n",
       "         11.34858761, 11.34905501, 11.34930804, 11.34931858, 11.35042558,\n",
       "         11.35071023, 11.35341974, 11.35352517, 11.35402068, 11.35736626,\n",
       "         11.36004062, 11.36097894, 11.36107031, 11.36720974, 11.36822888,\n",
       "         11.36953619, 11.37101218, 11.37605516, 11.39148281, 11.40458753])),\n",
       " (0.03821611315715047, 11.280319503503728, 0.9991755399263494))"
      ]
     },
     "execution_count": 24,
     "metadata": {},
     "output_type": "execute_result"
    },
    {
     "data": {
      "image/png": "[encoded data removed]",
      "text/plain": [
       "<Figure size 432x288 with 1 Axes>"
      ]
     },
     "metadata": {
      "needs_background": "light"
     },
     "output_type": "display_data"
    }
   ],
   "source": [
    "stats.probplot(control_mean, plot=plt, rvalue=True)"
   ]
  },
  {
   "cell_type": "code",
   "execution_count": 27,
   "metadata": {},
   "outputs": [
    {
     "data": {
      "text/plain": [
       "((array([409.75447609, 417.6076492 , 422.06789456, 425.24996033,\n",
       "         427.75458277, 429.83540071, 431.6244473 , 433.19958802,\n",
       "         434.61075771, 435.89197548, 437.06750372, 438.15527962,\n",
       "         439.16895419, 440.11916758, 441.0143809 , 441.86143812,\n",
       "         442.66595697, 443.43260794, 444.16531782, 444.86742108,\n",
       "         445.54177438, 446.19084464, 446.81677748, 447.42145127,\n",
       "         448.00652022, 448.57344901, 449.12354099, 449.6579613 ,\n",
       "         450.17775596, 450.68386771, 451.17714938, 451.65837504,\n",
       "         452.12824958, 452.58741674, 453.03646615, 453.47593922,\n",
       "         453.90633437, 454.32811152, 454.74169597, 455.14748186,\n",
       "         455.54583518, 455.93709642, 456.3215829 , 456.69959087,\n",
       "         457.07139736, 457.43726183, 457.79742761, 458.1521233 ,\n",
       "         458.50156388, 458.84595184, 459.1854781 , 459.52032292,\n",
       "         459.85065667, 460.17664058, 460.49842735, 460.81616179,\n",
       "         461.12998133, 461.44001656, 461.74639164, 462.04922476,\n",
       "         462.3486285 , 462.64471019, 462.93757225, 463.22731247,\n",
       "         463.51402431, 463.79779714, 464.07871649, 464.35686427,\n",
       "         464.63231897, 464.90515586, 465.17544715, 465.44326219,\n",
       "         465.70866759, 465.97172738, 466.23250314, 466.49105414,\n",
       "         466.74743742, 467.00170797, 467.25391874, 467.50412083,\n",
       "         467.75236352, 467.99869437, 468.24315933, 468.48580276,\n",
       "         468.72666756, 468.9657952 , 469.20322579, 469.43899817,\n",
       "         469.67314992, 469.90571743, 470.13673598, 470.36623974,\n",
       "         470.59426187, 470.82083452, 471.04598887, 471.26975521,\n",
       "         471.49216293, 471.71324059, 471.93301594, 472.15151593,\n",
       "         472.36876679, 472.58479402, 472.79962241, 473.01327612,\n",
       "         473.22577862, 473.43715282, 473.64742098, 473.85660482,\n",
       "         474.06472549, 474.27180363, 474.47785934, 474.68291223,\n",
       "         474.88698145, 475.09008566, 475.29224309, 475.49347153,\n",
       "         475.69378836, 475.89321056, 476.09175471, 476.28943702,\n",
       "         476.48627333, 476.68227913, 476.87746958, 477.07185948,\n",
       "         477.26546334, 477.45829534, 477.65036938, 477.84169905,\n",
       "         478.03229766, 478.22217826, 478.41135362, 478.59983627,\n",
       "         478.78763846, 478.97477223, 479.16124937, 479.34708144,\n",
       "         479.5322798 , 479.71685555, 479.90081964, 480.08418277,\n",
       "         480.26695546, 480.44914804, 480.63077065, 480.81183327,\n",
       "         480.99234567, 481.17231747, 481.35175812, 481.53067691,\n",
       "         481.70908297, 481.88698529, 482.06439268, 482.24131385,\n",
       "         482.41775732, 482.59373152, 482.76924472, 482.94430506,\n",
       "         483.11892057, 483.29309913, 483.46684854, 483.64017644,\n",
       "         483.81309039, 483.98559783, 484.15770608, 484.32942237,\n",
       "         484.50075382, 484.67170745, 484.8422902 , 485.01250889,\n",
       "         485.18237027, 485.35188099, 485.5210476 , 485.68987659,\n",
       "         485.85837436, 486.02654722, 486.1944014 , 486.36194308,\n",
       "         486.52917832, 486.69611315, 486.86275351, 487.02910527,\n",
       "         487.19517424, 487.36096615, 487.52648669, 487.69174147,\n",
       "         487.85673604, 488.02147589, 488.18596648, 488.35021316,\n",
       "         488.51422128, 488.67799611, 488.84154287, 489.00486673,\n",
       "         489.16797282, 489.33086621, 489.49355193, 489.65603496,\n",
       "         489.81832026, 489.98041271, 490.14231717, 490.30403846,\n",
       "         490.46558136, 490.62695061, 490.78815091, 490.94918693,\n",
       "         491.1100633 , 491.27078462, 491.43135545, 491.59178034,\n",
       "         491.75206378, 491.91221026, 492.07222421, 492.23211006,\n",
       "         492.39187219, 492.55151498, 492.71104276, 492.87045985,\n",
       "         493.02977055, 493.18897913, 493.34808983, 493.50710688,\n",
       "         493.6660345 , 493.82487688, 493.98363818, 494.14232257,\n",
       "         494.30093417, 494.45947713, 494.61795553, 494.77637348,\n",
       "         494.93473505, 495.09304432, 495.25130533, 495.40952214,\n",
       "         495.56769878, 495.72583927, 495.88394762, 496.04202785,\n",
       "         496.20008395, 496.35811992, 496.51613974, 496.67414739,\n",
       "         496.83214685, 496.9901421 , 497.1481371 , 497.30613582,\n",
       "         497.46414222, 497.62216027, 497.78019393, 497.93824716,\n",
       "         498.09632394, 498.25442821, 498.41256396, 498.57073516,\n",
       "         498.72894577, 498.88719979, 499.04550118, 499.20385395,\n",
       "         499.36226209, 499.52072961, 499.67926051, 499.83785882,\n",
       "         499.99652857, 500.15527379, 500.31409855, 500.47300689,\n",
       "         500.6320029 , 500.79109066, 500.95027428, 501.10955787,\n",
       "         501.26894556, 501.4284415 , 501.58804986, 501.74777481,\n",
       "         501.90762055, 502.06759131, 502.22769132, 502.38792485,\n",
       "         502.54829617, 502.7088096 , 502.86946945, 503.03028007,\n",
       "         503.19124585, 503.35237119, 503.51366051, 503.67511828,\n",
       "         503.83674897, 503.99855711, 504.16054723, 504.32272391,\n",
       "         504.48509177, 504.64765544, 504.8104196 , 504.97338897,\n",
       "         505.13656828, 505.29996234, 505.46357595, 505.62741399,\n",
       "         505.79148136, 505.955783  , 506.12032391, 506.28510912,\n",
       "         506.4501437 , 506.61543279, 506.78098155, 506.94679522,\n",
       "         507.11287906, 507.27923839, 507.4458786 , 507.61280512,\n",
       "         507.78002343, 507.94753908, 508.11535769, 508.2834849 ,\n",
       "         508.45192645, 508.62068813, 508.78977579, 508.95919536,\n",
       "         509.12895283, 509.29905425, 509.46950577, 509.64031358,\n",
       "         509.81148398, 509.98302331, 510.15493802, 510.32723463,\n",
       "         510.49991974, 510.67300005, 510.84648233, 511.02037346,\n",
       "         511.19468038, 511.36941017, 511.54456996, 511.72016701,\n",
       "         511.89620869, 512.07270243, 512.24965583, 512.42707654,\n",
       "         512.60497236, 512.7833512 , 512.96222108, 513.14159016,\n",
       "         513.32146669, 513.50185909, 513.68277589, 513.86422576,\n",
       "         514.0462175 , 514.22876007, 514.41186257, 514.59553423,\n",
       "         514.77978447, 514.96462286, 515.1500591 , 515.33610309,\n",
       "         515.52276491, 515.71005479, 515.89798315, 516.0865606 ,\n",
       "         516.27579795, 516.4657062 , 516.65629654, 516.8475804 ,\n",
       "         517.03956939, 517.23227537, 517.42571041, 517.61988681,\n",
       "         517.81481714, 518.01051419, 518.20699101, 518.40426091,\n",
       "         518.6023375 , 518.80123463, 519.00096646, 519.20154744,\n",
       "         519.40299233, 519.6053162 , 519.80853445, 520.01266282,\n",
       "         520.21771737, 520.42371455, 520.63067116, 520.83860438,\n",
       "         521.04753181, 521.25747141, 521.4684416 , 521.68046121,\n",
       "         521.89354953, 522.10772631, 522.32301178, 522.53942666,\n",
       "         522.7569922 , 522.97573016, 523.19566287, 523.41681322,\n",
       "         523.63920469, 523.86286137, 524.08780801, 524.31406997,\n",
       "         524.54167335, 524.77064492, 525.0010122 , 525.23280347,\n",
       "         525.46604781, 525.70077513, 525.93701619, 526.17480264,\n",
       "         526.41416707, 526.65514303, 526.89776509, 527.14206885,\n",
       "         527.38809102, 527.63586946, 527.88544319, 528.13685249,\n",
       "         528.39013894, 528.64534548, 528.90251646, 529.16169769,\n",
       "         529.42293658, 529.68628211, 529.95178499, 530.21949771,\n",
       "         530.48947461, 530.76177201, 531.03644828, 531.31356394,\n",
       "         531.5931818 , 531.87536703, 532.16018736, 532.44771312,\n",
       "         532.73801745, 533.03117645, 533.3272693 , 533.62637848,\n",
       "         533.92858993, 534.23399326, 534.54268197, 534.85475367,\n",
       "         535.17031035, 535.48945862, 535.81231003, 536.13898137,\n",
       "         536.469595  , 536.80427924, 537.14316874, 537.48640494,\n",
       "         537.83413651, 538.18651989, 538.54371983, 538.90591001,\n",
       "         539.27327369, 539.64600445, 540.024307  , 540.40839804,\n",
       "         540.79850724, 541.19487833, 541.59777025, 542.00745848,\n",
       "         542.4242365 , 542.84841741, 543.28033575, 543.72034952,\n",
       "         544.16884245, 544.62622658, 545.09294513, 545.56947578,\n",
       "         546.05633439, 546.55407919, 547.06331567, 547.58470212,\n",
       "         548.11895597, 548.66686128, 549.22927728, 549.80714846,\n",
       "         550.40151635, 551.01353345, 551.6444798 , 552.29578272,\n",
       "         552.96904058, 553.66605164, 554.3888492 , 555.13974497,\n",
       "         555.92138291, 556.73680693, 557.58954684, 558.48372886,\n",
       "         559.42421968, 560.41681721, 561.46850732, 562.58781651,\n",
       "         563.7853068 , 565.0742885 , 566.4718777 , 568.00062101,\n",
       "         569.6910998 , 571.58632494, 573.74964871, 576.28025333,\n",
       "         579.34711248, 583.27672236, 588.8483932 , 598.84337406]),\n",
       "  array([391.7678863 , 392.96022064, 394.00340068, 394.62991636,\n",
       "         395.00948204, 395.34693709, 396.14432343, 396.21324281,\n",
       "         397.21062015, 397.3308496 , 397.65039932, 397.81820125,\n",
       "         398.48642506, 398.65746619, 398.67944977, 398.78301284,\n",
       "         399.12345646, 399.28330176, 399.63005466, 399.64939605,\n",
       "         399.72927011, 399.75347104, 399.9872313 , 400.2245739 ,\n",
       "         400.48801978, 400.5642187 , 400.57991006, 400.79187617,\n",
       "         400.83523944, 400.97112355, 401.00063438, 401.00779966,\n",
       "         401.03968726, 401.09618223, 401.16886148, 401.22120886,\n",
       "         401.25790087, 401.26416193, 401.28412576, 401.50755451,\n",
       "         401.55263093, 401.59885608, 401.71680638, 401.73697047,\n",
       "         401.77353853, 401.82462013, 401.82832891, 401.87010072,\n",
       "         402.05013   , 402.12315124, 402.12454623, 402.28282081,\n",
       "         402.32437359, 402.33064039, 402.33364939, 402.38269722,\n",
       "         402.42422804, 402.45916138, 402.62874834, 402.69063054,\n",
       "         402.76777252, 402.81825078, 403.08688886, 403.28918545,\n",
       "         403.32015535, 403.39610388, 403.42835953, 403.47993664,\n",
       "         403.5206906 , 403.52562399, 403.54751074, 403.70832029,\n",
       "         403.72593387, 403.8748463 , 404.08496449, 404.13501986,\n",
       "         404.13721735, 404.1465636 , 404.2065848 , 404.23788883,\n",
       "         404.25470779, 404.34470702, 404.37362463, 404.39232139,\n",
       "         404.39300527, 404.51331448, 404.54815472, 404.5864748 ,\n",
       "         404.64274413, 404.75894761, 404.82946131, 404.86442013,\n",
       "         404.87270986, 404.93861321, 405.10528723, 405.10687408,\n",
       "         405.17109691, 405.18617651, 405.18836537, 405.33800387,\n",
       "         405.36243375, 405.36334972, 405.46232537, 405.47540038,\n",
       "         405.52030118, 405.57225752, 405.63557237, 405.64463501,\n",
       "         405.66100174, 405.66457219, 405.6970653 , 405.7097058 ,\n",
       "         405.76934926, 405.82569819, 406.02463582, 406.02849247,\n",
       "         406.03839086, 406.161069  , 406.16950279, 406.17462514,\n",
       "         406.22978961, 406.24223861, 406.32514593, 406.40088451,\n",
       "         406.45824681, 406.48218818, 406.49634479, 406.50240903,\n",
       "         406.60071142, 406.61379761, 406.68513262, 406.73239971,\n",
       "         406.77356456, 406.7936796 , 406.83299054, 406.85188353,\n",
       "         406.85367796, 406.99441123, 407.00223986, 407.0054508 ,\n",
       "         407.06892615, 407.16320737, 407.18026757, 407.20523915,\n",
       "         407.23485789, 407.23675281, 407.32404706, 407.33320173,\n",
       "         407.37239348, 407.381817  , 407.4033072 , 407.40513989,\n",
       "         407.52448359, 407.55558222, 407.58103744, 407.60674831,\n",
       "         407.63389626, 407.67221442, 407.75478617, 407.76775445,\n",
       "         407.78310235, 407.82444325, 407.86498928, 408.06961448,\n",
       "         408.08906738, 408.10172462, 408.11642935, 408.16774169,\n",
       "         408.17164462, 408.17178517, 408.18837545, 408.22687927,\n",
       "         408.23067494, 408.2435726 , 408.28949293, 408.3122973 ,\n",
       "         408.3479826 , 408.35674108, 408.3730637 , 408.38390035,\n",
       "         408.39068355, 408.44523148, 408.46940085, 408.50344348,\n",
       "         408.51397952, 408.52409164, 408.65875646, 408.72422316,\n",
       "         408.74641166, 408.78219283, 408.86225809, 408.97664081,\n",
       "         408.98336205, 408.99013861, 409.00202319, 409.01143282,\n",
       "         409.04714208, 409.08211427, 409.10028583, 409.13536389,\n",
       "         409.21823607, 409.22734463, 409.35824407, 409.38190304,\n",
       "         409.39586874, 409.4047681 , 409.44872256, 409.49540685,\n",
       "         409.63637776, 409.67491829, 409.69311563, 409.78223095,\n",
       "         409.80549561, 409.85591216, 409.91388321, 409.93879372,\n",
       "         409.97243565, 409.98678355, 410.05707717, 410.20459192,\n",
       "         410.20906163, 410.24919908, 410.25230108, 410.27230729,\n",
       "         410.31576733, 410.37277455, 410.38323194, 410.38657439,\n",
       "         410.43247138, 410.46729376, 410.48458227, 410.54203485,\n",
       "         410.54864967, 410.5575479 , 410.64601228, 410.67899209,\n",
       "         410.69132159, 410.70957292, 410.73790011, 410.74899805,\n",
       "         410.75762721, 410.76481697, 410.77909119, 410.81558842,\n",
       "         410.81980256, 410.82462176, 410.82491533, 410.8333695 ,\n",
       "         410.88808352, 410.94818164, 410.98677438, 411.0136087 ,\n",
       "         411.10686466, 411.11105063, 411.13664148, 411.17901531,\n",
       "         411.25996416, 411.31290037, 411.31649415, 411.32982179,\n",
       "         411.3609535 , 411.37188363, 411.44897337, 411.45960594,\n",
       "         411.49517094, 411.53398785, 411.54679749, 411.55386263,\n",
       "         411.58743522, 411.60379337, 411.60769237, 411.66512483,\n",
       "         411.70273206, 411.72252618, 411.83205633, 411.87481106,\n",
       "         411.96243824, 411.99820706, 412.00661503, 412.03517392,\n",
       "         412.10493344, 412.11323735, 412.12241232, 412.25209608,\n",
       "         412.3075654 , 412.33043395, 412.36767891, 412.54042275,\n",
       "         412.55324179, 412.6398206 , 412.65105823, 412.66943162,\n",
       "         412.71905937, 412.79191743, 412.87293932, 412.91011822,\n",
       "         412.91304926, 412.91984138, 412.96096385, 412.97176466,\n",
       "         412.97284835, 412.98122898, 413.06370705, 413.12913462,\n",
       "         413.14583854, 413.15624921, 413.26535259, 413.28885898,\n",
       "         413.29674212, 413.40894858, 413.41484067, 413.41522447,\n",
       "         413.51359606, 413.5322895 , 413.5509545 , 413.56840957,\n",
       "         413.63764528, 413.64190961, 413.70870036, 413.72273315,\n",
       "         413.78965228, 413.85572174, 413.85989852, 413.97409262,\n",
       "         413.97696956, 413.98706699, 413.9893507 , 413.9942505 ,\n",
       "         414.03587525, 414.03915954, 414.04555151, 414.04803616,\n",
       "         414.05944748, 414.08123391, 414.14327095, 414.19899414,\n",
       "         414.216575  , 414.28405095, 414.29671823, 414.32168812,\n",
       "         414.347865  , 414.36115783, 414.37508096, 414.38392332,\n",
       "         414.43490202, 414.46592495, 414.47610314, 414.53683102,\n",
       "         414.72742657, 414.78725387, 414.79560416, 414.80521815,\n",
       "         414.8615754 , 414.90437176, 414.90849847, 414.99394889,\n",
       "         415.01750582, 415.05097361, 415.17034526, 415.21980506,\n",
       "         415.24080519, 415.3138166 , 415.33234121, 415.3906392 ,\n",
       "         415.43998252, 415.46946557, 415.50744662, 415.54003442,\n",
       "         415.57737759, 415.78726707, 415.79687396, 415.88814286,\n",
       "         415.89779889, 415.93757232, 415.93800566, 415.96350668,\n",
       "         415.96431   , 415.97813921, 415.9861826 , 416.00861215,\n",
       "         416.12862665, 416.2070186 , 416.20852445, 416.2579613 ,\n",
       "         416.37071539, 416.38569048, 416.45150617, 416.49535728,\n",
       "         416.51144775, 416.54021109, 416.56614117, 416.61433594,\n",
       "         416.67770848, 416.77502923, 416.8103241 , 416.85380569,\n",
       "         416.93504955, 417.03198528, 417.0635027 , 417.08484243,\n",
       "         417.11021448, 417.13907882, 417.19685251, 417.20528986,\n",
       "         417.21706696, 417.26385123, 417.28925352, 417.32334012,\n",
       "         417.43398205, 417.50631327, 417.53475694, 417.65179372,\n",
       "         417.81020679, 417.83937731, 417.87109603, 417.89246079,\n",
       "         417.97691501, 417.99879698, 418.00806383, 418.01357412,\n",
       "         418.05163011, 418.05321943, 418.10806382, 418.251654  ,\n",
       "         418.25334995, 418.45496193, 418.47577822, 418.77536137,\n",
       "         418.82488792, 418.84888355, 418.86359818, 418.91340335,\n",
       "         418.92831126, 418.99441322, 419.00213923, 419.08048873,\n",
       "         419.15477518, 419.31445481, 419.3194247 , 419.3942032 ,\n",
       "         419.43955375, 419.56626636, 419.71412597, 419.80350915,\n",
       "         419.96644864, 420.02962979, 420.16335543, 420.20511989,\n",
       "         420.21286313, 420.25553888, 420.29841917, 420.3529238 ,\n",
       "         420.44800203, 420.50187334, 420.63197743, 420.7872696 ,\n",
       "         420.87091995, 420.89357729, 420.9748012 , 421.01049683,\n",
       "         421.07914947, 421.10591137, 421.13247197, 421.36628772,\n",
       "         421.39457692, 421.47480479, 421.97983103, 422.10635861,\n",
       "         422.32409492, 422.50713167, 422.68758802, 422.75893502,\n",
       "         422.94179979, 422.98369378, 423.49489116, 423.71135151,\n",
       "         423.72913632, 423.8513513 , 423.97686158, 424.11051506,\n",
       "         424.21950686, 424.36583056, 424.42641656, 424.80175362,\n",
       "         425.44271489, 425.46508743, 425.53432257, 425.56763507,\n",
       "         426.08220797, 426.11207406, 426.85064592, 427.42588632,\n",
       "         427.79190845, 427.96784061, 429.56823218, 429.79912204,\n",
       "         429.81973926, 429.99694911, 430.0516786 , 430.44856591])),\n",
       " (0.22279517285160508, 300.0704784170365, 0.9993470198848727))"
      ]
     },
     "execution_count": 27,
     "metadata": {},
     "output_type": "execute_result"
    },
    {
     "data": {
      "image/png": "[encoded data removed]",
      "text/plain": [
       "<Figure size 432x288 with 1 Axes>"
      ]
     },
     "metadata": {
      "needs_background": "light"
     },
     "output_type": "display_data"
    }
   ],
   "source": [
    "stats.probplot(control_var, dist=\"chi2\", \n",
    "               sparams=(len(control_var)-1), plot=plt, rvalue=True)"
   ]
  },
  {
   "cell_type": "code",
   "execution_count": 28,
   "metadata": {},
   "outputs": [
    {
     "data": {
      "text/plain": [
       "MannwhitneyuResult(statistic=41184125116.0, pvalue=6.247235801369629e-75)"
      ]
     },
     "execution_count": 28,
     "metadata": {},
     "output_type": "execute_result"
    }
   ],
   "source": [
    "stats.mannwhitneyu(exp_clicks, control_clicks, alternative='two-sided')"
   ]
  },
  {
   "cell_type": "code",
   "execution_count": 50,
   "metadata": {},
   "outputs": [],
   "source": [
    "exp_browser_clicks = data[data['slot'] == 'exp'].groupby(['browser', 'userID']).sum()['n_clicks']\n",
    "control_browser_clicks = data[data['slot'] == 'control'].groupby(['browser', 'userID']).sum()['n_clicks']"
   ]
  },
  {
   "cell_type": "code",
   "execution_count": 37,
   "metadata": {},
   "outputs": [
    {
     "data": {
      "text/plain": [
       "array([23,  7, 39, ...,  4,  4,  3], dtype=int64)"
      ]
     },
     "execution_count": 37,
     "metadata": {},
     "output_type": "execute_result"
    }
   ],
   "source": [
    "exp_browser_clicks['Browser #2'].values"
   ]
  },
  {
   "cell_type": "code",
   "execution_count": 41,
   "metadata": {},
   "outputs": [],
   "source": [
    "p_values = []\n",
    "for browser in data['browser'].unique():\n",
    "    pval = stats.mannwhitneyu(exp_browser_clicks[browser].values,\n",
    "                              control_browser_clicks[browser].values, \n",
    "                              alternative='two-sided')[1]\n",
    "    p_values.append(pval)"
   ]
  },
  {
   "cell_type": "code",
   "execution_count": 55,
   "metadata": {},
   "outputs": [],
   "source": [
    "reject, mann_witney_, _, _ = smm.multipletests(p_values, alpha=0.05, method='holm')"
   ]
  },
  {
   "cell_type": "code",
   "execution_count": 43,
   "metadata": {},
   "outputs": [
    {
     "data": {
      "text/plain": [
       "array([0.2724386 , 1.        , 0.        , 0.29920481, 1.        ,\n",
       "       1.        ])"
      ]
     },
     "execution_count": 43,
     "metadata": {},
     "output_type": "execute_result"
    }
   ],
   "source": [
    "mann_witney_"
   ]
  },
  {
   "cell_type": "code",
   "execution_count": 57,
   "metadata": {},
   "outputs": [
    {
     "data": {
      "text/plain": [
       "array([False, False,  True, False, False, False])"
      ]
     },
     "execution_count": 57,
     "metadata": {},
     "output_type": "execute_result"
    }
   ],
   "source": [
    "reject"
   ]
  },
  {
   "cell_type": "code",
   "execution_count": 51,
   "metadata": {},
   "outputs": [],
   "source": [
    "exp_browser_non_clicks = data[data['slot'] == 'exp'].groupby(['browser', 'userID']).sum()['n_nonclk_queries']\n",
    "control_browser_non_clicks = data[data['slot'] == 'control'].groupby(['browser', 'userID']).sum()['n_nonclk_queries']"
   ]
  },
  {
   "cell_type": "code",
   "execution_count": 52,
   "metadata": {},
   "outputs": [],
   "source": [
    "ratios_exp = []\n",
    "ratios_control = []\n",
    "for browser in data['browser'].unique():\n",
    "    r_e = (exp_browser_non_clicks[browser].values.sum()/\n",
    "           exp_browser_clicks[browser].values.sum()) * 100\n",
    "    r_c = (control_browser_non_clicks[browser].values.sum()/\n",
    "           control_browser_clicks[browser].values.sum()) * 100\n",
    "    ratios_exp.append(r_e)\n",
    "    ratios_control.append(r_c)"
   ]
  },
  {
   "cell_type": "code",
   "execution_count": 62,
   "metadata": {},
   "outputs": [
    {
     "name": "stdout",
     "output_type": "stream",
     "text": [
      "45.9850803231301 44.01179056219414\n",
      "46.81100531287727 43.107663397844185\n",
      "77.81343344802127 41.980472304078006\n",
      "28.431909182250347 29.146966595940437\n",
      "34.771599445765105 32.70343888321416\n",
      "35.85660540343938 34.49268982351694\n"
     ]
    }
   ],
   "source": [
    "for i in range(len(ratios_exp)):\n",
    "    print(ratios_control[i], ratios_exp[i])"
   ]
  },
  {
   "cell_type": "code",
   "execution_count": 54,
   "metadata": {},
   "outputs": [
    {
     "data": {
      "text/plain": [
       "[45.9850803231301,\n",
       " 46.81100531287727,\n",
       " 77.81343344802127,\n",
       " 28.431909182250347,\n",
       " 34.771599445765105,\n",
       " 35.85660540343938]"
      ]
     },
     "execution_count": 54,
     "metadata": {},
     "output_type": "execute_result"
    }
   ],
   "source": [
    "ratios_control"
   ]
  },
  {
   "cell_type": "code",
   "execution_count": null,
   "metadata": {},
   "outputs": [],
   "source": []
  }
 ],
 "metadata": {
  "kernelspec": {
   "display_name": "Python 3",
   "language": "python",
   "name": "python3"
  },
  "language_info": {
   "codemirror_mode": {
    "name": "ipython",
    "version": 3
   },
   "file_extension": ".py",
   "mimetype": "text/x-python",
   "name": "python",
   "nbconvert_exporter": "python",
   "pygments_lexer": "ipython3",
   "version": "3.8.3"
  }
 },
 "nbformat": 4,
 "nbformat_minor": 4
}
