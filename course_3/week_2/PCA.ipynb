{
 "cells": [
  {
   "cell_type": "markdown",
   "metadata": {},
   "source": [
    "**Корректность проверена на Python 3.6:**\n",
    "+ pandas 0.23.4\n",
    "+ numpy 1.15.4\n",
    "+ matplotlib 3.0.2\n",
    "+ sklearn 0.20.2"
   ]
  },
  {
   "cell_type": "markdown",
   "metadata": {},
   "source": [
    "# Метод главных компонент\n",
    "\n",
    "В данном задании вам будет предложено ознакомиться с подходом, который переоткрывался в самых разных областях, имеет множество разных интерпретаций, а также несколько интересных обобщений: методом главных компонент (principal component analysis)."
   ]
  },
  {
   "cell_type": "markdown",
   "metadata": {},
   "source": [
    "## Programming assignment\n",
    "\n",
    "Задание разбито на две части: \n",
    "- работа с модельными данными,\n",
    "- работа с реальными данными.\n",
    "\n",
    "В конце каждого пункта от вас требуется получить ответ и загрузить в соответствующую форму в виде набора текстовых файлов."
   ]
  },
  {
   "cell_type": "code",
   "execution_count": 1,
   "metadata": {},
   "outputs": [],
   "source": [
    "import numpy as np\n",
    "import pandas as pd\n",
    "import matplotlib\n",
    "from matplotlib import pyplot as plt\n",
    "import matplotlib.patches as mpatches\n",
    "matplotlib.style.use('ggplot')\n",
    "%matplotlib inline"
   ]
  },
  {
   "cell_type": "markdown",
   "metadata": {},
   "source": [
    "## Теория\n",
    "\n",
    "Любой набор данных представляет собой матрицу $X$.\n",
    "\n",
    "Метод главных компонент последовательно находит следующие линейные комбинации признаков (компоненты) из $X$:\n",
    "- каждая компонента ортогональна всем остальным и нормированна: $<w_i, w_j> = 0, \\quad ||w_i||=1$,\n",
    "- каждая компонента описывает максимально возможную дисперсию данных (с учётом предыдущего ограничения).\n",
    "\n",
    "Предположения, в рамках которых данный подход будет работать хорошо:\n",
    "- линейность компонент: мы предполагаем, что данные можно анализировать линейными методами,\n",
    "- большие дисперсии важны: предполагается, что наиболее важны те направления в данных, вдоль которых они имеют наибольшую дисперсию,\n",
    "- все компоненты ортогональны: это предположение позволяет проводить анализ главных компонент при помощи техник линейной алгебры (например, сингулярное разложение матрицы $X$ или спектральное разложение матрицы $X^TX$).\n",
    "\n",
    "Как это выглядит математически?\n",
    "\n",
    "Обозначим следующим образом выборочную матрицу ковариации данных: $\\hat{C} \\propto Q = X^TX$. ($Q$ отличается от $\\hat{C}$ нормировкой на число объектов).\n",
    "\n",
    "Сингулярное разложение матрицы $Q$ выглядит следующим образом:\n",
    "\n",
    "$$Q = X^TX = W \\Lambda W^T$$\n",
    "\n",
    "Можно строго показать, что столбцы матрицы $W$ являются главными компонентами матрицы $X$, т.е. комбинациями признаков, удовлетворяющих двум условиям, указанным в начале. При этом дисперсия данных вдоль направления, заданного каждой компонентой, равна соответствующему значению диагональной матрицы $\\Lambda$.\n",
    "\n",
    "Как же на основании этого преобразования производить уменьшение размерности? Мы можем отранжировать компоненты, используя значения дисперсий данных вдоль них.\n",
    "\n",
    "Сделаем это: $\\lambda_{(1)} > \\lambda_{(2)} > \\dots > \\lambda_{(D)}$.\n",
    "\n",
    "Тогда, если мы выберем компоненты, соответствующие первым $d$ дисперсиям из этого списка, мы получим набор из $d$ новых признаков, которые наилучшим образом описывают дисперсию изначального набора данных среди всех других возможных линейных комбинаций исходных признаков матрицы $X$. \n",
    "- Если $d=D$, то мы вообще не теряем никакой информации.\n",
    "- Если $d<D$, то мы теряем информацию, которая, при справедливости указанных выше предположений, будет пропорциональна сумме дисперсий отброшенных компонент.\n",
    "\n",
    "Получается, что метод главных компонент позволяет нам ранжировать полученные компоненты по \"значимости\", а также запустить процесс их отбора."
   ]
  },
  {
   "cell_type": "markdown",
   "metadata": {},
   "source": [
    "## Пример\n",
    "\n",
    "Рассмотрим набор данных, который сэмплирован из многомерного нормального распределения с матрицей ковариации $C = \\begin{pmatrix} 3 & 1 \\\\ 1 & 2 \\end{pmatrix}$."
   ]
  },
  {
   "cell_type": "code",
   "execution_count": 2,
   "metadata": {},
   "outputs": [
    {
     "data": {
      "image/png": "[encoded data removed]",
      "text/plain": [
       "<Figure size 432x288 with 1 Axes>"
      ]
     },
     "metadata": {
      "needs_background": "light"
     },
     "output_type": "display_data"
    }
   ],
   "source": [
    "from sklearn.decomposition import PCA\n",
    "\n",
    "mu = np.zeros(2)\n",
    "C = np.array([[3,1],[1,2]])\n",
    "\n",
    "data = np.random.multivariate_normal(mu, C, size=50)\n",
    "plt.scatter(data[:,0], data[:,1])\n",
    "plt.show()"
   ]
  },
  {
   "cell_type": "markdown",
   "metadata": {},
   "source": [
    "Путём диагонализации истинной матрицы ковариаций $C$, мы можем найти преобразование исходного набора данных, компоненты которого наилучшим образом будут описывать дисперсию, с учётом их ортогональности друг другу:"
   ]
  },
  {
   "cell_type": "code",
   "execution_count": 3,
   "metadata": {},
   "outputs": [
    {
     "name": "stdout",
     "output_type": "stream",
     "text": [
      "[3.61803399 1.38196601] [[ 0.85065081 -0.52573111]\n",
      " [ 0.52573111  0.85065081]]\n"
     ]
    },
    {
     "data": {
      "image/png": "[encoded data removed]",
      "text/plain": [
       "<Figure size 432x288 with 1 Axes>"
      ]
     },
     "metadata": {
      "needs_background": "light"
     },
     "output_type": "display_data"
    }
   ],
   "source": [
    "v, W_true = np.linalg.eig(C)\n",
    "print(v, W_true)\n",
    "plt.scatter(data[:,0], data[:,1])\n",
    "# построим истинные компоненты, вдоль которых максимальна дисперсия данных\n",
    "plt.plot(data[:,0], (W_true[0,0]/W_true[0,1])*data[:,0], color=\"g\")\n",
    "plt.plot(data[:,0], (W_true[1,0]/W_true[1,1])*data[:,0], color=\"g\")\n",
    "g_patch = mpatches.Patch(color='g', label='True components')\n",
    "plt.legend(handles=[g_patch])\n",
    "plt.axis('equal')\n",
    "limits = [np.minimum(np.amin(data[:,0]), np.amin(data[:,1])),\n",
    "          np.maximum(np.amax(data[:,0]), np.amax(data[:,1]))]\n",
    "plt.xlim(limits[0],limits[1])\n",
    "plt.ylim(limits[0],limits[1])\n",
    "plt.draw()"
   ]
  },
  {
   "cell_type": "markdown",
   "metadata": {},
   "source": [
    "А теперь сравним эти направления с направлениями, которые выбирает метод главных компонент:"
   ]
  },
  {
   "cell_type": "code",
   "execution_count": 4,
   "metadata": {},
   "outputs": [],
   "source": [
    "def plot_principal_components(data, model, scatter=True, legend=True):\n",
    "    W_pca = model.components_\n",
    "    if scatter:\n",
    "        plt.scatter(data[:,0], data[:,1])\n",
    "    plt.plot(data[:,0], -(W_pca[0,0]/W_pca[0,1])*data[:,0], color=\"c\")\n",
    "    plt.plot(data[:,0], -(W_pca[1,0]/W_pca[1,1])*data[:,0], color=\"c\")\n",
    "    if legend:\n",
    "        c_patch = mpatches.Patch(color='c', label='Principal components')\n",
    "        plt.legend(handles=[c_patch], loc='lower right')\n",
    "    # сделаем графики красивыми:\n",
    "    plt.axis('equal')\n",
    "    limits = [np.minimum(np.amin(data[:,0]), np.amin(data[:,1]))-0.5,\n",
    "              np.maximum(np.amax(data[:,0]), np.amax(data[:,1]))+0.5]\n",
    "    plt.xlim(limits[0],limits[1])\n",
    "    plt.ylim(limits[0],limits[1])\n",
    "    plt.draw()"
   ]
  },
  {
   "cell_type": "code",
   "execution_count": 5,
   "metadata": {},
   "outputs": [
    {
     "data": {
      "image/png": "[encoded data removed]",
      "text/plain": [
       "<Figure size 432x288 with 1 Axes>"
      ]
     },
     "metadata": {
      "needs_background": "light"
     },
     "output_type": "display_data"
    }
   ],
   "source": [
    "model = PCA(n_components=2)\n",
    "model.fit(data)\n",
    "\n",
    "plt.scatter(data[:,0], data[:,1])\n",
    "# построим истинные компоненты, вдоль которых максимальна дисперсия данных\n",
    "plt.plot(data[:,0], (W_true[0,0]/W_true[0,1])*data[:,0], color=\"g\")\n",
    "plt.plot(data[:,0], (W_true[1,0]/W_true[1,1])*data[:,0], color=\"g\")\n",
    "# построим компоненты, полученные с использованием метода PCA:\n",
    "plot_principal_components(data, model, scatter=False, legend=False)\n",
    "c_patch = mpatches.Patch(color='c', label='Principal components')\n",
    "plt.legend(handles=[g_patch, c_patch])\n",
    "plt.draw()"
   ]
  },
  {
   "cell_type": "markdown",
   "metadata": {},
   "source": [
    "Видно, что уже при небольшом количестве данных они отличаются незначительно. Увеличим размер выборки:"
   ]
  },
  {
   "cell_type": "code",
   "execution_count": 6,
   "metadata": {},
   "outputs": [
    {
     "data": {
      "image/png": "[encoded data removed]",
      "text/plain": [
       "<Figure size 432x288 with 1 Axes>"
      ]
     },
     "metadata": {
      "needs_background": "light"
     },
     "output_type": "display_data"
    }
   ],
   "source": [
    "data_large = np.random.multivariate_normal(mu, C, size=5000)\n",
    "\n",
    "model = PCA(n_components=2)\n",
    "model.fit(data_large)\n",
    "plt.scatter(data_large[:,0], data_large[:,1], alpha=0.1)\n",
    "# построим истинные компоненты, вдоль которых максимальна дисперсия данных\n",
    "plt.plot(data_large[:,0], (W_true[0,0]/W_true[0,1])*data_large[:,0], color=\"g\")\n",
    "plt.plot(data_large[:,0], (W_true[1,0]/W_true[1,1])*data_large[:,0], color=\"g\")\n",
    "# построим компоненты, полученные с использованием метода PCA:\n",
    "plot_principal_components(data_large, model, scatter=False, legend=False)\n",
    "c_patch = mpatches.Patch(color='c', label='Principal components')\n",
    "plt.legend(handles=[g_patch, c_patch])\n",
    "plt.draw()"
   ]
  },
  {
   "cell_type": "markdown",
   "metadata": {},
   "source": [
    "В этом случае главные компоненты значительно точнее приближают истинные направления данных, вдоль которых наблюдается наибольшая дисперсия."
   ]
  },
  {
   "cell_type": "markdown",
   "metadata": {},
   "source": [
    "## Статистический взгляд на модель\n",
    "\n",
    "Как формализовать предположения метода, указанные выше? При помощи вероятностной модели!\n",
    "\n",
    "Задача, стоящая за любым методом уменьшения размерности: получить из набора зашумлённых признаков $X$ истинные значения $Y$, которые на самом деле определяют набор данных (т.е. сведение датасета с большим количеством признаков к данным, имеющим т.н. \"эффективную размерность\").\n",
    "\n",
    "В случае метода главных компонент мы хотим найти направления, вдоль которых максимальна дисперсия, с учётом описанных выше предположений о структуре данных и компонент.\n",
    "\n",
    "Материал, описанный ниже в данной секции, не обязателен для ознакомления для выполнения следующего задания, т.к. требует некоторых знаний статистики.\n",
    "\n",
    "Для тех, кто собирается его пропустить: в конце раздела мы получим метрику качества, которая должна определять, насколько данные хорошо описываются построенной моделью при заданном числе компонент. Отбор признаков при этом сводится к тому, что мы выбираем то количество компонент, при котором используемая метрика (логарифм правдоподобия) является максимальной.\n",
    "\n",
    "С учётом предположений задача метода главных компонент выглядит следующим образом:\n",
    "\n",
    "$$ x = Wy + \\mu + \\epsilon$$\n",
    "\n",
    "где:\n",
    "- $x$ -- наблюдаемые данные\n",
    "- $W$ -- матрица главных компонент (каждый стобец -- одна компонента)\n",
    "- $y$ -- их проекция на главные компоненты\n",
    "- $\\mu$ -- среднее наблюдаемых данных\n",
    "- $\\epsilon \\sim \\mathcal{N}(0, \\sigma^2I)$ -- нормальный шум\n",
    "\n",
    "Исходя из распределения шума, выпишем распределение на $x$:\n",
    "\n",
    "$$p(x \\mid y) = \\mathcal{N}(Wx + \\mu, \\sigma^2I) $$\n",
    "\n",
    "Введём априорное распределение на $y$:\n",
    "\n",
    "$$p(y) = \\mathcal{N}(0, 1)$$\n",
    "\n",
    "Выведем из этого при помощи формулы Байеса маргинальное распределение на $p(x)$:\n",
    "\n",
    "$$p(x) = \\mathcal{N}(\\mu, \\sigma^2I + WW^T)$$\n",
    "\n",
    "Тогда правдоподобие набора данных при условии используемой модели выглядит следующим образом:\n",
    "\n",
    "$$\\mathcal{L} = \\sum_{i=1}^N \\log p(x_i) = -N/2 \\Big( d\\log(2\\pi) + \\log |C| + \\text{tr}(C^{-1}S) \\Big)$$\n",
    "\n",
    "где:\n",
    "- $C = \\sigma^2I + WW^T$ -- матрица ковариации в маргинальной модели\n",
    "- $S = \\frac{1}{N} \\sum_{i=1}^N (x_i - \\mu)(x_i - \\mu)^T$ -- выборочная ковариация\n",
    "\n",
    "Значение $\\mathcal{L}$ имеет смысл логарифма вероятности получения набора данных $X$ при условии, что он удовлетворяет предположениям модели метода главных компонент. Чем оно больше -- тем лучше модель описывает наблюдаемые данные."
   ]
  },
  {
   "cell_type": "markdown",
   "metadata": {},
   "source": [
    "## Задание 1. Автоматическое уменьшение размерности данных при помощи логарифма правдоподобия $\\mathcal{L}$\n",
    "\n",
    "Рассмотрим набор данных размерности $D$, чья реальная размерность значительно меньше наблюдаемой (назовём её $d$). От вас требуется:\n",
    "\n",
    "1. Для каждого значения $\\hat{d}$ в интервале [1,D] построить модель PCA с $\\hat{d}$ главными компонентами.\n",
    "2. Оценить средний логарифм правдоподобия данных для каждой модели на генеральной совокупности, используя метод кросс-валидации с 3 фолдами (итоговая оценка значения логарифма правдоподобия усредняется по всем фолдам).\n",
    "3. Найти модель, для которой он максимален, и внести в файл ответа число компонент в данной модели, т.е. значение $\\hat{d}_{opt}$.\n",
    "\n",
    "Для оценки логарифма правдоподобия модели для заданного числа главных компонент при помощи метода кросс-валидации используйте следующие функции:\n",
    "\n",
    "    model = PCA(n_components=n)\n",
    "    scores = cv_score(model, data)\n",
    "        \n",
    "Обратите внимание, что scores -- это вектор, длина которого равна числу фолдов. Для получения оценки на правдоподобие модели его значения требуется усреднить.\n",
    "\n",
    "Для визуализации оценок можете использовать следующую функцию:\n",
    "\n",
    "    plot_scores(d_scores)\n",
    "    \n",
    "которой на вход передаётся вектор полученных оценок логарифма правдоподобия данных для каждого $\\hat{d}$.\n",
    "\n",
    "Для интересующихся: данные для заданий 1 и 2 были сгенерированны в соответствии с предполагаемой PCA моделью. То есть: данные $Y$ с эффективной размерностью $d$, полученные из независимых равномерных распределений, линейно траснформированны случайной матрицей $W$ в пространство размерностью $D$, после чего ко всем признакам был добавлен независимый нормальный шум с дисперсией $\\sigma$."
   ]
  },
  {
   "cell_type": "code",
   "execution_count": 7,
   "metadata": {},
   "outputs": [],
   "source": [
    "from sklearn.decomposition import PCA\n",
    "from sklearn.model_selection import cross_val_score as cv_score\n",
    "\n",
    "def plot_scores(d_scores):\n",
    "    n_components = np.arange(1,d_scores.size+1)\n",
    "    plt.plot(n_components, d_scores, 'b', label='PCA scores')\n",
    "    plt.xlim(n_components[0], n_components[-1])\n",
    "    plt.xlabel('n components')\n",
    "    plt.ylabel('cv scores')\n",
    "    plt.legend(loc='lower right')\n",
    "    plt.show()\n",
    "    \n",
    "def write_answer_1(optimal_d):\n",
    "    with open(\"pca_answer1.txt\", \"w\") as fout:\n",
    "        fout.write(str(optimal_d))"
   ]
  },
  {
   "cell_type": "code",
   "execution_count": 8,
   "metadata": {},
   "outputs": [],
   "source": [
    "data = pd.read_csv('data_task1.csv')"
   ]
  },
  {
   "cell_type": "code",
   "execution_count": 9,
   "metadata": {},
   "outputs": [
    {
     "data": {
      "text/html": [
       "<div>\n",
       "<style scoped>\n",
       "    .dataframe tbody tr th:only-of-type {\n",
       "        vertical-align: middle;\n",
       "    }\n",
       "\n",
       "    .dataframe tbody tr th {\n",
       "        vertical-align: top;\n",
       "    }\n",
       "\n",
       "    .dataframe thead th {\n",
       "        text-align: right;\n",
       "    }\n",
       "</style>\n",
       "<table border=\"1\" class=\"dataframe\">\n",
       "  <thead>\n",
       "    <tr style=\"text-align: right;\">\n",
       "      <th></th>\n",
       "      <th>0</th>\n",
       "      <th>1</th>\n",
       "      <th>2</th>\n",
       "      <th>3</th>\n",
       "      <th>4</th>\n",
       "      <th>5</th>\n",
       "      <th>6</th>\n",
       "      <th>7</th>\n",
       "      <th>8</th>\n",
       "      <th>9</th>\n",
       "      <th>...</th>\n",
       "      <th>70</th>\n",
       "      <th>71</th>\n",
       "      <th>72</th>\n",
       "      <th>73</th>\n",
       "      <th>74</th>\n",
       "      <th>75</th>\n",
       "      <th>76</th>\n",
       "      <th>77</th>\n",
       "      <th>78</th>\n",
       "      <th>79</th>\n",
       "    </tr>\n",
       "  </thead>\n",
       "  <tbody>\n",
       "    <tr>\n",
       "      <th>0</th>\n",
       "      <td>-0.238399</td>\n",
       "      <td>-1.311330</td>\n",
       "      <td>-0.782298</td>\n",
       "      <td>-0.341821</td>\n",
       "      <td>0.469353</td>\n",
       "      <td>-0.431860</td>\n",
       "      <td>0.602948</td>\n",
       "      <td>1.220206</td>\n",
       "      <td>1.525103</td>\n",
       "      <td>-0.991354</td>\n",
       "      <td>...</td>\n",
       "      <td>-0.559927</td>\n",
       "      <td>-0.532534</td>\n",
       "      <td>-0.465923</td>\n",
       "      <td>0.874697</td>\n",
       "      <td>-0.108972</td>\n",
       "      <td>-0.080328</td>\n",
       "      <td>0.448971</td>\n",
       "      <td>2.080754</td>\n",
       "      <td>-1.535373</td>\n",
       "      <td>-0.460125</td>\n",
       "    </tr>\n",
       "    <tr>\n",
       "      <th>1</th>\n",
       "      <td>-0.223940</td>\n",
       "      <td>-1.277836</td>\n",
       "      <td>-0.202433</td>\n",
       "      <td>-0.317682</td>\n",
       "      <td>0.081900</td>\n",
       "      <td>-0.624267</td>\n",
       "      <td>-0.577119</td>\n",
       "      <td>-0.489564</td>\n",
       "      <td>0.704099</td>\n",
       "      <td>-0.511071</td>\n",
       "      <td>...</td>\n",
       "      <td>-0.055943</td>\n",
       "      <td>-2.208109</td>\n",
       "      <td>0.027813</td>\n",
       "      <td>-1.663044</td>\n",
       "      <td>0.018190</td>\n",
       "      <td>-0.432993</td>\n",
       "      <td>1.204321</td>\n",
       "      <td>0.705121</td>\n",
       "      <td>-1.106140</td>\n",
       "      <td>0.145533</td>\n",
       "    </tr>\n",
       "    <tr>\n",
       "      <th>2</th>\n",
       "      <td>-0.278740</td>\n",
       "      <td>1.342790</td>\n",
       "      <td>-0.734591</td>\n",
       "      <td>0.618881</td>\n",
       "      <td>1.365690</td>\n",
       "      <td>-1.397553</td>\n",
       "      <td>-1.446412</td>\n",
       "      <td>-0.844917</td>\n",
       "      <td>0.845916</td>\n",
       "      <td>-1.574979</td>\n",
       "      <td>...</td>\n",
       "      <td>-1.616313</td>\n",
       "      <td>2.144484</td>\n",
       "      <td>-1.110290</td>\n",
       "      <td>-0.524140</td>\n",
       "      <td>-2.176645</td>\n",
       "      <td>-1.903969</td>\n",
       "      <td>1.715735</td>\n",
       "      <td>0.054220</td>\n",
       "      <td>-1.125896</td>\n",
       "      <td>1.309994</td>\n",
       "    </tr>\n",
       "    <tr>\n",
       "      <th>3</th>\n",
       "      <td>0.585189</td>\n",
       "      <td>0.344587</td>\n",
       "      <td>1.512917</td>\n",
       "      <td>0.272105</td>\n",
       "      <td>0.480314</td>\n",
       "      <td>-0.688009</td>\n",
       "      <td>-1.473050</td>\n",
       "      <td>-0.732295</td>\n",
       "      <td>0.407361</td>\n",
       "      <td>0.900369</td>\n",
       "      <td>...</td>\n",
       "      <td>1.107443</td>\n",
       "      <td>-0.948995</td>\n",
       "      <td>0.555096</td>\n",
       "      <td>0.645465</td>\n",
       "      <td>1.291971</td>\n",
       "      <td>0.690657</td>\n",
       "      <td>-0.322088</td>\n",
       "      <td>0.341865</td>\n",
       "      <td>-1.436627</td>\n",
       "      <td>0.231027</td>\n",
       "    </tr>\n",
       "    <tr>\n",
       "      <th>4</th>\n",
       "      <td>0.992821</td>\n",
       "      <td>-0.654237</td>\n",
       "      <td>2.431634</td>\n",
       "      <td>-1.167275</td>\n",
       "      <td>0.347093</td>\n",
       "      <td>0.772373</td>\n",
       "      <td>0.766213</td>\n",
       "      <td>-0.441367</td>\n",
       "      <td>0.632604</td>\n",
       "      <td>1.543905</td>\n",
       "      <td>...</td>\n",
       "      <td>0.088682</td>\n",
       "      <td>1.357311</td>\n",
       "      <td>0.739249</td>\n",
       "      <td>-0.213874</td>\n",
       "      <td>0.521273</td>\n",
       "      <td>-0.885125</td>\n",
       "      <td>-1.262695</td>\n",
       "      <td>0.974920</td>\n",
       "      <td>1.139357</td>\n",
       "      <td>-0.104045</td>\n",
       "    </tr>\n",
       "  </tbody>\n",
       "</table>\n",
       "<p>5 rows × 80 columns</p>\n",
       "</div>"
      ],
      "text/plain": [
       "          0         1         2         3         4         5         6  \\\n",
       "0 -0.238399 -1.311330 -0.782298 -0.341821  0.469353 -0.431860  0.602948   \n",
       "1 -0.223940 -1.277836 -0.202433 -0.317682  0.081900 -0.624267 -0.577119   \n",
       "2 -0.278740  1.342790 -0.734591  0.618881  1.365690 -1.397553 -1.446412   \n",
       "3  0.585189  0.344587  1.512917  0.272105  0.480314 -0.688009 -1.473050   \n",
       "4  0.992821 -0.654237  2.431634 -1.167275  0.347093  0.772373  0.766213   \n",
       "\n",
       "          7         8         9  ...        70        71        72        73  \\\n",
       "0  1.220206  1.525103 -0.991354  ... -0.559927 -0.532534 -0.465923  0.874697   \n",
       "1 -0.489564  0.704099 -0.511071  ... -0.055943 -2.208109  0.027813 -1.663044   \n",
       "2 -0.844917  0.845916 -1.574979  ... -1.616313  2.144484 -1.110290 -0.524140   \n",
       "3 -0.732295  0.407361  0.900369  ...  1.107443 -0.948995  0.555096  0.645465   \n",
       "4 -0.441367  0.632604  1.543905  ...  0.088682  1.357311  0.739249 -0.213874   \n",
       "\n",
       "         74        75        76        77        78        79  \n",
       "0 -0.108972 -0.080328  0.448971  2.080754 -1.535373 -0.460125  \n",
       "1  0.018190 -0.432993  1.204321  0.705121 -1.106140  0.145533  \n",
       "2 -2.176645 -1.903969  1.715735  0.054220 -1.125896  1.309994  \n",
       "3  1.291971  0.690657 -0.322088  0.341865 -1.436627  0.231027  \n",
       "4  0.521273 -0.885125 -1.262695  0.974920  1.139357 -0.104045  \n",
       "\n",
       "[5 rows x 80 columns]"
      ]
     },
     "execution_count": 9,
     "metadata": {},
     "output_type": "execute_result"
    }
   ],
   "source": [
    "data.head()"
   ]
  },
  {
   "cell_type": "code",
   "execution_count": 10,
   "metadata": {},
   "outputs": [],
   "source": [
    "best_scores = np.zeros(len(data.columns))"
   ]
  },
  {
   "cell_type": "code",
   "execution_count": 11,
   "metadata": {},
   "outputs": [
    {
     "name": "stderr",
     "output_type": "stream",
     "text": [
      "C:\\Users\\shabalina.aa\\AppData\\Local\\Continuum\\anaconda3\\lib\\site-packages\\sklearn\\model_selection\\_split.py:2053: FutureWarning: You should specify a value for 'cv' instead of relying on the default value. The default value will change from 3 to 5 in version 0.22.\n",
      "  warnings.warn(CV_WARNING, FutureWarning)\n",
      "C:\\Users\\shabalina.aa\\AppData\\Local\\Continuum\\anaconda3\\lib\\site-packages\\sklearn\\model_selection\\_split.py:2053: FutureWarning: You should specify a value for 'cv' instead of relying on the default value. The default value will change from 3 to 5 in version 0.22.\n",
      "  warnings.warn(CV_WARNING, FutureWarning)\n",
      "C:\\Users\\shabalina.aa\\AppData\\Local\\Continuum\\anaconda3\\lib\\site-packages\\sklearn\\model_selection\\_split.py:2053: FutureWarning: You should specify a value for 'cv' instead of relying on the default value. The default value will change from 3 to 5 in version 0.22.\n",
      "  warnings.warn(CV_WARNING, FutureWarning)\n",
      "C:\\Users\\shabalina.aa\\AppData\\Local\\Continuum\\anaconda3\\lib\\site-packages\\sklearn\\model_selection\\_split.py:2053: FutureWarning: You should specify a value for 'cv' instead of relying on the default value. The default value will change from 3 to 5 in version 0.22.\n",
      "  warnings.warn(CV_WARNING, FutureWarning)\n",
      "C:\\Users\\shabalina.aa\\AppData\\Local\\Continuum\\anaconda3\\lib\\site-packages\\sklearn\\model_selection\\_split.py:2053: FutureWarning: You should specify a value for 'cv' instead of relying on the default value. The default value will change from 3 to 5 in version 0.22.\n",
      "  warnings.warn(CV_WARNING, FutureWarning)\n",
      "C:\\Users\\shabalina.aa\\AppData\\Local\\Continuum\\anaconda3\\lib\\site-packages\\sklearn\\model_selection\\_split.py:2053: FutureWarning: You should specify a value for 'cv' instead of relying on the default value. The default value will change from 3 to 5 in version 0.22.\n",
      "  warnings.warn(CV_WARNING, FutureWarning)\n",
      "C:\\Users\\shabalina.aa\\AppData\\Local\\Continuum\\anaconda3\\lib\\site-packages\\sklearn\\model_selection\\_split.py:2053: FutureWarning: You should specify a value for 'cv' instead of relying on the default value. The default value will change from 3 to 5 in version 0.22.\n",
      "  warnings.warn(CV_WARNING, FutureWarning)\n",
      "C:\\Users\\shabalina.aa\\AppData\\Local\\Continuum\\anaconda3\\lib\\site-packages\\sklearn\\model_selection\\_split.py:2053: FutureWarning: You should specify a value for 'cv' instead of relying on the default value. The default value will change from 3 to 5 in version 0.22.\n",
      "  warnings.warn(CV_WARNING, FutureWarning)\n",
      "C:\\Users\\shabalina.aa\\AppData\\Local\\Continuum\\anaconda3\\lib\\site-packages\\sklearn\\model_selection\\_split.py:2053: FutureWarning: You should specify a value for 'cv' instead of relying on the default value. The default value will change from 3 to 5 in version 0.22.\n",
      "  warnings.warn(CV_WARNING, FutureWarning)\n",
      "C:\\Users\\shabalina.aa\\AppData\\Local\\Continuum\\anaconda3\\lib\\site-packages\\sklearn\\model_selection\\_split.py:2053: FutureWarning: You should specify a value for 'cv' instead of relying on the default value. The default value will change from 3 to 5 in version 0.22.\n",
      "  warnings.warn(CV_WARNING, FutureWarning)\n",
      "C:\\Users\\shabalina.aa\\AppData\\Local\\Continuum\\anaconda3\\lib\\site-packages\\sklearn\\model_selection\\_split.py:2053: FutureWarning: You should specify a value for 'cv' instead of relying on the default value. The default value will change from 3 to 5 in version 0.22.\n",
      "  warnings.warn(CV_WARNING, FutureWarning)\n",
      "C:\\Users\\shabalina.aa\\AppData\\Local\\Continuum\\anaconda3\\lib\\site-packages\\sklearn\\model_selection\\_split.py:2053: FutureWarning: You should specify a value for 'cv' instead of relying on the default value. The default value will change from 3 to 5 in version 0.22.\n",
      "  warnings.warn(CV_WARNING, FutureWarning)\n",
      "C:\\Users\\shabalina.aa\\AppData\\Local\\Continuum\\anaconda3\\lib\\site-packages\\sklearn\\model_selection\\_split.py:2053: FutureWarning: You should specify a value for 'cv' instead of relying on the default value. The default value will change from 3 to 5 in version 0.22.\n",
      "  warnings.warn(CV_WARNING, FutureWarning)\n",
      "C:\\Users\\shabalina.aa\\AppData\\Local\\Continuum\\anaconda3\\lib\\site-packages\\sklearn\\model_selection\\_split.py:2053: FutureWarning: You should specify a value for 'cv' instead of relying on the default value. The default value will change from 3 to 5 in version 0.22.\n",
      "  warnings.warn(CV_WARNING, FutureWarning)\n",
      "C:\\Users\\shabalina.aa\\AppData\\Local\\Continuum\\anaconda3\\lib\\site-packages\\sklearn\\model_selection\\_split.py:2053: FutureWarning: You should specify a value for 'cv' instead of relying on the default value. The default value will change from 3 to 5 in version 0.22.\n",
      "  warnings.warn(CV_WARNING, FutureWarning)\n",
      "C:\\Users\\shabalina.aa\\AppData\\Local\\Continuum\\anaconda3\\lib\\site-packages\\sklearn\\model_selection\\_split.py:2053: FutureWarning: You should specify a value for 'cv' instead of relying on the default value. The default value will change from 3 to 5 in version 0.22.\n",
      "  warnings.warn(CV_WARNING, FutureWarning)\n",
      "C:\\Users\\shabalina.aa\\AppData\\Local\\Continuum\\anaconda3\\lib\\site-packages\\sklearn\\model_selection\\_split.py:2053: FutureWarning: You should specify a value for 'cv' instead of relying on the default value. The default value will change from 3 to 5 in version 0.22.\n",
      "  warnings.warn(CV_WARNING, FutureWarning)\n",
      "C:\\Users\\shabalina.aa\\AppData\\Local\\Continuum\\anaconda3\\lib\\site-packages\\sklearn\\model_selection\\_split.py:2053: FutureWarning: You should specify a value for 'cv' instead of relying on the default value. The default value will change from 3 to 5 in version 0.22.\n",
      "  warnings.warn(CV_WARNING, FutureWarning)\n",
      "C:\\Users\\shabalina.aa\\AppData\\Local\\Continuum\\anaconda3\\lib\\site-packages\\sklearn\\model_selection\\_split.py:2053: FutureWarning: You should specify a value for 'cv' instead of relying on the default value. The default value will change from 3 to 5 in version 0.22.\n",
      "  warnings.warn(CV_WARNING, FutureWarning)\n",
      "C:\\Users\\shabalina.aa\\AppData\\Local\\Continuum\\anaconda3\\lib\\site-packages\\sklearn\\model_selection\\_split.py:2053: FutureWarning: You should specify a value for 'cv' instead of relying on the default value. The default value will change from 3 to 5 in version 0.22.\n",
      "  warnings.warn(CV_WARNING, FutureWarning)\n",
      "C:\\Users\\shabalina.aa\\AppData\\Local\\Continuum\\anaconda3\\lib\\site-packages\\sklearn\\model_selection\\_split.py:2053: FutureWarning: You should specify a value for 'cv' instead of relying on the default value. The default value will change from 3 to 5 in version 0.22.\n",
      "  warnings.warn(CV_WARNING, FutureWarning)\n",
      "C:\\Users\\shabalina.aa\\AppData\\Local\\Continuum\\anaconda3\\lib\\site-packages\\sklearn\\model_selection\\_split.py:2053: FutureWarning: You should specify a value for 'cv' instead of relying on the default value. The default value will change from 3 to 5 in version 0.22.\n",
      "  warnings.warn(CV_WARNING, FutureWarning)\n",
      "C:\\Users\\shabalina.aa\\AppData\\Local\\Continuum\\anaconda3\\lib\\site-packages\\sklearn\\model_selection\\_split.py:2053: FutureWarning: You should specify a value for 'cv' instead of relying on the default value. The default value will change from 3 to 5 in version 0.22.\n",
      "  warnings.warn(CV_WARNING, FutureWarning)\n",
      "C:\\Users\\shabalina.aa\\AppData\\Local\\Continuum\\anaconda3\\lib\\site-packages\\sklearn\\model_selection\\_split.py:2053: FutureWarning: You should specify a value for 'cv' instead of relying on the default value. The default value will change from 3 to 5 in version 0.22.\n",
      "  warnings.warn(CV_WARNING, FutureWarning)\n",
      "C:\\Users\\shabalina.aa\\AppData\\Local\\Continuum\\anaconda3\\lib\\site-packages\\sklearn\\model_selection\\_split.py:2053: FutureWarning: You should specify a value for 'cv' instead of relying on the default value. The default value will change from 3 to 5 in version 0.22.\n",
      "  warnings.warn(CV_WARNING, FutureWarning)\n",
      "C:\\Users\\shabalina.aa\\AppData\\Local\\Continuum\\anaconda3\\lib\\site-packages\\sklearn\\model_selection\\_split.py:2053: FutureWarning: You should specify a value for 'cv' instead of relying on the default value. The default value will change from 3 to 5 in version 0.22.\n",
      "  warnings.warn(CV_WARNING, FutureWarning)\n",
      "C:\\Users\\shabalina.aa\\AppData\\Local\\Continuum\\anaconda3\\lib\\site-packages\\sklearn\\model_selection\\_split.py:2053: FutureWarning: You should specify a value for 'cv' instead of relying on the default value. The default value will change from 3 to 5 in version 0.22.\n",
      "  warnings.warn(CV_WARNING, FutureWarning)\n",
      "C:\\Users\\shabalina.aa\\AppData\\Local\\Continuum\\anaconda3\\lib\\site-packages\\sklearn\\model_selection\\_split.py:2053: FutureWarning: You should specify a value for 'cv' instead of relying on the default value. The default value will change from 3 to 5 in version 0.22.\n",
      "  warnings.warn(CV_WARNING, FutureWarning)\n",
      "C:\\Users\\shabalina.aa\\AppData\\Local\\Continuum\\anaconda3\\lib\\site-packages\\sklearn\\model_selection\\_split.py:2053: FutureWarning: You should specify a value for 'cv' instead of relying on the default value. The default value will change from 3 to 5 in version 0.22.\n",
      "  warnings.warn(CV_WARNING, FutureWarning)\n"
     ]
    },
    {
     "name": "stderr",
     "output_type": "stream",
     "text": [
      "C:\\Users\\shabalina.aa\\AppData\\Local\\Continuum\\anaconda3\\lib\\site-packages\\sklearn\\model_selection\\_split.py:2053: FutureWarning: You should specify a value for 'cv' instead of relying on the default value. The default value will change from 3 to 5 in version 0.22.\n",
      "  warnings.warn(CV_WARNING, FutureWarning)\n",
      "C:\\Users\\shabalina.aa\\AppData\\Local\\Continuum\\anaconda3\\lib\\site-packages\\sklearn\\model_selection\\_split.py:2053: FutureWarning: You should specify a value for 'cv' instead of relying on the default value. The default value will change from 3 to 5 in version 0.22.\n",
      "  warnings.warn(CV_WARNING, FutureWarning)\n",
      "C:\\Users\\shabalina.aa\\AppData\\Local\\Continuum\\anaconda3\\lib\\site-packages\\sklearn\\model_selection\\_split.py:2053: FutureWarning: You should specify a value for 'cv' instead of relying on the default value. The default value will change from 3 to 5 in version 0.22.\n",
      "  warnings.warn(CV_WARNING, FutureWarning)\n",
      "C:\\Users\\shabalina.aa\\AppData\\Local\\Continuum\\anaconda3\\lib\\site-packages\\sklearn\\model_selection\\_split.py:2053: FutureWarning: You should specify a value for 'cv' instead of relying on the default value. The default value will change from 3 to 5 in version 0.22.\n",
      "  warnings.warn(CV_WARNING, FutureWarning)\n",
      "C:\\Users\\shabalina.aa\\AppData\\Local\\Continuum\\anaconda3\\lib\\site-packages\\sklearn\\model_selection\\_split.py:2053: FutureWarning: You should specify a value for 'cv' instead of relying on the default value. The default value will change from 3 to 5 in version 0.22.\n",
      "  warnings.warn(CV_WARNING, FutureWarning)\n",
      "C:\\Users\\shabalina.aa\\AppData\\Local\\Continuum\\anaconda3\\lib\\site-packages\\sklearn\\model_selection\\_split.py:2053: FutureWarning: You should specify a value for 'cv' instead of relying on the default value. The default value will change from 3 to 5 in version 0.22.\n",
      "  warnings.warn(CV_WARNING, FutureWarning)\n",
      "C:\\Users\\shabalina.aa\\AppData\\Local\\Continuum\\anaconda3\\lib\\site-packages\\sklearn\\model_selection\\_split.py:2053: FutureWarning: You should specify a value for 'cv' instead of relying on the default value. The default value will change from 3 to 5 in version 0.22.\n",
      "  warnings.warn(CV_WARNING, FutureWarning)\n",
      "C:\\Users\\shabalina.aa\\AppData\\Local\\Continuum\\anaconda3\\lib\\site-packages\\sklearn\\model_selection\\_split.py:2053: FutureWarning: You should specify a value for 'cv' instead of relying on the default value. The default value will change from 3 to 5 in version 0.22.\n",
      "  warnings.warn(CV_WARNING, FutureWarning)\n",
      "C:\\Users\\shabalina.aa\\AppData\\Local\\Continuum\\anaconda3\\lib\\site-packages\\sklearn\\model_selection\\_split.py:2053: FutureWarning: You should specify a value for 'cv' instead of relying on the default value. The default value will change from 3 to 5 in version 0.22.\n",
      "  warnings.warn(CV_WARNING, FutureWarning)\n",
      "C:\\Users\\shabalina.aa\\AppData\\Local\\Continuum\\anaconda3\\lib\\site-packages\\sklearn\\model_selection\\_split.py:2053: FutureWarning: You should specify a value for 'cv' instead of relying on the default value. The default value will change from 3 to 5 in version 0.22.\n",
      "  warnings.warn(CV_WARNING, FutureWarning)\n",
      "C:\\Users\\shabalina.aa\\AppData\\Local\\Continuum\\anaconda3\\lib\\site-packages\\sklearn\\model_selection\\_split.py:2053: FutureWarning: You should specify a value for 'cv' instead of relying on the default value. The default value will change from 3 to 5 in version 0.22.\n",
      "  warnings.warn(CV_WARNING, FutureWarning)\n",
      "C:\\Users\\shabalina.aa\\AppData\\Local\\Continuum\\anaconda3\\lib\\site-packages\\sklearn\\model_selection\\_split.py:2053: FutureWarning: You should specify a value for 'cv' instead of relying on the default value. The default value will change from 3 to 5 in version 0.22.\n",
      "  warnings.warn(CV_WARNING, FutureWarning)\n",
      "C:\\Users\\shabalina.aa\\AppData\\Local\\Continuum\\anaconda3\\lib\\site-packages\\sklearn\\model_selection\\_split.py:2053: FutureWarning: You should specify a value for 'cv' instead of relying on the default value. The default value will change from 3 to 5 in version 0.22.\n",
      "  warnings.warn(CV_WARNING, FutureWarning)\n",
      "C:\\Users\\shabalina.aa\\AppData\\Local\\Continuum\\anaconda3\\lib\\site-packages\\sklearn\\model_selection\\_split.py:2053: FutureWarning: You should specify a value for 'cv' instead of relying on the default value. The default value will change from 3 to 5 in version 0.22.\n",
      "  warnings.warn(CV_WARNING, FutureWarning)\n",
      "C:\\Users\\shabalina.aa\\AppData\\Local\\Continuum\\anaconda3\\lib\\site-packages\\sklearn\\model_selection\\_split.py:2053: FutureWarning: You should specify a value for 'cv' instead of relying on the default value. The default value will change from 3 to 5 in version 0.22.\n",
      "  warnings.warn(CV_WARNING, FutureWarning)\n",
      "C:\\Users\\shabalina.aa\\AppData\\Local\\Continuum\\anaconda3\\lib\\site-packages\\sklearn\\model_selection\\_split.py:2053: FutureWarning: You should specify a value for 'cv' instead of relying on the default value. The default value will change from 3 to 5 in version 0.22.\n",
      "  warnings.warn(CV_WARNING, FutureWarning)\n",
      "C:\\Users\\shabalina.aa\\AppData\\Local\\Continuum\\anaconda3\\lib\\site-packages\\sklearn\\model_selection\\_split.py:2053: FutureWarning: You should specify a value for 'cv' instead of relying on the default value. The default value will change from 3 to 5 in version 0.22.\n",
      "  warnings.warn(CV_WARNING, FutureWarning)\n",
      "C:\\Users\\shabalina.aa\\AppData\\Local\\Continuum\\anaconda3\\lib\\site-packages\\sklearn\\model_selection\\_split.py:2053: FutureWarning: You should specify a value for 'cv' instead of relying on the default value. The default value will change from 3 to 5 in version 0.22.\n",
      "  warnings.warn(CV_WARNING, FutureWarning)\n",
      "C:\\Users\\shabalina.aa\\AppData\\Local\\Continuum\\anaconda3\\lib\\site-packages\\sklearn\\model_selection\\_split.py:2053: FutureWarning: You should specify a value for 'cv' instead of relying on the default value. The default value will change from 3 to 5 in version 0.22.\n",
      "  warnings.warn(CV_WARNING, FutureWarning)\n",
      "C:\\Users\\shabalina.aa\\AppData\\Local\\Continuum\\anaconda3\\lib\\site-packages\\sklearn\\model_selection\\_split.py:2053: FutureWarning: You should specify a value for 'cv' instead of relying on the default value. The default value will change from 3 to 5 in version 0.22.\n",
      "  warnings.warn(CV_WARNING, FutureWarning)\n",
      "C:\\Users\\shabalina.aa\\AppData\\Local\\Continuum\\anaconda3\\lib\\site-packages\\sklearn\\model_selection\\_split.py:2053: FutureWarning: You should specify a value for 'cv' instead of relying on the default value. The default value will change from 3 to 5 in version 0.22.\n",
      "  warnings.warn(CV_WARNING, FutureWarning)\n",
      "C:\\Users\\shabalina.aa\\AppData\\Local\\Continuum\\anaconda3\\lib\\site-packages\\sklearn\\model_selection\\_split.py:2053: FutureWarning: You should specify a value for 'cv' instead of relying on the default value. The default value will change from 3 to 5 in version 0.22.\n",
      "  warnings.warn(CV_WARNING, FutureWarning)\n",
      "C:\\Users\\shabalina.aa\\AppData\\Local\\Continuum\\anaconda3\\lib\\site-packages\\sklearn\\model_selection\\_split.py:2053: FutureWarning: You should specify a value for 'cv' instead of relying on the default value. The default value will change from 3 to 5 in version 0.22.\n",
      "  warnings.warn(CV_WARNING, FutureWarning)\n",
      "C:\\Users\\shabalina.aa\\AppData\\Local\\Continuum\\anaconda3\\lib\\site-packages\\sklearn\\model_selection\\_split.py:2053: FutureWarning: You should specify a value for 'cv' instead of relying on the default value. The default value will change from 3 to 5 in version 0.22.\n",
      "  warnings.warn(CV_WARNING, FutureWarning)\n",
      "C:\\Users\\shabalina.aa\\AppData\\Local\\Continuum\\anaconda3\\lib\\site-packages\\sklearn\\model_selection\\_split.py:2053: FutureWarning: You should specify a value for 'cv' instead of relying on the default value. The default value will change from 3 to 5 in version 0.22.\n",
      "  warnings.warn(CV_WARNING, FutureWarning)\n",
      "C:\\Users\\shabalina.aa\\AppData\\Local\\Continuum\\anaconda3\\lib\\site-packages\\sklearn\\model_selection\\_split.py:2053: FutureWarning: You should specify a value for 'cv' instead of relying on the default value. The default value will change from 3 to 5 in version 0.22.\n",
      "  warnings.warn(CV_WARNING, FutureWarning)\n",
      "C:\\Users\\shabalina.aa\\AppData\\Local\\Continuum\\anaconda3\\lib\\site-packages\\sklearn\\model_selection\\_split.py:2053: FutureWarning: You should specify a value for 'cv' instead of relying on the default value. The default value will change from 3 to 5 in version 0.22.\n",
      "  warnings.warn(CV_WARNING, FutureWarning)\n"
     ]
    },
    {
     "name": "stderr",
     "output_type": "stream",
     "text": [
      "C:\\Users\\shabalina.aa\\AppData\\Local\\Continuum\\anaconda3\\lib\\site-packages\\sklearn\\model_selection\\_split.py:2053: FutureWarning: You should specify a value for 'cv' instead of relying on the default value. The default value will change from 3 to 5 in version 0.22.\n",
      "  warnings.warn(CV_WARNING, FutureWarning)\n",
      "C:\\Users\\shabalina.aa\\AppData\\Local\\Continuum\\anaconda3\\lib\\site-packages\\sklearn\\model_selection\\_split.py:2053: FutureWarning: You should specify a value for 'cv' instead of relying on the default value. The default value will change from 3 to 5 in version 0.22.\n",
      "  warnings.warn(CV_WARNING, FutureWarning)\n",
      "C:\\Users\\shabalina.aa\\AppData\\Local\\Continuum\\anaconda3\\lib\\site-packages\\sklearn\\model_selection\\_split.py:2053: FutureWarning: You should specify a value for 'cv' instead of relying on the default value. The default value will change from 3 to 5 in version 0.22.\n",
      "  warnings.warn(CV_WARNING, FutureWarning)\n",
      "C:\\Users\\shabalina.aa\\AppData\\Local\\Continuum\\anaconda3\\lib\\site-packages\\sklearn\\model_selection\\_split.py:2053: FutureWarning: You should specify a value for 'cv' instead of relying on the default value. The default value will change from 3 to 5 in version 0.22.\n",
      "  warnings.warn(CV_WARNING, FutureWarning)\n",
      "C:\\Users\\shabalina.aa\\AppData\\Local\\Continuum\\anaconda3\\lib\\site-packages\\sklearn\\model_selection\\_split.py:2053: FutureWarning: You should specify a value for 'cv' instead of relying on the default value. The default value will change from 3 to 5 in version 0.22.\n",
      "  warnings.warn(CV_WARNING, FutureWarning)\n",
      "C:\\Users\\shabalina.aa\\AppData\\Local\\Continuum\\anaconda3\\lib\\site-packages\\sklearn\\model_selection\\_split.py:2053: FutureWarning: You should specify a value for 'cv' instead of relying on the default value. The default value will change from 3 to 5 in version 0.22.\n",
      "  warnings.warn(CV_WARNING, FutureWarning)\n",
      "C:\\Users\\shabalina.aa\\AppData\\Local\\Continuum\\anaconda3\\lib\\site-packages\\sklearn\\model_selection\\_split.py:2053: FutureWarning: You should specify a value for 'cv' instead of relying on the default value. The default value will change from 3 to 5 in version 0.22.\n",
      "  warnings.warn(CV_WARNING, FutureWarning)\n",
      "C:\\Users\\shabalina.aa\\AppData\\Local\\Continuum\\anaconda3\\lib\\site-packages\\sklearn\\model_selection\\_split.py:2053: FutureWarning: You should specify a value for 'cv' instead of relying on the default value. The default value will change from 3 to 5 in version 0.22.\n",
      "  warnings.warn(CV_WARNING, FutureWarning)\n",
      "C:\\Users\\shabalina.aa\\AppData\\Local\\Continuum\\anaconda3\\lib\\site-packages\\sklearn\\model_selection\\_split.py:2053: FutureWarning: You should specify a value for 'cv' instead of relying on the default value. The default value will change from 3 to 5 in version 0.22.\n",
      "  warnings.warn(CV_WARNING, FutureWarning)\n",
      "C:\\Users\\shabalina.aa\\AppData\\Local\\Continuum\\anaconda3\\lib\\site-packages\\sklearn\\model_selection\\_split.py:2053: FutureWarning: You should specify a value for 'cv' instead of relying on the default value. The default value will change from 3 to 5 in version 0.22.\n",
      "  warnings.warn(CV_WARNING, FutureWarning)\n",
      "C:\\Users\\shabalina.aa\\AppData\\Local\\Continuum\\anaconda3\\lib\\site-packages\\sklearn\\model_selection\\_split.py:2053: FutureWarning: You should specify a value for 'cv' instead of relying on the default value. The default value will change from 3 to 5 in version 0.22.\n",
      "  warnings.warn(CV_WARNING, FutureWarning)\n",
      "C:\\Users\\shabalina.aa\\AppData\\Local\\Continuum\\anaconda3\\lib\\site-packages\\sklearn\\model_selection\\_split.py:2053: FutureWarning: You should specify a value for 'cv' instead of relying on the default value. The default value will change from 3 to 5 in version 0.22.\n",
      "  warnings.warn(CV_WARNING, FutureWarning)\n",
      "C:\\Users\\shabalina.aa\\AppData\\Local\\Continuum\\anaconda3\\lib\\site-packages\\sklearn\\model_selection\\_split.py:2053: FutureWarning: You should specify a value for 'cv' instead of relying on the default value. The default value will change from 3 to 5 in version 0.22.\n",
      "  warnings.warn(CV_WARNING, FutureWarning)\n",
      "C:\\Users\\shabalina.aa\\AppData\\Local\\Continuum\\anaconda3\\lib\\site-packages\\sklearn\\model_selection\\_split.py:2053: FutureWarning: You should specify a value for 'cv' instead of relying on the default value. The default value will change from 3 to 5 in version 0.22.\n",
      "  warnings.warn(CV_WARNING, FutureWarning)\n",
      "C:\\Users\\shabalina.aa\\AppData\\Local\\Continuum\\anaconda3\\lib\\site-packages\\sklearn\\model_selection\\_split.py:2053: FutureWarning: You should specify a value for 'cv' instead of relying on the default value. The default value will change from 3 to 5 in version 0.22.\n",
      "  warnings.warn(CV_WARNING, FutureWarning)\n",
      "C:\\Users\\shabalina.aa\\AppData\\Local\\Continuum\\anaconda3\\lib\\site-packages\\sklearn\\model_selection\\_split.py:2053: FutureWarning: You should specify a value for 'cv' instead of relying on the default value. The default value will change from 3 to 5 in version 0.22.\n",
      "  warnings.warn(CV_WARNING, FutureWarning)\n",
      "C:\\Users\\shabalina.aa\\AppData\\Local\\Continuum\\anaconda3\\lib\\site-packages\\sklearn\\model_selection\\_split.py:2053: FutureWarning: You should specify a value for 'cv' instead of relying on the default value. The default value will change from 3 to 5 in version 0.22.\n",
      "  warnings.warn(CV_WARNING, FutureWarning)\n",
      "C:\\Users\\shabalina.aa\\AppData\\Local\\Continuum\\anaconda3\\lib\\site-packages\\sklearn\\model_selection\\_split.py:2053: FutureWarning: You should specify a value for 'cv' instead of relying on the default value. The default value will change from 3 to 5 in version 0.22.\n",
      "  warnings.warn(CV_WARNING, FutureWarning)\n",
      "C:\\Users\\shabalina.aa\\AppData\\Local\\Continuum\\anaconda3\\lib\\site-packages\\sklearn\\model_selection\\_split.py:2053: FutureWarning: You should specify a value for 'cv' instead of relying on the default value. The default value will change from 3 to 5 in version 0.22.\n",
      "  warnings.warn(CV_WARNING, FutureWarning)\n",
      "C:\\Users\\shabalina.aa\\AppData\\Local\\Continuum\\anaconda3\\lib\\site-packages\\sklearn\\model_selection\\_split.py:2053: FutureWarning: You should specify a value for 'cv' instead of relying on the default value. The default value will change from 3 to 5 in version 0.22.\n",
      "  warnings.warn(CV_WARNING, FutureWarning)\n",
      "C:\\Users\\shabalina.aa\\AppData\\Local\\Continuum\\anaconda3\\lib\\site-packages\\sklearn\\model_selection\\_split.py:2053: FutureWarning: You should specify a value for 'cv' instead of relying on the default value. The default value will change from 3 to 5 in version 0.22.\n",
      "  warnings.warn(CV_WARNING, FutureWarning)\n",
      "C:\\Users\\shabalina.aa\\AppData\\Local\\Continuum\\anaconda3\\lib\\site-packages\\sklearn\\model_selection\\_split.py:2053: FutureWarning: You should specify a value for 'cv' instead of relying on the default value. The default value will change from 3 to 5 in version 0.22.\n",
      "  warnings.warn(CV_WARNING, FutureWarning)\n",
      "C:\\Users\\shabalina.aa\\AppData\\Local\\Continuum\\anaconda3\\lib\\site-packages\\sklearn\\model_selection\\_split.py:2053: FutureWarning: You should specify a value for 'cv' instead of relying on the default value. The default value will change from 3 to 5 in version 0.22.\n",
      "  warnings.warn(CV_WARNING, FutureWarning)\n",
      "C:\\Users\\shabalina.aa\\AppData\\Local\\Continuum\\anaconda3\\lib\\site-packages\\sklearn\\model_selection\\_split.py:2053: FutureWarning: You should specify a value for 'cv' instead of relying on the default value. The default value will change from 3 to 5 in version 0.22.\n",
      "  warnings.warn(CV_WARNING, FutureWarning)\n"
     ]
    }
   ],
   "source": [
    "for i in range(best_scores.size):\n",
    "    model = PCA(n_components=i+1)\n",
    "    scores = cv_score(model, data)\n",
    "    best_scores[i] = scores.mean()"
   ]
  },
  {
   "cell_type": "code",
   "execution_count": 12,
   "metadata": {},
   "outputs": [
    {
     "data": {
      "image/png": "[encoded data removed]",
      "text/plain": [
       "<Figure size 432x288 with 1 Axes>"
      ]
     },
     "metadata": {
      "needs_background": "light"
     },
     "output_type": "display_data"
    }
   ],
   "source": [
    "plot_scores(best_scores)"
   ]
  },
  {
   "cell_type": "code",
   "execution_count": 13,
   "metadata": {},
   "outputs": [],
   "source": [
    "ans1 = np.argmax(best_scores)+1"
   ]
  },
  {
   "cell_type": "code",
   "execution_count": 14,
   "metadata": {},
   "outputs": [],
   "source": [
    "write_answer_1(ans1)"
   ]
  },
  {
   "cell_type": "markdown",
   "metadata": {},
   "source": [
    "## Вариационный взгляд на модель\n",
    "\n",
    "Мы знаем, что каждой главной компоненте соответствует описываемая ей дисперсия данных (дисперсия данных при проекции на эту компоненту). Она численно равна значению диагональных элементов матрицы $\\Lambda$, получаемой из спектрального разложения матрицы ковариации данных (смотри теорию выше).\n",
    "\n",
    "Исходя из этого, мы можем отсортировать дисперсию данных вдоль этих компонент по убыванию, и уменьшить размерность данных, отбросив $q$ итоговых главных компонент, имеющих наименьшую дисперсию.\n",
    "\n",
    "Делать это можно двумя разными способами. Например, если вы вдальнейшем обучаете на данных с уменьшенной размерностью модель классификации или регрессии, то можно запустить итерационный процесс: удалять компоненты с наименьшей дисперсией по одной, пока качество итоговой модели не станет значительно хуже.\n",
    "\n",
    "Более общий способ отбора признаков заключается в том, что вы можете посмотреть на разности в дисперсиях в отсортированном ряде $\\lambda_{(1)} > \\lambda_{(2)} > \\dots > \\lambda_{(D)}$: $\\lambda_{(1)}-\\lambda_{(2)}, \\dots, \\lambda_{(D-1)} - \\lambda_{(D)}$, и удалить те компоненты, на которых разность будет наибольшей. Именно этим методом вам и предлагается воспользоваться для тестового набора данных."
   ]
  },
  {
   "cell_type": "markdown",
   "metadata": {},
   "source": [
    "## Задание 2. Ручное уменьшение размерности признаков посредством анализа дисперсии данных вдоль главных компонент\n",
    "\n",
    "Рассмотрим ещё один набор данных размерности $D$, чья реальная размерность значительно меньше наблюдаемой (назовём её также $d$). От вас требуется:\n",
    "\n",
    "1. Построить модель PCA с $D$ главными компонентами по этим данным.\n",
    "2. Спроецировать данные на главные компоненты.\n",
    "3. Оценить их дисперсию вдоль главных компонент.\n",
    "4. Отсортировать дисперсии в порядке убывания и получить их попарные разности: $\\lambda_{(i-1)} - \\lambda_{(i)}$.\n",
    "5. Найти разность с наибольшим значением и получить по ней оценку на эффективную размерность данных $\\hat{d}$.\n",
    "6. Построить график дисперсий и убедиться, что полученная оценка на $\\hat{d}_{opt}$ действительно имеет смысл, после этого внести полученное значение $\\hat{d}_{opt}$ в файл ответа.\n",
    "\n",
    "Для построения модели PCA используйте функцию:\n",
    "\n",
    "    model.fit(data)\n",
    "    \n",
    "Для трансформации данных используйте метод:\n",
    "\n",
    "    model.transform(data)\n",
    "    \n",
    "Оценку дисперсий на трансформированных данных от вас потребуется реализовать вручную. Для построения графиков можно воспользоваться функцией\n",
    "\n",
    "    plot_variances(d_variances)\n",
    "    \n",
    "которой следует передать на вход отсортированный по убыванию вектор дисперсий вдоль компонент."
   ]
  },
  {
   "cell_type": "code",
   "execution_count": 15,
   "metadata": {},
   "outputs": [],
   "source": [
    "from sklearn.decomposition import PCA\n",
    "from sklearn.model_selection import cross_val_score as cv_score\n",
    "\n",
    "def plot_variances(d_variances):\n",
    "    n_components = np.arange(1,d_variances.size+1)\n",
    "    plt.plot(n_components, d_variances, 'b', label='Component variances')\n",
    "    plt.xlim(n_components[0], n_components[-1])\n",
    "    plt.xlabel('n components')\n",
    "    plt.ylabel('variance')\n",
    "    plt.legend(loc='upper right')\n",
    "    plt.show()\n",
    "    \n",
    "def write_answer_2(optimal_d):\n",
    "    with open(\"pca_answer2.txt\", \"w\") as fout:\n",
    "        fout.write(str(optimal_d))"
   ]
  },
  {
   "cell_type": "code",
   "execution_count": 16,
   "metadata": {},
   "outputs": [],
   "source": [
    "data = pd.read_csv('data_task2.csv')"
   ]
  },
  {
   "cell_type": "code",
   "execution_count": 17,
   "metadata": {},
   "outputs": [],
   "source": [
    "D = len(data.columns)"
   ]
  },
  {
   "cell_type": "code",
   "execution_count": 18,
   "metadata": {},
   "outputs": [],
   "source": [
    "model = PCA(n_components=D)"
   ]
  },
  {
   "cell_type": "code",
   "execution_count": 19,
   "metadata": {},
   "outputs": [
    {
     "data": {
      "text/plain": [
       "PCA(copy=True, iterated_power='auto', n_components=100, random_state=None,\n",
       "  svd_solver='auto', tol=0.0, whiten=False)"
      ]
     },
     "execution_count": 19,
     "metadata": {},
     "output_type": "execute_result"
    }
   ],
   "source": [
    "model.fit(data)"
   ]
  },
  {
   "cell_type": "code",
   "execution_count": 20,
   "metadata": {},
   "outputs": [],
   "source": [
    "X_transform = model.transform(data)"
   ]
  },
  {
   "cell_type": "code",
   "execution_count": 21,
   "metadata": {},
   "outputs": [
    {
     "data": {
      "text/plain": [
       "array([[-0.30344764, -1.29751281, -0.70239267, ..., -1.47730224,\n",
       "         1.11629147, -0.25244507],\n",
       "       [-0.0915355 ,  0.65052226, -0.65268647, ...,  0.56431176,\n",
       "        -0.10094539,  0.60052524],\n",
       "       [-3.99384512,  0.79041553, -1.31979412, ...,  1.0193418 ,\n",
       "         1.40797114, -0.38080938],\n",
       "       ...,\n",
       "       [ 0.67301685,  1.93241625, -1.38363548, ...,  1.13264246,\n",
       "        -0.91510327,  0.42195635],\n",
       "       [-1.79057231, -1.09341789, -1.97410919, ..., -0.41204847,\n",
       "        -0.58160393,  0.61332383],\n",
       "       [-0.47895175,  1.62999541, -0.95251304, ..., -0.58667374,\n",
       "         1.06193847, -2.01845297]])"
      ]
     },
     "execution_count": 21,
     "metadata": {},
     "output_type": "execute_result"
    }
   ],
   "source": [
    "X_transform"
   ]
  },
  {
   "cell_type": "code",
   "execution_count": 22,
   "metadata": {},
   "outputs": [],
   "source": [
    "variances = np.array([(X_transform[:, i]**2).sum()/(data.shape[0]-1) for i in range(D)])"
   ]
  },
  {
   "cell_type": "code",
   "execution_count": 23,
   "metadata": {},
   "outputs": [
    {
     "data": {
      "text/plain": [
       "array([2.45300783, 2.34721594, 2.32837423, 2.29215638, 2.26058883,\n",
       "       2.23673763, 2.23054413, 2.16149946, 2.12419737, 2.11722001,\n",
       "       2.101506  , 2.08661632, 2.06952524, 2.01874997, 2.01569559,\n",
       "       1.9975306 , 1.98999226, 1.97267641, 1.96145946, 1.93571547,\n",
       "       1.91127464, 1.88088269, 1.87313498, 1.86100004, 1.83748995,\n",
       "       1.83102547, 1.76695482, 1.75990976, 1.70900529, 1.67441869,\n",
       "       1.30213235, 1.27412642, 1.25988718, 1.24829741, 1.2373551 ,\n",
       "       1.22655268, 1.2160363 , 1.20337612, 1.19178072, 1.17704893,\n",
       "       1.17152643, 1.1596937 , 1.14421427, 1.13733863, 1.1280918 ,\n",
       "       1.12091597, 1.11941323, 1.10887359, 1.10153552, 1.09280867,\n",
       "       1.08081406, 1.071599  , 1.06894519, 1.05953135, 1.05917675,\n",
       "       1.03999244, 1.03181196, 1.02157178, 1.01563714, 1.00589789,\n",
       "       1.00414164, 0.99383921, 0.98822987, 0.9841911 , 0.98022019,\n",
       "       0.96913754, 0.96047364, 0.95574247, 0.9486803 , 0.94342659,\n",
       "       0.94097477, 0.93152563, 0.92430892, 0.92160925, 0.91402299,\n",
       "       0.9108494 , 0.90549165, 0.89290254, 0.8845041 , 0.88375427,\n",
       "       0.86944262, 0.86451103, 0.85899869, 0.85781495, 0.84775545,\n",
       "       0.83709426, 0.82127501, 0.81780833, 0.81143068, 0.80679308,\n",
       "       0.79707274, 0.79096824, 0.78836759, 0.78037885, 0.76733455,\n",
       "       0.76127863, 0.75995892, 0.75418212, 0.73440675, 0.72856754])"
      ]
     },
     "execution_count": 23,
     "metadata": {},
     "output_type": "execute_result"
    }
   ],
   "source": [
    "variances"
   ]
  },
  {
   "cell_type": "code",
   "execution_count": 24,
   "metadata": {},
   "outputs": [
    {
     "data": {
      "image/png": "[encoded data removed]",
      "text/plain": [
       "<Figure size 432x288 with 1 Axes>"
      ]
     },
     "metadata": {
      "needs_background": "light"
     },
     "output_type": "display_data"
    },
    {
     "data": {
      "image/png": "[encoded data removed]",
      "text/plain": [
       "<Figure size 432x288 with 1 Axes>"
      ]
     },
     "metadata": {
      "needs_background": "light"
     },
     "output_type": "display_data"
    }
   ],
   "source": [
    "plot_variances(variances)\n",
    "plot_variances(model.explained_variance_)"
   ]
  },
  {
   "cell_type": "code",
   "execution_count": 25,
   "metadata": {},
   "outputs": [],
   "source": [
    "variances_diff = np.zeros(variances.size-1)\n",
    "for i in range(variances_diff.size):\n",
    "    variances_diff[i] = variances[i] - variances[i+1]"
   ]
  },
  {
   "cell_type": "code",
   "execution_count": 26,
   "metadata": {},
   "outputs": [],
   "source": [
    "d_opt = np.argmax(variances_diff) + 1"
   ]
  },
  {
   "cell_type": "code",
   "execution_count": 27,
   "metadata": {},
   "outputs": [
    {
     "data": {
      "text/plain": [
       "30"
      ]
     },
     "execution_count": 27,
     "metadata": {},
     "output_type": "execute_result"
    }
   ],
   "source": [
    "d_opt"
   ]
  },
  {
   "cell_type": "code",
   "execution_count": 28,
   "metadata": {},
   "outputs": [],
   "source": [
    "write_answer_2(d_opt)"
   ]
  },
  {
   "cell_type": "markdown",
   "metadata": {},
   "source": [
    "## Интерпретация главных компонент\n",
    "\n",
    "В качестве главных компонент мы получаем линейные комбинации исходных призанков, поэтому резонно возникает вопрос об их интерпретации.\n",
    "\n",
    "Для этого существует несколько подходов, мы рассмотрим два:\n",
    "- рассчитать взаимосвязи главных компонент с исходными признаками\n",
    "- рассчитать вклады каждого конкретного наблюдения в главные компоненты\n",
    "\n",
    "Первый способ подходит в том случае, когда все объекты из набора данных не несут для нас никакой семантической информации, которая уже не запечатлена в наборе признаков.\n",
    "\n",
    "Второй способ подходит для случая, когда данные имеют более сложную структуру. Например, лица для человека несут больший семантический смысл, чем вектор значений пикселей, которые анализирует PCA.\n",
    "\n",
    "Рассмотрим подробнее способ 1: он заключается в подсчёте коэффициентов корреляций между исходными признаками и набором главных компонент.\n",
    "\n",
    "Так как метод главных компонент является линейным, то предлагается для анализа использовать корреляцию Пирсона, выборочный аналог которой имеет следующую формулу:\n",
    "\n",
    "$$r_{jk} = \\frac{\\sum_{i=1}^N (x_{ij} - \\bar{x}_j) (y_{ik} - \\bar{y}_k)}{\\sqrt{\\sum_{i=1}^N (x_{ij} - \\bar{x}_j)^2 \\sum_{i=1}^N (y_{ik} - \\bar{y}_k)^2}} $$\n",
    "\n",
    "где:\n",
    "- $\\bar{x}_j$ -- среднее значение j-го признака,\n",
    "- $\\bar{y}_k$ -- среднее значение проекции на k-ю главную компоненту.\n",
    "\n",
    "Корреляция Пирсона является мерой линейной зависимости. Она равна 0 в случае, когда величины независимы, и $\\pm 1$, если они линейно зависимы. Исходя из степени корреляции новой компоненты с исходными признаками, можно строить её семантическую интерпретацию, т.к. смысл исходных признаков мы знаем."
   ]
  },
  {
   "cell_type": "markdown",
   "metadata": {},
   "source": [
    "## Задание 3. Анализ главных компонент при помощи корреляций с исходными признаками.\n",
    "\n",
    "1. Обучите метод главных компонент на датасете iris, получите преобразованные данные.\n",
    "2. Посчитайте корреляции исходных признаков с их проекциями на первые две главные компоненты.\n",
    "3. Для каждого признака найдите компоненту (из двух построенных), с которой он коррелирует больше всего.\n",
    "4. На основании п.3 сгруппируйте признаки по компонентам. Составьте два списка: список номеров признаков, которые сильнее коррелируют с первой компонентой, и такой же список для второй. Нумерацию начинать с единицы. Передайте оба списка функции write_answer_3.\n",
    "\n",
    "Набор данных состоит из 4 признаков, посчитанных для 150 ирисов. Каждый из них принадлежит одному из трёх видов. Визуализацию проекции данного датасета на две компоненты, которые описывают наибольшую дисперсию данных, можно получить при помощи функции\n",
    "\n",
    "    plot_iris(transformed_data, target, target_names)\n",
    "    \n",
    "на вход которой требуется передать данные, преобразованные при помощи PCA, а также информацию о классах. Цвет точек отвечает одному из трёх видов ириса.\n",
    "\n",
    "Для того чтобы получить имена исходных признаков, используйте следующий список:\n",
    "\n",
    "    iris.feature_names\n",
    "    \n",
    "При подсчёте корреляций не забудьте центрировать признаки и проекции на главные компоненты (вычитать из них среднее)."
   ]
  },
  {
   "cell_type": "code",
   "execution_count": 29,
   "metadata": {},
   "outputs": [],
   "source": [
    "from sklearn import datasets\n",
    "\n",
    "def plot_iris(transformed_data, target, target_names):\n",
    "    plt.figure()\n",
    "    for c, i, target_name in zip(\"rgb\", [0, 1, 2], target_names):\n",
    "        plt.scatter(transformed_data[target == i, 0],\n",
    "                    transformed_data[target == i, 1], c=c, label=target_name)\n",
    "    plt.legend()\n",
    "    plt.show()\n",
    "    \n",
    "def write_answer_3(list_pc1, list_pc2):\n",
    "    with open(\"pca_answer3.txt\", \"w\") as fout:\n",
    "        fout.write(\" \".join([str(num) for num in list_pc1]))\n",
    "        fout.write(\" \")\n",
    "        fout.write(\" \".join([str(num) for num in list_pc2]))"
   ]
  },
  {
   "cell_type": "code",
   "execution_count": 30,
   "metadata": {},
   "outputs": [],
   "source": [
    "iris = datasets.load_iris()\n",
    "data = iris.data\n",
    "target = iris.target\n",
    "target_names = iris.target_names"
   ]
  },
  {
   "cell_type": "code",
   "execution_count": 31,
   "metadata": {},
   "outputs": [],
   "source": [
    "data_0mean = data - data.mean(0)"
   ]
  },
  {
   "cell_type": "code",
   "execution_count": 32,
   "metadata": {},
   "outputs": [],
   "source": [
    "model = PCA(n_components=2)"
   ]
  },
  {
   "cell_type": "code",
   "execution_count": 33,
   "metadata": {},
   "outputs": [
    {
     "data": {
      "text/plain": [
       "PCA(copy=True, iterated_power='auto', n_components=2, random_state=None,\n",
       "  svd_solver='auto', tol=0.0, whiten=False)"
      ]
     },
     "execution_count": 33,
     "metadata": {},
     "output_type": "execute_result"
    }
   ],
   "source": [
    "model.fit(data_0mean)"
   ]
  },
  {
   "cell_type": "code",
   "execution_count": 34,
   "metadata": {},
   "outputs": [],
   "source": [
    "data_transform = model.transform(data_0mean)"
   ]
  },
  {
   "cell_type": "code",
   "execution_count": 35,
   "metadata": {},
   "outputs": [
    {
     "data": {
      "text/plain": [
       "array([[-2.68412563,  0.31939725],\n",
       "       [-2.71414169, -0.17700123],\n",
       "       [-2.88899057, -0.14494943],\n",
       "       [-2.74534286, -0.31829898],\n",
       "       [-2.72871654,  0.32675451],\n",
       "       [-2.28085963,  0.74133045],\n",
       "       [-2.82053775, -0.08946138],\n",
       "       [-2.62614497,  0.16338496],\n",
       "       [-2.88638273, -0.57831175],\n",
       "       [-2.6727558 , -0.11377425],\n",
       "       [-2.50694709,  0.6450689 ],\n",
       "       [-2.61275523,  0.01472994],\n",
       "       [-2.78610927, -0.235112  ],\n",
       "       [-3.22380374, -0.51139459],\n",
       "       [-2.64475039,  1.17876464],\n",
       "       [-2.38603903,  1.33806233],\n",
       "       [-2.62352788,  0.81067951],\n",
       "       [-2.64829671,  0.31184914],\n",
       "       [-2.19982032,  0.87283904],\n",
       "       [-2.5879864 ,  0.51356031],\n",
       "       [-2.31025622,  0.39134594],\n",
       "       [-2.54370523,  0.43299606],\n",
       "       [-3.21593942,  0.13346807],\n",
       "       [-2.30273318,  0.09870885],\n",
       "       [-2.35575405, -0.03728186],\n",
       "       [-2.50666891, -0.14601688],\n",
       "       [-2.46882007,  0.13095149],\n",
       "       [-2.56231991,  0.36771886],\n",
       "       [-2.63953472,  0.31203998],\n",
       "       [-2.63198939, -0.19696122],\n",
       "       [-2.58739848, -0.20431849],\n",
       "       [-2.4099325 ,  0.41092426],\n",
       "       [-2.64886233,  0.81336382],\n",
       "       [-2.59873675,  1.09314576],\n",
       "       [-2.63692688, -0.12132235],\n",
       "       [-2.86624165,  0.06936447],\n",
       "       [-2.62523805,  0.59937002],\n",
       "       [-2.80068412,  0.26864374],\n",
       "       [-2.98050204, -0.48795834],\n",
       "       [-2.59000631,  0.22904384],\n",
       "       [-2.77010243,  0.26352753],\n",
       "       [-2.84936871, -0.94096057],\n",
       "       [-2.99740655, -0.34192606],\n",
       "       [-2.40561449,  0.18887143],\n",
       "       [-2.20948924,  0.43666314],\n",
       "       [-2.71445143, -0.2502082 ],\n",
       "       [-2.53814826,  0.50377114],\n",
       "       [-2.83946217, -0.22794557],\n",
       "       [-2.54308575,  0.57941002],\n",
       "       [-2.70335978,  0.10770608],\n",
       "       [ 1.28482569,  0.68516047],\n",
       "       [ 0.93248853,  0.31833364],\n",
       "       [ 1.46430232,  0.50426282],\n",
       "       [ 0.18331772, -0.82795901],\n",
       "       [ 1.08810326,  0.07459068],\n",
       "       [ 0.64166908, -0.41824687],\n",
       "       [ 1.09506066,  0.28346827],\n",
       "       [-0.74912267, -1.00489096],\n",
       "       [ 1.04413183,  0.2283619 ],\n",
       "       [-0.0087454 , -0.72308191],\n",
       "       [-0.50784088, -1.26597119],\n",
       "       [ 0.51169856, -0.10398124],\n",
       "       [ 0.26497651, -0.55003646],\n",
       "       [ 0.98493451, -0.12481785],\n",
       "       [-0.17392537, -0.25485421],\n",
       "       [ 0.92786078,  0.46717949],\n",
       "       [ 0.66028376, -0.35296967],\n",
       "       [ 0.23610499, -0.33361077],\n",
       "       [ 0.94473373, -0.54314555],\n",
       "       [ 0.04522698, -0.58383438],\n",
       "       [ 1.11628318, -0.08461685],\n",
       "       [ 0.35788842, -0.06892503],\n",
       "       [ 1.29818388, -0.32778731],\n",
       "       [ 0.92172892, -0.18273779],\n",
       "       [ 0.71485333,  0.14905594],\n",
       "       [ 0.90017437,  0.32850447],\n",
       "       [ 1.33202444,  0.24444088],\n",
       "       [ 1.55780216,  0.26749545],\n",
       "       [ 0.81329065, -0.1633503 ],\n",
       "       [-0.30558378, -0.36826219],\n",
       "       [-0.06812649, -0.70517213],\n",
       "       [-0.18962247, -0.68028676],\n",
       "       [ 0.13642871, -0.31403244],\n",
       "       [ 1.38002644, -0.42095429],\n",
       "       [ 0.58800644, -0.48428742],\n",
       "       [ 0.80685831,  0.19418231],\n",
       "       [ 1.22069088,  0.40761959],\n",
       "       [ 0.81509524, -0.37203706],\n",
       "       [ 0.24595768, -0.2685244 ],\n",
       "       [ 0.16641322, -0.68192672],\n",
       "       [ 0.46480029, -0.67071154],\n",
       "       [ 0.8908152 , -0.03446444],\n",
       "       [ 0.23054802, -0.40438585],\n",
       "       [-0.70453176, -1.01224823],\n",
       "       [ 0.35698149, -0.50491009],\n",
       "       [ 0.33193448, -0.21265468],\n",
       "       [ 0.37621565, -0.29321893],\n",
       "       [ 0.64257601,  0.01773819],\n",
       "       [-0.90646986, -0.75609337],\n",
       "       [ 0.29900084, -0.34889781],\n",
       "       [ 2.53119273, -0.00984911],\n",
       "       [ 1.41523588, -0.57491635],\n",
       "       [ 2.61667602,  0.34390315],\n",
       "       [ 1.97153105, -0.1797279 ],\n",
       "       [ 2.35000592, -0.04026095],\n",
       "       [ 3.39703874,  0.55083667],\n",
       "       [ 0.52123224, -1.19275873],\n",
       "       [ 2.93258707,  0.3555    ],\n",
       "       [ 2.32122882, -0.2438315 ],\n",
       "       [ 2.91675097,  0.78279195],\n",
       "       [ 1.66177415,  0.24222841],\n",
       "       [ 1.80340195, -0.21563762],\n",
       "       [ 2.1655918 ,  0.21627559],\n",
       "       [ 1.34616358, -0.77681835],\n",
       "       [ 1.58592822, -0.53964071],\n",
       "       [ 1.90445637,  0.11925069],\n",
       "       [ 1.94968906,  0.04194326],\n",
       "       [ 3.48705536,  1.17573933],\n",
       "       [ 3.79564542,  0.25732297],\n",
       "       [ 1.30079171, -0.76114964],\n",
       "       [ 2.42781791,  0.37819601],\n",
       "       [ 1.19900111, -0.60609153],\n",
       "       [ 3.49992004,  0.4606741 ],\n",
       "       [ 1.38876613, -0.20439933],\n",
       "       [ 2.2754305 ,  0.33499061],\n",
       "       [ 2.61409047,  0.56090136],\n",
       "       [ 1.25850816, -0.17970479],\n",
       "       [ 1.29113206, -0.11666865],\n",
       "       [ 2.12360872, -0.20972948],\n",
       "       [ 2.38800302,  0.4646398 ],\n",
       "       [ 2.84167278,  0.37526917],\n",
       "       [ 3.23067366,  1.37416509],\n",
       "       [ 2.15943764, -0.21727758],\n",
       "       [ 1.44416124, -0.14341341],\n",
       "       [ 1.78129481, -0.49990168],\n",
       "       [ 3.07649993,  0.68808568],\n",
       "       [ 2.14424331,  0.1400642 ],\n",
       "       [ 1.90509815,  0.04930053],\n",
       "       [ 1.16932634, -0.16499026],\n",
       "       [ 2.10761114,  0.37228787],\n",
       "       [ 2.31415471,  0.18365128],\n",
       "       [ 1.9222678 ,  0.40920347],\n",
       "       [ 1.41523588, -0.57491635],\n",
       "       [ 2.56301338,  0.2778626 ],\n",
       "       [ 2.41874618,  0.3047982 ],\n",
       "       [ 1.94410979,  0.1875323 ],\n",
       "       [ 1.52716661, -0.37531698],\n",
       "       [ 1.76434572,  0.07885885],\n",
       "       [ 1.90094161,  0.11662796],\n",
       "       [ 1.39018886, -0.28266094]])"
      ]
     },
     "execution_count": 35,
     "metadata": {},
     "output_type": "execute_result"
    }
   ],
   "source": [
    "data_transform"
   ]
  },
  {
   "cell_type": "code",
   "execution_count": 36,
   "metadata": {},
   "outputs": [],
   "source": [
    "data_transform_0mean = data_transform - data_transform.mean(0)"
   ]
  },
  {
   "cell_type": "code",
   "execution_count": 37,
   "metadata": {},
   "outputs": [],
   "source": [
    "from scipy.stats.stats import pearsonr"
   ]
  },
  {
   "cell_type": "code",
   "execution_count": 38,
   "metadata": {},
   "outputs": [],
   "source": [
    "corrs = np.zeros((data.shape[1], data_transform.shape[1]))"
   ]
  },
  {
   "cell_type": "code",
   "execution_count": 39,
   "metadata": {},
   "outputs": [],
   "source": [
    "for i in range(corrs.shape[0]):\n",
    "    for j in range(corrs.shape[1]):\n",
    "        corrs[i][j] = pearsonr(data_0mean[:, i], data_transform_0mean[:, j])[0]"
   ]
  },
  {
   "cell_type": "code",
   "execution_count": 40,
   "metadata": {},
   "outputs": [],
   "source": [
    "res = np.argmax(np.abs(corrs), axis=1)"
   ]
  },
  {
   "cell_type": "code",
   "execution_count": 41,
   "metadata": {},
   "outputs": [
    {
     "data": {
      "text/plain": [
       "array([0, 1, 0, 0], dtype=int64)"
      ]
     },
     "execution_count": 41,
     "metadata": {},
     "output_type": "execute_result"
    }
   ],
   "source": [
    "res"
   ]
  },
  {
   "cell_type": "code",
   "execution_count": 42,
   "metadata": {},
   "outputs": [
    {
     "data": {
      "image/png": "[encoded data removed]",
      "text/plain": [
       "<Figure size 432x288 with 1 Axes>"
      ]
     },
     "metadata": {
      "needs_background": "light"
     },
     "output_type": "display_data"
    }
   ],
   "source": [
    "plot_iris(data_transform, target, target_names)"
   ]
  },
  {
   "cell_type": "code",
   "execution_count": 43,
   "metadata": {},
   "outputs": [
    {
     "data": {
      "text/plain": [
       "array([[ 0.89740176,  0.39060441],\n",
       "       [-0.39874847,  0.82522871],\n",
       "       [ 0.99787394, -0.0483806 ],\n",
       "       [ 0.96654752, -0.0487816 ]])"
      ]
     },
     "execution_count": 43,
     "metadata": {},
     "output_type": "execute_result"
    }
   ],
   "source": [
    "corrs"
   ]
  },
  {
   "cell_type": "code",
   "execution_count": 44,
   "metadata": {},
   "outputs": [],
   "source": [
    "list_pc1, list_pc2 = [], []\n",
    "for i in range(corrs.shape[0]):\n",
    "    if np.argmax(np.abs(corrs[i])) == 0:\n",
    "        list_pc1.append(i+1)\n",
    "    else:\n",
    "        list_pc2.append(i+1)"
   ]
  },
  {
   "cell_type": "code",
   "execution_count": 45,
   "metadata": {},
   "outputs": [],
   "source": [
    "write_answer_3(list_pc1, list_pc2)"
   ]
  },
  {
   "cell_type": "markdown",
   "metadata": {},
   "source": [
    "## Интерпретация главных компонент с использованием данных\n",
    "\n",
    "Рассмотрим теперь величину, которую можно проинтерпретировать, как квадрат косинуса угла между объектом выборки и главной компонентой:\n",
    "\n",
    "$$ cos^2_{ik} = \\frac{f_{ik}^2}{\\sum_{\\ell=1}^d f_{i\\ell}^2} $$\n",
    "\n",
    "где\n",
    "- i -- номер объекта\n",
    "- k -- номер главной компоненты\n",
    "- $f_{ik}$ -- модуль центрированной проекции объекта на компоненту\n",
    "\n",
    "Очевидно, что\n",
    "\n",
    "$$ \\sum_{k=1}^d cos^2_{ik} = 1 $$\n",
    "\n",
    "Это значит, что для каждого объекта мы в виде данной величины получили веса, пропорциональные вкладу, которую вносит данный объект в дисперсию каждой компоненты. Чем больше вклад, тем более значим объект для описания конкретной главной компоненты."
   ]
  },
  {
   "cell_type": "markdown",
   "metadata": {},
   "source": [
    "## Задание 4. Анализ главных компонент при помощи вкладов в их дисперсию отдельных объектов\n",
    "\n",
    "1. Загрузите датасет лиц Olivetti Faces и обучите на нём модель RandomizedPCA (используется при большом количестве признаков и работает быстрее, чем обычный PCA). Получите проекции признаков на 10 первых главных компонент.\n",
    "2. Посчитайте для каждого объекта его относительный вклад в дисперсию каждой из 10 компонент, используя формулу из предыдущего раздела (d = 10).\n",
    "3. Для каждой компоненты найдите и визуализируйте лицо, которое вносит наибольший относительный вклад в неё. Для визуализации используйте функцию\n",
    "\n",
    "        plt.imshow(image.reshape(image_shape))\n",
    "        \n",
    "4. Передайте в функцию write_answer_4 список номеров лиц с наибольшим относительным вкладом в дисперсию каждой из компонент, список начинается с 0."
   ]
  },
  {
   "cell_type": "code",
   "execution_count": 54,
   "metadata": {
    "scrolled": true
   },
   "outputs": [],
   "source": [
    "from sklearn.datasets import fetch_olivetti_faces\n",
    "from sklearn.decomposition import PCA\n",
    "\n",
    "def write_answer_4(list_pc):\n",
    "    with open(\"pca_answer4.txt\", \"w\") as fout:\n",
    "        fout.write(\" \".join([str(num) for num in list_pc]))\n",
    "\n",
    "data = fetch_olivetti_faces(shuffle=True, random_state=0).data\n",
    "image_shape = (64, 64)"
   ]
  },
  {
   "cell_type": "code",
   "execution_count": 55,
   "metadata": {},
   "outputs": [],
   "source": [
    "model = PCA(n_components=10, svd_solver='randomized')"
   ]
  },
  {
   "cell_type": "code",
   "execution_count": 56,
   "metadata": {},
   "outputs": [],
   "source": [
    "data_transformed = model.fit_transform(data)"
   ]
  },
  {
   "cell_type": "code",
   "execution_count": 57,
   "metadata": {},
   "outputs": [],
   "source": [
    "def cosine_metric(x, i):\n",
    "    return x[i]**2 / np.sum(x**2)"
   ]
  },
  {
   "cell_type": "code",
   "execution_count": 59,
   "metadata": {},
   "outputs": [
    {
     "name": "stdout",
     "output_type": "stream",
     "text": [
      "[197  18  66 319 363 131 142 382 353 140]\n"
     ]
    }
   ],
   "source": [
    "cos_matrix = []\n",
    "for i, item in enumerate(data_transformed):\n",
    "    cos_matrix_obj = []\n",
    "    for j in np.arange(len(item)):\n",
    "        cos_matrix_obj.append(cosine_metric(item, j))\n",
    "    cos_matrix.append(cos_matrix_obj)\n",
    "\n",
    "list_pc = np.argmax(cos_matrix, axis=0)\n",
    "print(list_pc)\n",
    "write_answer_4(list_pc)"
   ]
  },
  {
   "cell_type": "markdown",
   "metadata": {},
   "source": [
    "## Анализ основных недостатков метода главных компонент\n",
    "\n",
    "Рассмотренные выше задачи являются, безусловно, модельными, потому что данные для них были сгенерированы в соответствии с предположениями метода главных компонент. На практике эти предположения, естественно, выполняются далеко не всегда. Рассмотрим типичные ошибки PCA, которые следует иметь в виду перед тем, как его применять."
   ]
  },
  {
   "cell_type": "markdown",
   "metadata": {},
   "source": [
    "### Направления с максимальной дисперсией в данных неортогональны\n",
    "\n",
    "Рассмотрим случай выборки, которая сгенерирована из двух вытянутых нормальных распределений:"
   ]
  },
  {
   "cell_type": "code",
   "execution_count": 60,
   "metadata": {},
   "outputs": [
    {
     "name": "stderr",
     "output_type": "stream",
     "text": [
      "C:\\Users\\shabalina.aa\\AppData\\Local\\Continuum\\anaconda3\\lib\\site-packages\\ipykernel_launcher.py:7: RuntimeWarning: covariance is not positive-semidefinite.\n",
      "  import sys\n"
     ]
    },
    {
     "data": {
      "image/png": "[encoded data removed]",
      "text/plain": [
       "<Figure size 432x288 with 1 Axes>"
      ]
     },
     "metadata": {
      "needs_background": "light"
     },
     "output_type": "display_data"
    }
   ],
   "source": [
    "C1 = np.array([[10,0],[0,0.5]])\n",
    "phi = np.pi/3\n",
    "C2 = np.dot(C1, np.array([[np.cos(phi), np.sin(phi)],\n",
    "                          [-np.sin(phi),np.cos(phi)]]))\n",
    "\n",
    "data = np.vstack([np.random.multivariate_normal(mu, C1, size=50),\n",
    "                  np.random.multivariate_normal(mu, C2, size=50)])\n",
    "plt.scatter(data[:,0], data[:,1])\n",
    "# построим истинные интересующие нас компоненты\n",
    "plt.plot(data[:,0], np.zeros(data[:,0].size), color=\"g\")\n",
    "plt.plot(data[:,0], 3**0.5*data[:,0], color=\"g\")\n",
    "# обучим модель pca и построим главные компоненты\n",
    "model = PCA(n_components=2)\n",
    "model.fit(data)\n",
    "plot_principal_components(data, model, scatter=False, legend=False)\n",
    "c_patch = mpatches.Patch(color='c', label='Principal components')\n",
    "plt.legend(handles=[g_patch, c_patch])\n",
    "plt.draw()"
   ]
  },
  {
   "cell_type": "markdown",
   "metadata": {},
   "source": [
    "В чём проблема, почему pca здесь работает плохо? Ответ прост: интересующие нас компоненты в данных коррелированны между собой (или неортогональны, в зависимости от того, какой терминологией пользоваться). Для поиска подобных преобразований требуются более сложные методы, которые уже выходят за рамки метода главных компонент.\n",
    "\n",
    "Для интересующихся: то, что можно применить непосредственно к выходу метода главных компонент, для получения подобных неортогональных преобразований, называется методами ротации. Почитать о них можно в связи с другим методом уменьшения размерности, который называется Factor Analysis (FA), но ничего не мешает их применять и к главным компонентам."
   ]
  },
  {
   "cell_type": "markdown",
   "metadata": {},
   "source": [
    "### Интересное направление в данных не совпадает с направлением максимальной дисперсии\n",
    "\n",
    "Рассмотрим пример, когда дисперсии не отражают интересующих нас направлений в данных:"
   ]
  },
  {
   "cell_type": "code",
   "execution_count": 48,
   "metadata": {},
   "outputs": [
    {
     "data": {
      "image/png": "[encoded data removed]",
      "text/plain": [
       "<Figure size 432x288 with 1 Axes>"
      ]
     },
     "metadata": {
      "needs_background": "light"
     },
     "output_type": "display_data"
    }
   ],
   "source": [
    "C = np.array([[0.5,0],[0,10]])\n",
    "mu1 = np.array([-2,0])\n",
    "mu2 = np.array([2,0])\n",
    "\n",
    "data = np.vstack([np.random.multivariate_normal(mu1, C, size=50),\n",
    "                  np.random.multivariate_normal(mu2, C, size=50)])\n",
    "plt.scatter(data[:,0], data[:,1])\n",
    "# обучим модель pca и построим главные компоненты\n",
    "model = PCA(n_components=2)\n",
    "model.fit(data)\n",
    "plot_principal_components(data, model)\n",
    "plt.draw()"
   ]
  },
  {
   "cell_type": "markdown",
   "metadata": {},
   "source": [
    "Очевидно, что в данном случае метод главных компонент будет считать вертикальную компоненту более значимой для описания набора данных, чем горизонтальную. \n",
    "\n",
    "Но, например, в случае, когда данные из левого и правого кластера относятся к разным классам, для их линейной разделимости вертикальная компонента является шумовой. Несмотря на это, её метод главных компонент никогда шумовой не признает, и есть вероятность, что отбор признаков с его помощью выкинет из ваших данных значимые для решаемой вами задачи компоненты просто потому, что вдоль них значения имеют низкую дисперсию.\n",
    "\n",
    "Справляться с такими ситуациями могут некоторые другие методы уменьшения размерности данных, например, метод независимых компонент (Independent Component Analysis, ICA)."
   ]
  }
 ],
 "metadata": {
  "kernelspec": {
   "display_name": "Python 3",
   "language": "python",
   "name": "python3"
  },
  "language_info": {
   "codemirror_mode": {
    "name": "ipython",
    "version": 3
   },
   "file_extension": ".py",
   "mimetype": "text/x-python",
   "name": "python",
   "nbconvert_exporter": "python",
   "pygments_lexer": "ipython3",
   "version": "3.7.9"
  }
 },
 "nbformat": 4,
 "nbformat_minor": 1
}
