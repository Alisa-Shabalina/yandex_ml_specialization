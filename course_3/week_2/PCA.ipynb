{
 "cells": [
  {
   "cell_type": "markdown",
   "metadata": {},
   "source": [
    "**Корректность проверена на Python 3.6:**\n",
    "+ pandas 0.23.4\n",
    "+ numpy 1.15.4\n",
    "+ matplotlib 3.0.2\n",
    "+ sklearn 0.20.2"
   ]
  },
  {
   "cell_type": "markdown",
   "metadata": {},
   "source": [
    "# Метод главных компонент\n",
    "\n",
    "В данном задании вам будет предложено ознакомиться с подходом, который переоткрывался в самых разных областях, имеет множество разных интерпретаций, а также несколько интересных обобщений: методом главных компонент (principal component analysis)."
   ]
  },
  {
   "cell_type": "markdown",
   "metadata": {},
   "source": [
    "## Programming assignment\n",
    "\n",
    "Задание разбито на две части: \n",
    "- работа с модельными данными,\n",
    "- работа с реальными данными.\n",
    "\n",
    "В конце каждого пункта от вас требуется получить ответ и загрузить в соответствующую форму в виде набора текстовых файлов."
   ]
  },
  {
   "cell_type": "code",
   "execution_count": 1,
   "metadata": {},
   "outputs": [],
   "source": [
    "import numpy as np\n",
    "import pandas as pd\n",
    "import matplotlib\n",
    "from matplotlib import pyplot as plt\n",
    "import matplotlib.patches as mpatches\n",
    "matplotlib.style.use('ggplot')\n",
    "%matplotlib inline"
   ]
  },
  {
   "cell_type": "markdown",
   "metadata": {},
   "source": [
    "## Теория\n",
    "\n",
    "Любой набор данных представляет собой матрицу $X$.\n",
    "\n",
    "Метод главных компонент последовательно находит следующие линейные комбинации признаков (компоненты) из $X$:\n",
    "- каждая компонента ортогональна всем остальным и нормированна: $<w_i, w_j> = 0, \\quad ||w_i||=1$,\n",
    "- каждая компонента описывает максимально возможную дисперсию данных (с учётом предыдущего ограничения).\n",
    "\n",
    "Предположения, в рамках которых данный подход будет работать хорошо:\n",
    "- линейность компонент: мы предполагаем, что данные можно анализировать линейными методами,\n",
    "- большие дисперсии важны: предполагается, что наиболее важны те направления в данных, вдоль которых они имеют наибольшую дисперсию,\n",
    "- все компоненты ортогональны: это предположение позволяет проводить анализ главных компонент при помощи техник линейной алгебры (например, сингулярное разложение матрицы $X$ или спектральное разложение матрицы $X^TX$).\n",
    "\n",
    "Как это выглядит математически?\n",
    "\n",
    "Обозначим следующим образом выборочную матрицу ковариации данных: $\\hat{C} \\propto Q = X^TX$. ($Q$ отличается от $\\hat{C}$ нормировкой на число объектов).\n",
    "\n",
    "Сингулярное разложение матрицы $Q$ выглядит следующим образом:\n",
    "\n",
    "$$Q = X^TX = W \\Lambda W^T$$\n",
    "\n",
    "Можно строго показать, что столбцы матрицы $W$ являются главными компонентами матрицы $X$, т.е. комбинациями признаков, удовлетворяющих двум условиям, указанным в начале. При этом дисперсия данных вдоль направления, заданного каждой компонентой, равна соответствующему значению диагональной матрицы $\\Lambda$.\n",
    "\n",
    "Как же на основании этого преобразования производить уменьшение размерности? Мы можем отранжировать компоненты, используя значения дисперсий данных вдоль них.\n",
    "\n",
    "Сделаем это: $\\lambda_{(1)} > \\lambda_{(2)} > \\dots > \\lambda_{(D)}$.\n",
    "\n",
    "Тогда, если мы выберем компоненты, соответствующие первым $d$ дисперсиям из этого списка, мы получим набор из $d$ новых признаков, которые наилучшим образом описывают дисперсию изначального набора данных среди всех других возможных линейных комбинаций исходных признаков матрицы $X$. \n",
    "- Если $d=D$, то мы вообще не теряем никакой информации.\n",
    "- Если $d<D$, то мы теряем информацию, которая, при справедливости указанных выше предположений, будет пропорциональна сумме дисперсий отброшенных компонент.\n",
    "\n",
    "Получается, что метод главных компонент позволяет нам ранжировать полученные компоненты по \"значимости\", а также запустить процесс их отбора."
   ]
  },
  {
   "cell_type": "markdown",
   "metadata": {},
   "source": [
    "## Пример\n",
    "\n",
    "Рассмотрим набор данных, который сэмплирован из многомерного нормального распределения с матрицей ковариации $C = \\begin{pmatrix} 3 & 1 \\\\ 1 & 2 \\end{pmatrix}$."
   ]
  },
  {
   "cell_type": "code",
   "execution_count": 2,
   "metadata": {},
   "outputs": [
    {
     "data": {
      "image/png": "[encoded data removed]",
      "text/plain": [
       "<Figure size 432x288 with 1 Axes>"
      ]
     },
     "metadata": {
      "needs_background": "light"
     },
     "output_type": "display_data"
    }
   ],
   "source": [
    "from sklearn.decomposition import PCA\n",
    "\n",
    "mu = np.zeros(2)\n",
    "C = np.array([[3,1],[1,2]])\n",
    "\n",
    "data = np.random.multivariate_normal(mu, C, size=50)\n",
    "plt.scatter(data[:,0], data[:,1])\n",
    "plt.show()"
   ]
  },
  {
   "cell_type": "markdown",
   "metadata": {},
   "source": [
    "Путём диагонализации истинной матрицы ковариаций $C$, мы можем найти преобразование исходного набора данных, компоненты которого наилучшим образом будут описывать дисперсию, с учётом их ортогональности друг другу:"
   ]
  },
  {
   "cell_type": "code",
   "execution_count": 3,
   "metadata": {},
   "outputs": [
    {
     "name": "stdout",
     "output_type": "stream",
     "text": [
      "[3.61803399 1.38196601] [[ 0.85065081 -0.52573111]\n",
      " [ 0.52573111  0.85065081]]\n"
     ]
    },
    {
     "data": {
      "image/png": "[encoded data removed]",
      "text/plain": [
       "<Figure size 432x288 with 1 Axes>"
      ]
     },
     "metadata": {
      "needs_background": "light"
     },
     "output_type": "display_data"
    }
   ],
   "source": [
    "v, W_true = np.linalg.eig(C)\n",
    "print(v, W_true)\n",
    "plt.scatter(data[:,0], data[:,1])\n",
    "# построим истинные компоненты, вдоль которых максимальна дисперсия данных\n",
    "plt.plot(data[:,0], (W_true[0,0]/W_true[0,1])*data[:,0], color=\"g\")\n",
    "plt.plot(data[:,0], (W_true[1,0]/W_true[1,1])*data[:,0], color=\"g\")\n",
    "g_patch = mpatches.Patch(color='g', label='True components')\n",
    "plt.legend(handles=[g_patch])\n",
    "plt.axis('equal')\n",
    "limits = [np.minimum(np.amin(data[:,0]), np.amin(data[:,1])),\n",
    "          np.maximum(np.amax(data[:,0]), np.amax(data[:,1]))]\n",
    "plt.xlim(limits[0],limits[1])\n",
    "plt.ylim(limits[0],limits[1])\n",
    "plt.draw()"
   ]
  },
  {
   "cell_type": "markdown",
   "metadata": {},
   "source": [
    "А теперь сравним эти направления с направлениями, которые выбирает метод главных компонент:"
   ]
  },
  {
   "cell_type": "code",
   "execution_count": 4,
   "metadata": {},
   "outputs": [],
   "source": [
    "def plot_principal_components(data, model, scatter=True, legend=True):\n",
    "    W_pca = model.components_\n",
    "    if scatter:\n",
    "        plt.scatter(data[:,0], data[:,1])\n",
    "    plt.plot(data[:,0], -(W_pca[0,0]/W_pca[0,1])*data[:,0], color=\"c\")\n",
    "    plt.plot(data[:,0], -(W_pca[1,0]/W_pca[1,1])*data[:,0], color=\"c\")\n",
    "    if legend:\n",
    "        c_patch = mpatches.Patch(color='c', label='Principal components')\n",
    "        plt.legend(handles=[c_patch], loc='lower right')\n",
    "    # сделаем графики красивыми:\n",
    "    plt.axis('equal')\n",
    "    limits = [np.minimum(np.amin(data[:,0]), np.amin(data[:,1]))-0.5,\n",
    "              np.maximum(np.amax(data[:,0]), np.amax(data[:,1]))+0.5]\n",
    "    plt.xlim(limits[0],limits[1])\n",
    "    plt.ylim(limits[0],limits[1])\n",
    "    plt.draw()"
   ]
  },
  {
   "cell_type": "code",
   "execution_count": 5,
   "metadata": {},
   "outputs": [
    {
     "data": {
      "image/png": "[encoded data removed]",
      "text/plain": [
       "<Figure size 432x288 with 1 Axes>"
      ]
     },
     "metadata": {
      "needs_background": "light"
     },
     "output_type": "display_data"
    }
   ],
   "source": [
    "model = PCA(n_components=2)\n",
    "model.fit(data)\n",
    "\n",
    "plt.scatter(data[:,0], data[:,1])\n",
    "# построим истинные компоненты, вдоль которых максимальна дисперсия данных\n",
    "plt.plot(data[:,0], (W_true[0,0]/W_true[0,1])*data[:,0], color=\"g\")\n",
    "plt.plot(data[:,0], (W_true[1,0]/W_true[1,1])*data[:,0], color=\"g\")\n",
    "# построим компоненты, полученные с использованием метода PCA:\n",
    "plot_principal_components(data, model, scatter=False, legend=False)\n",
    "c_patch = mpatches.Patch(color='c', label='Principal components')\n",
    "plt.legend(handles=[g_patch, c_patch])\n",
    "plt.draw()"
   ]
  },
  {
   "cell_type": "markdown",
   "metadata": {},
   "source": [
    "Видно, что уже при небольшом количестве данных они отличаются незначительно. Увеличим размер выборки:"
   ]
  },
  {
   "cell_type": "code",
   "execution_count": 6,
   "metadata": {},
   "outputs": [
    {
     "data": {
      "image/png": "[encoded data removed]",
      "text/plain": [
       "<Figure size 432x288 with 1 Axes>"
      ]
     },
     "metadata": {
      "needs_background": "light"
     },
     "output_type": "display_data"
    }
   ],
   "source": [
    "data_large = np.random.multivariate_normal(mu, C, size=5000)\n",
    "\n",
    "model = PCA(n_components=2)\n",
    "model.fit(data_large)\n",
    "plt.scatter(data_large[:,0], data_large[:,1], alpha=0.1)\n",
    "# построим истинные компоненты, вдоль которых максимальна дисперсия данных\n",
    "plt.plot(data_large[:,0], (W_true[0,0]/W_true[0,1])*data_large[:,0], color=\"g\")\n",
    "plt.plot(data_large[:,0], (W_true[1,0]/W_true[1,1])*data_large[:,0], color=\"g\")\n",
    "# построим компоненты, полученные с использованием метода PCA:\n",
    "plot_principal_components(data_large, model, scatter=False, legend=False)\n",
    "c_patch = mpatches.Patch(color='c', label='Principal components')\n",
    "plt.legend(handles=[g_patch, c_patch])\n",
    "plt.draw()"
   ]
  },
  {
   "cell_type": "markdown",
   "metadata": {},
   "source": [
    "В этом случае главные компоненты значительно точнее приближают истинные направления данных, вдоль которых наблюдается наибольшая дисперсия."
   ]
  },
  {
   "cell_type": "markdown",
   "metadata": {},
   "source": [
    "## Статистический взгляд на модель\n",
    "\n",
    "Как формализовать предположения метода, указанные выше? При помощи вероятностной модели!\n",
    "\n",
    "Задача, стоящая за любым методом уменьшения размерности: получить из набора зашумлённых признаков $X$ истинные значения $Y$, которые на самом деле определяют набор данных (т.е. сведение датасета с большим количеством признаков к данным, имеющим т.н. \"эффективную размерность\").\n",
    "\n",
    "В случае метода главных компонент мы хотим найти направления, вдоль которых максимальна дисперсия, с учётом описанных выше предположений о структуре данных и компонент.\n",
    "\n",
    "Материал, описанный ниже в данной секции, не обязателен для ознакомления для выполнения следующего задания, т.к. требует некоторых знаний статистики.\n",
    "\n",
    "Для тех, кто собирается его пропустить: в конце раздела мы получим метрику качества, которая должна определять, насколько данные хорошо описываются построенной моделью при заданном числе компонент. Отбор признаков при этом сводится к тому, что мы выбираем то количество компонент, при котором используемая метрика (логарифм правдоподобия) является максимальной.\n",
    "\n",
    "С учётом предположений задача метода главных компонент выглядит следующим образом:\n",
    "\n",
    "$$ x = Wy + \\mu + \\epsilon$$\n",
    "\n",
    "где:\n",
    "- $x$ -- наблюдаемые данные\n",
    "- $W$ -- матрица главных компонент (каждый стобец -- одна компонента)\n",
    "- $y$ -- их проекция на главные компоненты\n",
    "- $\\mu$ -- среднее наблюдаемых данных\n",
    "- $\\epsilon \\sim \\mathcal{N}(0, \\sigma^2I)$ -- нормальный шум\n",
    "\n",
    "Исходя из распределения шума, выпишем распределение на $x$:\n",
    "\n",
    "$$p(x \\mid y) = \\mathcal{N}(Wx + \\mu, \\sigma^2I) $$\n",
    "\n",
    "Введём априорное распределение на $y$:\n",
    "\n",
    "$$p(y) = \\mathcal{N}(0, 1)$$\n",
    "\n",
    "Выведем из этого при помощи формулы Байеса маргинальное распределение на $p(x)$:\n",
    "\n",
    "$$p(x) = \\mathcal{N}(\\mu, \\sigma^2I + WW^T)$$\n",
    "\n",
    "Тогда правдоподобие набора данных при условии используемой модели выглядит следующим образом:\n",
    "\n",
    "$$\\mathcal{L} = \\sum_{i=1}^N \\log p(x_i) = -N/2 \\Big( d\\log(2\\pi) + \\log |C| + \\text{tr}(C^{-1}S) \\Big)$$\n",
    "\n",
    "где:\n",
    "- $C = \\sigma^2I + WW^T$ -- матрица ковариации в маргинальной модели\n",
    "- $S = \\frac{1}{N} \\sum_{i=1}^N (x_i - \\mu)(x_i - \\mu)^T$ -- выборочная ковариация\n",
    "\n",
    "Значение $\\mathcal{L}$ имеет смысл логарифма вероятности получения набора данных $X$ при условии, что он удовлетворяет предположениям модели метода главных компонент. Чем оно больше -- тем лучше модель описывает наблюдаемые данные."
   ]
  },
  {
   "cell_type": "markdown",
   "metadata": {},
   "source": [
    "## Задание 1. Автоматическое уменьшение размерности данных при помощи логарифма правдоподобия $\\mathcal{L}$\n",
    "\n",
    "Рассмотрим набор данных размерности $D$, чья реальная размерность значительно меньше наблюдаемой (назовём её $d$). От вас требуется:\n",
    "\n",
    "1. Для каждого значения $\\hat{d}$ в интервале [1,D] построить модель PCA с $\\hat{d}$ главными компонентами.\n",
    "2. Оценить средний логарифм правдоподобия данных для каждой модели на генеральной совокупности, используя метод кросс-валидации с 3 фолдами (итоговая оценка значения логарифма правдоподобия усредняется по всем фолдам).\n",
    "3. Найти модель, для которой он максимален, и внести в файл ответа число компонент в данной модели, т.е. значение $\\hat{d}_{opt}$.\n",
    "\n",
    "Для оценки логарифма правдоподобия модели для заданного числа главных компонент при помощи метода кросс-валидации используйте следующие функции:\n",
    "\n",
    "    model = PCA(n_components=n)\n",
    "    scores = cv_score(model, data)\n",
    "        \n",
    "Обратите внимание, что scores -- это вектор, длина которого равна числу фолдов. Для получения оценки на правдоподобие модели его значения требуется усреднить.\n",
    "\n",
    "Для визуализации оценок можете использовать следующую функцию:\n",
    "\n",
    "    plot_scores(d_scores)\n",
    "    \n",
    "которой на вход передаётся вектор полученных оценок логарифма правдоподобия данных для каждого $\\hat{d}$.\n",
    "\n",
    "Для интересующихся: данные для заданий 1 и 2 были сгенерированны в соответствии с предполагаемой PCA моделью. То есть: данные $Y$ с эффективной размерностью $d$, полученные из независимых равномерных распределений, линейно траснформированны случайной матрицей $W$ в пространство размерностью $D$, после чего ко всем признакам был добавлен независимый нормальный шум с дисперсией $\\sigma$."
   ]
  },
  {
   "cell_type": "code",
   "execution_count": 7,
   "metadata": {},
   "outputs": [],
   "source": [
    "from sklearn.decomposition import PCA\n",
    "from sklearn.model_selection import cross_val_score as cv_score\n",
    "\n",
    "def plot_scores(d_scores):\n",
    "    n_components = np.arange(1,d_scores.size+1)\n",
    "    plt.plot(n_components, d_scores, 'b', label='PCA scores')\n",
    "    plt.xlim(n_components[0], n_components[-1])\n",
    "    plt.xlabel('n components')\n",
    "    plt.ylabel('cv scores')\n",
    "    plt.legend(loc='lower right')\n",
    "    plt.show()\n",
    "    \n",
    "def write_answer_1(optimal_d):\n",
    "    with open(\"pca_answer1.txt\", \"w\") as fout:\n",
    "        fout.write(str(optimal_d))"
   ]
  },
  {
   "cell_type": "code",
   "execution_count": 8,
   "metadata": {},
   "outputs": [],
   "source": [
    "data = pd.read_csv('data_task1.csv')"
   ]
  },
  {
   "cell_type": "code",
   "execution_count": 9,
   "metadata": {},
   "outputs": [
    {
     "data": {
      "text/html": [
       "<div>\n",
       "<style scoped>\n",
       "    .dataframe tbody tr th:only-of-type {\n",
       "        vertical-align: middle;\n",
       "    }\n",
       "\n",
       "    .dataframe tbody tr th {\n",
       "        vertical-align: top;\n",
       "    }\n",
       "\n",
       "    .dataframe thead th {\n",
       "        text-align: right;\n",
       "    }\n",
       "</style>\n",
       "<table border=\"1\" class=\"dataframe\">\n",
       "  <thead>\n",
       "    <tr style=\"text-align: right;\">\n",
       "      <th></th>\n",
       "      <th>0</th>\n",
       "      <th>1</th>\n",
       "      <th>2</th>\n",
       "      <th>3</th>\n",
       "      <th>4</th>\n",
       "      <th>5</th>\n",
       "      <th>6</th>\n",
       "      <th>7</th>\n",
       "      <th>8</th>\n",
       "      <th>9</th>\n",
       "      <th>...</th>\n",
       "      <th>70</th>\n",
       "      <th>71</th>\n",
       "      <th>72</th>\n",
       "      <th>73</th>\n",
       "      <th>74</th>\n",
       "      <th>75</th>\n",
       "      <th>76</th>\n",
       "      <th>77</th>\n",
       "      <th>78</th>\n",
       "      <th>79</th>\n",
       "    </tr>\n",
       "  </thead>\n",
       "  <tbody>\n",
       "    <tr>\n",
       "      <th>0</th>\n",
       "      <td>-0.238399</td>\n",
       "      <td>-1.311330</td>\n",
       "      <td>-0.782298</td>\n",
       "      <td>-0.341821</td>\n",
       "      <td>0.469353</td>\n",
       "      <td>-0.431860</td>\n",
       "      <td>0.602948</td>\n",
       "      <td>1.220206</td>\n",
       "      <td>1.525103</td>\n",
       "      <td>-0.991354</td>\n",
       "      <td>...</td>\n",
       "      <td>-0.559927</td>\n",
       "      <td>-0.532534</td>\n",
       "      <td>-0.465923</td>\n",
       "      <td>0.874697</td>\n",
       "      <td>-0.108972</td>\n",
       "      <td>-0.080328</td>\n",
       "      <td>0.448971</td>\n",
       "      <td>2.080754</td>\n",
       "      <td>-1.535373</td>\n",
       "      <td>-0.460125</td>\n",
       "    </tr>\n",
       "    <tr>\n",
       "      <th>1</th>\n",
       "      <td>-0.223940</td>\n",
       "      <td>-1.277836</td>\n",
       "      <td>-0.202433</td>\n",
       "      <td>-0.317682</td>\n",
       "      <td>0.081900</td>\n",
       "      <td>-0.624267</td>\n",
       "      <td>-0.577119</td>\n",
       "      <td>-0.489564</td>\n",
       "      <td>0.704099</td>\n",
       "      <td>-0.511071</td>\n",
       "      <td>...</td>\n",
       "      <td>-0.055943</td>\n",
       "      <td>-2.208109</td>\n",
       "      <td>0.027813</td>\n",
       "      <td>-1.663044</td>\n",
       "      <td>0.018190</td>\n",
       "      <td>-0.432993</td>\n",
       "      <td>1.204321</td>\n",
       "      <td>0.705121</td>\n",
       "      <td>-1.106140</td>\n",
       "      <td>0.145533</td>\n",
       "    </tr>\n",
       "    <tr>\n",
       "      <th>2</th>\n",
       "      <td>-0.278740</td>\n",
       "      <td>1.342790</td>\n",
       "      <td>-0.734591</td>\n",
       "      <td>0.618881</td>\n",
       "      <td>1.365690</td>\n",
       "      <td>-1.397553</td>\n",
       "      <td>-1.446412</td>\n",
       "      <td>-0.844917</td>\n",
       "      <td>0.845916</td>\n",
       "      <td>-1.574979</td>\n",
       "      <td>...</td>\n",
       "      <td>-1.616313</td>\n",
       "      <td>2.144484</td>\n",
       "      <td>-1.110290</td>\n",
       "      <td>-0.524140</td>\n",
       "      <td>-2.176645</td>\n",
       "      <td>-1.903969</td>\n",
       "      <td>1.715735</td>\n",
       "      <td>0.054220</td>\n",
       "      <td>-1.125896</td>\n",
       "      <td>1.309994</td>\n",
       "    </tr>\n",
       "    <tr>\n",
       "      <th>3</th>\n",
       "      <td>0.585189</td>\n",
       "      <td>0.344587</td>\n",
       "      <td>1.512917</td>\n",
       "      <td>0.272105</td>\n",
       "      <td>0.480314</td>\n",
       "      <td>-0.688009</td>\n",
       "      <td>-1.473050</td>\n",
       "      <td>-0.732295</td>\n",
       "      <td>0.407361</td>\n",
       "      <td>0.900369</td>\n",
       "      <td>...</td>\n",
       "      <td>1.107443</td>\n",
       "      <td>-0.948995</td>\n",
       "      <td>0.555096</td>\n",
       "      <td>0.645465</td>\n",
       "      <td>1.291971</td>\n",
       "      <td>0.690657</td>\n",
       "      <td>-0.322088</td>\n",
       "      <td>0.341865</td>\n",
       "      <td>-1.436627</td>\n",
       "      <td>0.231027</td>\n",
       "    </tr>\n",
       "    <tr>\n",
       "      <th>4</th>\n",
       "      <td>0.992821</td>\n",
       "      <td>-0.654237</td>\n",
       "      <td>2.431634</td>\n",
       "      <td>-1.167275</td>\n",
       "      <td>0.347093</td>\n",
       "      <td>0.772373</td>\n",
       "      <td>0.766213</td>\n",
       "      <td>-0.441367</td>\n",
       "      <td>0.632604</td>\n",
       "      <td>1.543905</td>\n",
       "      <td>...</td>\n",
       "      <td>0.088682</td>\n",
       "      <td>1.357311</td>\n",
       "      <td>0.739249</td>\n",
       "      <td>-0.213874</td>\n",
       "      <td>0.521273</td>\n",
       "      <td>-0.885125</td>\n",
       "      <td>-1.262695</td>\n",
       "      <td>0.974920</td>\n",
       "      <td>1.139357</td>\n",
       "      <td>-0.104045</td>\n",
       "    </tr>\n",
       "  </tbody>\n",
       "</table>\n",
       "<p>5 rows × 80 columns</p>\n",
       "</div>"
      ],
      "text/plain": [
       "          0         1         2         3         4         5         6  \\\n",
       "0 -0.238399 -1.311330 -0.782298 -0.341821  0.469353 -0.431860  0.602948   \n",
       "1 -0.223940 -1.277836 -0.202433 -0.317682  0.081900 -0.624267 -0.577119   \n",
       "2 -0.278740  1.342790 -0.734591  0.618881  1.365690 -1.397553 -1.446412   \n",
       "3  0.585189  0.344587  1.512917  0.272105  0.480314 -0.688009 -1.473050   \n",
       "4  0.992821 -0.654237  2.431634 -1.167275  0.347093  0.772373  0.766213   \n",
       "\n",
       "          7         8         9  ...        70        71        72        73  \\\n",
       "0  1.220206  1.525103 -0.991354  ... -0.559927 -0.532534 -0.465923  0.874697   \n",
       "1 -0.489564  0.704099 -0.511071  ... -0.055943 -2.208109  0.027813 -1.663044   \n",
       "2 -0.844917  0.845916 -1.574979  ... -1.616313  2.144484 -1.110290 -0.524140   \n",
       "3 -0.732295  0.407361  0.900369  ...  1.107443 -0.948995  0.555096  0.645465   \n",
       "4 -0.441367  0.632604  1.543905  ...  0.088682  1.357311  0.739249 -0.213874   \n",
       "\n",
       "         74        75        76        77        78        79  \n",
       "0 -0.108972 -0.080328  0.448971  2.080754 -1.535373 -0.460125  \n",
       "1  0.018190 -0.432993  1.204321  0.705121 -1.106140  0.145533  \n",
       "2 -2.176645 -1.903969  1.715735  0.054220 -1.125896  1.309994  \n",
       "3  1.291971  0.690657 -0.322088  0.341865 -1.436627  0.231027  \n",
       "4  0.521273 -0.885125 -1.262695  0.974920  1.139357 -0.104045  \n",
       "\n",
       "[5 rows x 80 columns]"
      ]
     },
     "execution_count": 9,
     "metadata": {},
     "output_type": "execute_result"
    }
   ],
   "source": [
    "data.head()"
   ]
  },
  {
   "cell_type": "code",
   "execution_count": 10,
   "metadata": {},
   "outputs": [],
   "source": [
    "best_scores = np.zeros(len(data.columns))"
   ]
  },
  {
   "cell_type": "code",
   "execution_count": 11,
   "metadata": {},
   "outputs": [],
   "source": [
    "for i in range(best_scores.size):\n",
    "    model = PCA(n_components=i+1)\n",
    "    scores = cv_score(model, data)\n",
    "    best_scores[i] = scores.mean()"
   ]
  },
  {
   "cell_type": "code",
   "execution_count": 12,
   "metadata": {},
   "outputs": [
    {
     "data": {
      "image/png": "[encoded data removed]",
      "text/plain": [
       "<Figure size 432x288 with 1 Axes>"
      ]
     },
     "metadata": {
      "needs_background": "light"
     },
     "output_type": "display_data"
    }
   ],
   "source": [
    "plot_scores(best_scores)"
   ]
  },
  {
   "cell_type": "code",
   "execution_count": 13,
   "metadata": {},
   "outputs": [],
   "source": [
    "ans1 = np.argmax(best_scores)+1"
   ]
  },
  {
   "cell_type": "code",
   "execution_count": 14,
   "metadata": {},
   "outputs": [],
   "source": [
    "write_answer_1(ans1)"
   ]
  },
  {
   "cell_type": "markdown",
   "metadata": {},
   "source": [
    "## Вариационный взгляд на модель\n",
    "\n",
    "Мы знаем, что каждой главной компоненте соответствует описываемая ей дисперсия данных (дисперсия данных при проекции на эту компоненту). Она численно равна значению диагональных элементов матрицы $\\Lambda$, получаемой из спектрального разложения матрицы ковариации данных (смотри теорию выше).\n",
    "\n",
    "Исходя из этого, мы можем отсортировать дисперсию данных вдоль этих компонент по убыванию, и уменьшить размерность данных, отбросив $q$ итоговых главных компонент, имеющих наименьшую дисперсию.\n",
    "\n",
    "Делать это можно двумя разными способами. Например, если вы вдальнейшем обучаете на данных с уменьшенной размерностью модель классификации или регрессии, то можно запустить итерационный процесс: удалять компоненты с наименьшей дисперсией по одной, пока качество итоговой модели не станет значительно хуже.\n",
    "\n",
    "Более общий способ отбора признаков заключается в том, что вы можете посмотреть на разности в дисперсиях в отсортированном ряде $\\lambda_{(1)} > \\lambda_{(2)} > \\dots > \\lambda_{(D)}$: $\\lambda_{(1)}-\\lambda_{(2)}, \\dots, \\lambda_{(D-1)} - \\lambda_{(D)}$, и удалить те компоненты, на которых разность будет наибольшей. Именно этим методом вам и предлагается воспользоваться для тестового набора данных."
   ]
  },
  {
   "cell_type": "markdown",
   "metadata": {},
   "source": [
    "## Задание 2. Ручное уменьшение размерности признаков посредством анализа дисперсии данных вдоль главных компонент\n",
    "\n",
    "Рассмотрим ещё один набор данных размерности $D$, чья реальная размерность значительно меньше наблюдаемой (назовём её также $d$). От вас требуется:\n",
    "\n",
    "1. Построить модель PCA с $D$ главными компонентами по этим данным.\n",
    "2. Спроецировать данные на главные компоненты.\n",
    "3. Оценить их дисперсию вдоль главных компонент.\n",
    "4. Отсортировать дисперсии в порядке убывания и получить их попарные разности: $\\lambda_{(i-1)} - \\lambda_{(i)}$.\n",
    "5. Найти разность с наибольшим значением и получить по ней оценку на эффективную размерность данных $\\hat{d}$.\n",
    "6. Построить график дисперсий и убедиться, что полученная оценка на $\\hat{d}_{opt}$ действительно имеет смысл, после этого внести полученное значение $\\hat{d}_{opt}$ в файл ответа.\n",
    "\n",
    "Для построения модели PCA используйте функцию:\n",
    "\n",
    "    model.fit(data)\n",
    "    \n",
    "Для трансформации данных используйте метод:\n",
    "\n",
    "    model.transform(data)\n",
    "    \n",
    "Оценку дисперсий на трансформированных данных от вас потребуется реализовать вручную. Для построения графиков можно воспользоваться функцией\n",
    "\n",
    "    plot_variances(d_variances)\n",
    "    \n",
    "которой следует передать на вход отсортированный по убыванию вектор дисперсий вдоль компонент."
   ]
  },
  {
   "cell_type": "code",
   "execution_count": 15,
   "metadata": {},
   "outputs": [],
   "source": [
    "from sklearn.decomposition import PCA\n",
    "from sklearn.model_selection import cross_val_score as cv_score\n",
    "\n",
    "def plot_variances(d_variances):\n",
    "    n_components = np.arange(1,d_variances.size+1)\n",
    "    plt.plot(n_components, d_variances, 'b', label='Component variances')\n",
    "    plt.xlim(n_components[0], n_components[-1])\n",
    "    plt.xlabel('n components')\n",
    "    plt.ylabel('variance')\n",
    "    plt.legend(loc='upper right')\n",
    "    plt.show()\n",
    "    \n",
    "def write_answer_2(optimal_d):\n",
    "    with open(\"pca_answer2.txt\", \"w\") as fout:\n",
    "        fout.write(str(optimal_d))"
   ]
  },
  {
   "cell_type": "code",
   "execution_count": 16,
   "metadata": {},
   "outputs": [],
   "source": [
    "data = pd.read_csv('data_task2.csv')"
   ]
  },
  {
   "cell_type": "code",
   "execution_count": 17,
   "metadata": {},
   "outputs": [],
   "source": [
    "D = len(data.columns)"
   ]
  },
  {
   "cell_type": "code",
   "execution_count": 18,
   "metadata": {},
   "outputs": [],
   "source": [
    "model = PCA(n_components=D)"
   ]
  },
  {
   "cell_type": "code",
   "execution_count": 19,
   "metadata": {},
   "outputs": [
    {
     "data": {
      "text/plain": [
       "PCA(n_components=100)"
      ]
     },
     "execution_count": 19,
     "metadata": {},
     "output_type": "execute_result"
    }
   ],
   "source": [
    "model.fit(data)"
   ]
  },
  {
   "cell_type": "code",
   "execution_count": 36,
   "metadata": {},
   "outputs": [],
   "source": [
    "X_trasform = model.transform(data)"
   ]
  },
  {
   "cell_type": "code",
   "execution_count": 37,
   "metadata": {},
   "outputs": [
    {
     "data": {
      "text/plain": [
       "numpy.ndarray"
      ]
     },
     "execution_count": 37,
     "metadata": {},
     "output_type": "execute_result"
    }
   ],
   "source": [
    "type(X_trasform)"
   ]
  },
  {
   "cell_type": "code",
   "execution_count": 40,
   "metadata": {},
   "outputs": [],
   "source": [
    "eigen_vals = np.sqrt(model.singular_values_)\n",
    "sigmas = np.zeros(eigen_vals.size)\n",
    "for i in range(sigmas.size):\n",
    "    sigmas[i] = eigen_vals[i]/eigen_vals.sum()"
   ]
  },
  {
   "cell_type": "code",
   "execution_count": 41,
   "metadata": {},
   "outputs": [
    {
     "data": {
      "text/plain": [
       "100"
      ]
     },
     "execution_count": 41,
     "metadata": {},
     "output_type": "execute_result"
    }
   ],
   "source": [
    "model.singular_values_.size"
   ]
  },
  {
   "cell_type": "code",
   "execution_count": 42,
   "metadata": {},
   "outputs": [
    {
     "data": {
      "text/plain": [
       "100"
      ]
     },
     "execution_count": 42,
     "metadata": {},
     "output_type": "execute_result"
    }
   ],
   "source": [
    "model.explained_variance_.size"
   ]
  },
  {
   "cell_type": "code",
   "execution_count": 43,
   "metadata": {},
   "outputs": [
    {
     "data": {
      "text/plain": [
       "array([0.01890193, 0.03698866, 0.05493021, 0.07259267, 0.09001189,\n",
       "       0.10724732, 0.12443503, 0.14109071, 0.15745894, 0.17377342,\n",
       "       0.18996681, 0.20604546, 0.22199242, 0.23754812, 0.25308029,\n",
       "       0.26847249, 0.28380659, 0.29900727, 0.31412151, 0.32903739,\n",
       "       0.34376493, 0.35825828, 0.37269193, 0.38703207, 0.40119105,\n",
       "       0.41530023, 0.42891569, 0.44247687, 0.4556458 , 0.46854822,\n",
       "       0.47858195, 0.48839987, 0.49810807, 0.50772697, 0.51726155,\n",
       "       0.52671289, 0.53608319, 0.54535594, 0.55453934, 0.56360922,\n",
       "       0.57263655, 0.5815727 , 0.59038957, 0.59915346, 0.60784609,\n",
       "       0.61648344, 0.6251092 , 0.63365375, 0.64214175, 0.65056251,\n",
       "       0.65889085, 0.66714817, 0.67538505, 0.68354938, 0.69171099,\n",
       "       0.69972477, 0.70767551, 0.71554734, 0.72337345, 0.73112451,\n",
       "       0.73886203, 0.74652017, 0.75413509, 0.76171888, 0.76927208,\n",
       "       0.77673987, 0.78414091, 0.79150549, 0.79881565, 0.80608533,\n",
       "       0.81333612, 0.82051409, 0.82763646, 0.83473802, 0.84178113,\n",
       "       0.84879978, 0.85577714, 0.8626575 , 0.86947315, 0.87628302,\n",
       "       0.8829826 , 0.88964419, 0.8962633 , 0.90287329, 0.90940576,\n",
       "       0.91585609, 0.92218451, 0.92848623, 0.9347388 , 0.94095563,\n",
       "       0.94709756, 0.95319246, 0.95926731, 0.96528061, 0.97119339,\n",
       "       0.97705951, 0.98291545, 0.98872689, 0.99438594, 1.        ])"
      ]
     },
     "execution_count": 43,
     "metadata": {},
     "output_type": "execute_result"
    }
   ],
   "source": [
    "model.explained_variance_ratio_.cumsum()"
   ]
  },
  {
   "cell_type": "code",
   "execution_count": 44,
   "metadata": {},
   "outputs": [
    {
     "data": {
      "text/plain": [
       "array([0.01187977, 0.01174956, 0.01172591, 0.01168004, 0.01163962,\n",
       "       0.01160879, 0.01160075, 0.01150991, 0.01145993, 0.01145051,\n",
       "       0.0114292 , 0.01140891, 0.01138547, 0.01131498, 0.0113107 ,\n",
       "       0.01128513, 0.01127447, 0.01124986, 0.01123384, 0.01119679,\n",
       "       0.01116128, 0.01111665, 0.01110518, 0.01108715, 0.01105197,\n",
       "       0.01104223, 0.01094434, 0.01093342, 0.01085348, 0.01079815,\n",
       "       0.01014021, 0.01008524, 0.01005695, 0.01003374, 0.01001168,\n",
       "       0.00998976, 0.00996827, 0.00994223, 0.00991819, 0.0098874 ,\n",
       "       0.00987578, 0.00985075, 0.00981771, 0.00980293, 0.00978294,\n",
       "       0.00976735, 0.00976407, 0.00974101, 0.00972485, 0.00970553,\n",
       "       0.00967879, 0.00965809, 0.00965211, 0.00963079, 0.00962998,\n",
       "       0.00958608, 0.00956717, 0.00954334, 0.00952945, 0.00950653,\n",
       "       0.00950237, 0.00947791, 0.0094645 , 0.00945482, 0.00944527,\n",
       "       0.00941846, 0.00939733, 0.00938574, 0.00936835, 0.00935536,\n",
       "       0.00934927, 0.00932571, 0.0093076 , 0.00930079, 0.00928159,\n",
       "       0.00927353, 0.00925986, 0.00922751, 0.00920573, 0.00920378,\n",
       "       0.00916629, 0.00915326, 0.00913864, 0.00913549, 0.00910859,\n",
       "       0.00907981, 0.00903661, 0.00902706, 0.00900941, 0.00899651,\n",
       "       0.00896928, 0.00895206, 0.00894469, 0.00892195, 0.00888443,\n",
       "       0.00886685, 0.008863  , 0.00884611, 0.00878754, 0.00877002])"
      ]
     },
     "execution_count": 44,
     "metadata": {},
     "output_type": "execute_result"
    }
   ],
   "source": [
    "sigmas"
   ]
  },
  {
   "cell_type": "code",
   "execution_count": 23,
   "metadata": {},
   "outputs": [
    {
     "data": {
      "image/png": "[encoded data removed]",
      "text/plain": [
       "<Figure size 432x288 with 1 Axes>"
      ]
     },
     "metadata": {
      "needs_background": "light"
     },
     "output_type": "display_data"
    },
    {
     "data": {
      "image/png": "[encoded data removed]",
      "text/plain": [
       "<Figure size 432x288 with 1 Axes>"
      ]
     },
     "metadata": {
      "needs_background": "light"
     },
     "output_type": "display_data"
    }
   ],
   "source": [
    "plot_variances(sigmas)\n",
    "plot_variances(model.explained_variance_)"
   ]
  },
  {
   "cell_type": "code",
   "execution_count": 24,
   "metadata": {},
   "outputs": [],
   "source": [
    "sigmas_deltas = np.zeros(sigmas.size-1)\n",
    "for i in range(sigmas_deltas.size):\n",
    "    sigmas_deltas[i] = sigmas[i] - sigmas[i+1]"
   ]
  },
  {
   "cell_type": "code",
   "execution_count": 25,
   "metadata": {},
   "outputs": [
    {
     "ename": "TypeError",
     "evalue": "plot_variances() missing 1 required positional argument: 'd_variances'",
     "output_type": "error",
     "traceback": [
      "\u001b[1;31m---------------------------------------------------------------------------\u001b[0m",
      "\u001b[1;31mTypeError\u001b[0m                                 Traceback (most recent call last)",
      "\u001b[1;32m<ipython-input-25-2202b07c3340>\u001b[0m in \u001b[0;36m<module>\u001b[1;34m\u001b[0m\n\u001b[1;32m----> 1\u001b[1;33m \u001b[0mplot_variances\u001b[0m\u001b[1;33m(\u001b[0m\u001b[1;33m)\u001b[0m\u001b[1;33m\u001b[0m\u001b[1;33m\u001b[0m\u001b[0m\n\u001b[0m",
      "\u001b[1;31mTypeError\u001b[0m: plot_variances() missing 1 required positional argument: 'd_variances'"
     ]
    }
   ],
   "source": [
    "plot_variances()"
   ]
  },
  {
   "cell_type": "code",
   "execution_count": null,
   "metadata": {},
   "outputs": [],
   "source": [
    "d_opt = np.argmax(sigmas_deltas)+1"
   ]
  },
  {
   "cell_type": "markdown",
   "metadata": {},
   "source": [
    "## Интерпретация главных компонент\n",
    "\n",
    "В качестве главных компонент мы получаем линейные комбинации исходных призанков, поэтому резонно возникает вопрос об их интерпретации.\n",
    "\n",
    "Для этого существует несколько подходов, мы рассмотрим два:\n",
    "- рассчитать взаимосвязи главных компонент с исходными признаками\n",
    "- рассчитать вклады каждого конкретного наблюдения в главные компоненты\n",
    "\n",
    "Первый способ подходит в том случае, когда все объекты из набора данных не несут для нас никакой семантической информации, которая уже не запечатлена в наборе признаков.\n",
    "\n",
    "Второй способ подходит для случая, когда данные имеют более сложную структуру. Например, лица для человека несут больший семантический смысл, чем вектор значений пикселей, которые анализирует PCA.\n",
    "\n",
    "Рассмотрим подробнее способ 1: он заключается в подсчёте коэффициентов корреляций между исходными признаками и набором главных компонент.\n",
    "\n",
    "Так как метод главных компонент является линейным, то предлагается для анализа использовать корреляцию Пирсона, выборочный аналог которой имеет следующую формулу:\n",
    "\n",
    "$$r_{jk} = \\frac{\\sum_{i=1}^N (x_{ij} - \\bar{x}_j) (y_{ik} - \\bar{y}_k)}{\\sqrt{\\sum_{i=1}^N (x_{ij} - \\bar{x}_j)^2 \\sum_{i=1}^N (y_{ik} - \\bar{y}_k)^2}} $$\n",
    "\n",
    "где:\n",
    "- $\\bar{x}_j$ -- среднее значение j-го признака,\n",
    "- $\\bar{y}_k$ -- среднее значение проекции на k-ю главную компоненту.\n",
    "\n",
    "Корреляция Пирсона является мерой линейной зависимости. Она равна 0 в случае, когда величины независимы, и $\\pm 1$, если они линейно зависимы. Исходя из степени корреляции новой компоненты с исходными признаками, можно строить её семантическую интерпретацию, т.к. смысл исходных признаков мы знаем."
   ]
  },
  {
   "cell_type": "markdown",
   "metadata": {},
   "source": [
    "## Задание 3. Анализ главных компонент при помощи корреляций с исходными признаками.\n",
    "\n",
    "1. Обучите метод главных компонент на датасете iris, получите преобразованные данные.\n",
    "2. Посчитайте корреляции исходных признаков с их проекциями на первые две главные компоненты.\n",
    "3. Для каждого признака найдите компоненту (из двух построенных), с которой он коррелирует больше всего.\n",
    "4. На основании п.3 сгруппируйте признаки по компонентам. Составьте два списка: список номеров признаков, которые сильнее коррелируют с первой компонентой, и такой же список для второй. Нумерацию начинать с единицы. Передайте оба списка функции write_answer_3.\n",
    "\n",
    "Набор данных состоит из 4 признаков, посчитанных для 150 ирисов. Каждый из них принадлежит одному из трёх видов. Визуализацию проекции данного датасета на две компоненты, которые описывают наибольшую дисперсию данных, можно получить при помощи функции\n",
    "\n",
    "    plot_iris(transformed_data, target, target_names)\n",
    "    \n",
    "на вход которой требуется передать данные, преобразованные при помощи PCA, а также информацию о классах. Цвет точек отвечает одному из трёх видов ириса.\n",
    "\n",
    "Для того чтобы получить имена исходных признаков, используйте следующий список:\n",
    "\n",
    "    iris.feature_names\n",
    "    \n",
    "При подсчёте корреляций не забудьте центрировать признаки и проекции на главные компоненты (вычитать из них среднее)."
   ]
  },
  {
   "cell_type": "code",
   "execution_count": null,
   "metadata": {},
   "outputs": [],
   "source": [
    "from sklearn import datasets\n",
    "\n",
    "def plot_iris(transformed_data, target, target_names):\n",
    "    plt.figure()\n",
    "    for c, i, target_name in zip(\"rgb\", [0, 1, 2], target_names):\n",
    "        plt.scatter(transformed_data[target == i, 0],\n",
    "                    transformed_data[target == i, 1], c=c, label=target_name)\n",
    "    plt.legend()\n",
    "    plt.show()\n",
    "    \n",
    "def write_answer_3(list_pc1, list_pc2):\n",
    "    with open(\"pca_answer3.txt\", \"w\") as fout:\n",
    "        fout.write(\" \".join([str(num) for num in list_pc1]))\n",
    "        fout.write(\" \")\n",
    "        fout.write(\" \".join([str(num) for num in list_pc2]))\n",
    "\n",
    "# загрузим датасет iris\n",
    "iris = datasets.load_iris()\n",
    "data = iris.data\n",
    "target = iris.target\n",
    "target_names = iris.target_names\n",
    "\n",
    "# place your code here"
   ]
  },
  {
   "cell_type": "markdown",
   "metadata": {},
   "source": [
    "## Интерпретация главных компонент с использованием данных\n",
    "\n",
    "Рассмотрим теперь величину, которую можно проинтерпретировать, как квадрат косинуса угла между объектом выборки и главной компонентой:\n",
    "\n",
    "$$ cos^2_{ik} = \\frac{f_{ik}^2}{\\sum_{\\ell=1}^d f_{i\\ell}^2} $$\n",
    "\n",
    "где\n",
    "- i -- номер объекта\n",
    "- k -- номер главной компоненты\n",
    "- $f_{ik}$ -- модуль центрированной проекции объекта на компоненту\n",
    "\n",
    "Очевидно, что\n",
    "\n",
    "$$ \\sum_{k=1}^d cos^2_{ik} = 1 $$\n",
    "\n",
    "Это значит, что для каждого объекта мы в виде данной величины получили веса, пропорциональные вкладу, которую вносит данный объект в дисперсию каждой компоненты. Чем больше вклад, тем более значим объект для описания конкретной главной компоненты."
   ]
  },
  {
   "cell_type": "markdown",
   "metadata": {},
   "source": [
    "## Задание 4. Анализ главных компонент при помощи вкладов в их дисперсию отдельных объектов\n",
    "\n",
    "1. Загрузите датасет лиц Olivetti Faces и обучите на нём модель RandomizedPCA (используется при большом количестве признаков и работает быстрее, чем обычный PCA). Получите проекции признаков на 10 первых главных компонент.\n",
    "2. Посчитайте для каждого объекта его относительный вклад в дисперсию каждой из 10 компонент, используя формулу из предыдущего раздела (d = 10).\n",
    "3. Для каждой компоненты найдите и визуализируйте лицо, которое вносит наибольший относительный вклад в неё. Для визуализации используйте функцию\n",
    "\n",
    "        plt.imshow(image.reshape(image_shape))\n",
    "        \n",
    "4. Передайте в функцию write_answer_4 список номеров лиц с наибольшим относительным вкладом в дисперсию каждой из компонент, список начинается с 0."
   ]
  },
  {
   "cell_type": "code",
   "execution_count": null,
   "metadata": {
    "scrolled": true
   },
   "outputs": [],
   "source": [
    "from sklearn.datasets import fetch_olivetti_faces\n",
    "from sklearn.decomposition import PCA\n",
    "\n",
    "def write_answer_4(list_pc):\n",
    "    with open(\"pca_answer4.txt\", \"w\") as fout:\n",
    "        fout.write(\" \".join([str(num) for num in list_pc]))\n",
    "\n",
    "data = fetch_olivetti_faces(shuffle=True, random_state=0).data\n",
    "image_shape = (64, 64)"
   ]
  },
  {
   "cell_type": "markdown",
   "metadata": {},
   "source": [
    "## Анализ основных недостатков метода главных компонент\n",
    "\n",
    "Рассмотренные выше задачи являются, безусловно, модельными, потому что данные для них были сгенерированы в соответствии с предположениями метода главных компонент. На практике эти предположения, естественно, выполняются далеко не всегда. Рассмотрим типичные ошибки PCA, которые следует иметь в виду перед тем, как его применять."
   ]
  },
  {
   "cell_type": "markdown",
   "metadata": {},
   "source": [
    "### Направления с максимальной дисперсией в данных неортогональны\n",
    "\n",
    "Рассмотрим случай выборки, которая сгенерирована из двух вытянутых нормальных распределений:"
   ]
  },
  {
   "cell_type": "code",
   "execution_count": null,
   "metadata": {},
   "outputs": [],
   "source": [
    "C1 = np.array([[10,0],[0,0.5]])\n",
    "phi = np.pi/3\n",
    "C2 = np.dot(C1, np.array([[np.cos(phi), np.sin(phi)],\n",
    "                          [-np.sin(phi),np.cos(phi)]]))\n",
    "\n",
    "data = np.vstack([np.random.multivariate_normal(mu, C1, size=50),\n",
    "                  np.random.multivariate_normal(mu, C2, size=50)])\n",
    "plt.scatter(data[:,0], data[:,1])\n",
    "# построим истинные интересующие нас компоненты\n",
    "plt.plot(data[:,0], np.zeros(data[:,0].size), color=\"g\")\n",
    "plt.plot(data[:,0], 3**0.5*data[:,0], color=\"g\")\n",
    "# обучим модель pca и построим главные компоненты\n",
    "model = PCA(n_components=2)\n",
    "model.fit(data)\n",
    "plot_principal_components(data, model, scatter=False, legend=False)\n",
    "c_patch = mpatches.Patch(color='c', label='Principal components')\n",
    "plt.legend(handles=[g_patch, c_patch])\n",
    "plt.draw()"
   ]
  },
  {
   "cell_type": "markdown",
   "metadata": {},
   "source": [
    "В чём проблема, почему pca здесь работает плохо? Ответ прост: интересующие нас компоненты в данных коррелированны между собой (или неортогональны, в зависимости от того, какой терминологией пользоваться). Для поиска подобных преобразований требуются более сложные методы, которые уже выходят за рамки метода главных компонент.\n",
    "\n",
    "Для интересующихся: то, что можно применить непосредственно к выходу метода главных компонент, для получения подобных неортогональных преобразований, называется методами ротации. Почитать о них можно в связи с другим методом уменьшения размерности, который называется Factor Analysis (FA), но ничего не мешает их применять и к главным компонентам."
   ]
  },
  {
   "cell_type": "markdown",
   "metadata": {},
   "source": [
    "### Интересное направление в данных не совпадает с направлением максимальной дисперсии\n",
    "\n",
    "Рассмотрим пример, когда дисперсии не отражают интересующих нас направлений в данных:"
   ]
  },
  {
   "cell_type": "code",
   "execution_count": null,
   "metadata": {},
   "outputs": [],
   "source": [
    "C = np.array([[0.5,0],[0,10]])\n",
    "mu1 = np.array([-2,0])\n",
    "mu2 = np.array([2,0])\n",
    "\n",
    "data = np.vstack([np.random.multivariate_normal(mu1, C, size=50),\n",
    "                  np.random.multivariate_normal(mu2, C, size=50)])\n",
    "plt.scatter(data[:,0], data[:,1])\n",
    "# обучим модель pca и построим главные компоненты\n",
    "model = PCA(n_components=2)\n",
    "model.fit(data)\n",
    "plot_principal_components(data, model)\n",
    "plt.draw()"
   ]
  },
  {
   "cell_type": "markdown",
   "metadata": {},
   "source": [
    "Очевидно, что в данном случае метод главных компонент будет считать вертикальную компоненту более значимой для описания набора данных, чем горизонтальную. \n",
    "\n",
    "Но, например, в случае, когда данные из левого и правого кластера относятся к разным классам, для их линейной разделимости вертикальная компонента является шумовой. Несмотря на это, её метод главных компонент никогда шумовой не признает, и есть вероятность, что отбор признаков с его помощью выкинет из ваших данных значимые для решаемой вами задачи компоненты просто потому, что вдоль них значения имеют низкую дисперсию.\n",
    "\n",
    "Справляться с такими ситуациями могут некоторые другие методы уменьшения размерности данных, например, метод независимых компонент (Independent Component Analysis, ICA)."
   ]
  }
 ],
 "metadata": {
  "kernelspec": {
   "display_name": "Python 3",
   "language": "python",
   "name": "python3"
  },
  "language_info": {
   "codemirror_mode": {
    "name": "ipython",
    "version": 3
   },
   "file_extension": ".py",
   "mimetype": "text/x-python",
   "name": "python",
   "nbconvert_exporter": "python",
   "pygments_lexer": "ipython3",
   "version": "3.7.9"
  }
 },
 "nbformat": 4,
 "nbformat_minor": 1
}
